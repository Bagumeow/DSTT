{
 "cells": [
  {
   "cell_type": "markdown",
   "id": "6ceefda8",
   "metadata": {},
   "source": [
    "# BÀI TẬP ÔN GIỮA KỲ MÔN ĐẠI SỐ TUYẾN TÍNH CHO KHOA HỌC DỮ LIỆU"
   ]
  },
  {
   "cell_type": "code",
   "execution_count": 58,
   "id": "7c5eba4a",
   "metadata": {},
   "outputs": [],
   "source": [
    "import numpy as np\n",
    "from scipy import linalg\n",
    "from sympy import *"
   ]
  },
  {
   "cell_type": "markdown",
   "id": "3979a778",
   "metadata": {},
   "source": [
    "Bài 1. (4 điểm) Cho ba ma trận sau đây: Hãy dùng các thư viện có hỗ trợ sẵn của Python, hãy thực hiện các yêu cầu sau: (xem đề riêng)"
   ]
  },
  {
   "cell_type": "code",
   "execution_count": 59,
   "id": "7eb7cc6d",
   "metadata": {},
   "outputs": [],
   "source": [
    "A=np.array([[1, 2, 1, 5],\n",
    "            [0 ,3 ,0, 4],\n",
    "            [-1 ,4 ,0 ,1],\n",
    "            [2 ,-1 ,3 ,1]])\n",
    "B=np.array([[3, 5, 1, -4],\n",
    "            [0, 3, 3, 2],\n",
    "            [0, -2, 1, 1],\n",
    "            [1 ,-1, -3, 0]])"
   ]
  },
  {
   "cell_type": "code",
   "execution_count": 61,
   "id": "832ecc94",
   "metadata": {},
   "outputs": [
    {
     "name": "stdout",
     "output_type": "stream",
     "text": [
      "A+B là: \n",
      " [[ 4  7  2  1]\n",
      " [ 0  6  3  6]\n",
      " [-1  2  1  2]\n",
      " [ 3 -2  0  1]]\n"
     ]
    }
   ],
   "source": [
    "#Câu a:\n",
    "pl=A+B\n",
    "print('A+B là: \\n',pl)"
   ]
  },
  {
   "cell_type": "code",
   "execution_count": 62,
   "id": "2ec9c833",
   "metadata": {},
   "outputs": [
    {
     "name": "stdout",
     "output_type": "stream",
     "text": [
      "A dot B là :\n",
      " [[ 8  4 -7  1]\n",
      " [ 4  5 -3  6]\n",
      " [-2  6  8 12]\n",
      " [ 7  0 -1 -7]]\n"
     ]
    }
   ],
   "source": [
    "mul=A@B\n",
    "print('A dot B là :\\n',mul)"
   ]
  },
  {
   "cell_type": "code",
   "execution_count": 63,
   "id": "5f8f24c4",
   "metadata": {},
   "outputs": [
    {
     "name": "stdout",
     "output_type": "stream",
     "text": [
      "B dot A transpose là:\n",
      " [[-6 -1 13  0]\n",
      " [19 17 14  8]\n",
      " [ 2 -2 -7  6]\n",
      " [-4 -3 -5 -6]]\n"
     ]
    }
   ],
   "source": [
    "multran=B@A.T\n",
    "print('B dot A transpose là:\\n',multran)"
   ]
  },
  {
   "cell_type": "code",
   "execution_count": 64,
   "id": "c1d203c8",
   "metadata": {},
   "outputs": [
    {
     "name": "stdout",
     "output_type": "stream",
     "text": [
      "3A-4B là:\n",
      " [[ -9 -14  -1  31]\n",
      " [  0  -3 -12   4]\n",
      " [ -3  20  -4  -1]\n",
      " [  2   1  21   3]]\n"
     ]
    }
   ],
   "source": [
    "singAB=3*A-4*B\n",
    "print('3A-4B là:\\n',singAB)"
   ]
  },
  {
   "cell_type": "code",
   "execution_count": 67,
   "id": "ef4b368c",
   "metadata": {},
   "outputs": [
    {
     "name": "stdout",
     "output_type": "stream",
     "text": [
      "Det(A)= -1.0\n"
     ]
    }
   ],
   "source": [
    "# câu b:\n",
    "detA=round(linalg.det(A),4)\n",
    "print('Det(A) =',detA)"
   ]
  },
  {
   "cell_type": "code",
   "execution_count": 68,
   "id": "212de442",
   "metadata": {},
   "outputs": [
    {
     "name": "stdout",
     "output_type": "stream",
     "text": [
      "inverse(B) là:\n",
      " [[ 0.20408163  0.14285714  0.53061224  0.3877551 ]\n",
      " [-0.01020408  0.14285714 -0.32653061  0.03061224]\n",
      " [ 0.07142857  0.          0.28571429 -0.21428571]\n",
      " [-0.09183673  0.28571429  0.06122449  0.2755102 ]]\n"
     ]
    }
   ],
   "source": [
    "inv_b=linalg.inv(B)\n",
    "print('Inverse(B) là:\\n',inv_b)"
   ]
  },
  {
   "cell_type": "code",
   "execution_count": 72,
   "id": "01d76047",
   "metadata": {},
   "outputs": [
    {
     "name": "stdout",
     "output_type": "stream",
     "text": [
      "det(A.Transpose + 2I)= 91.0\n"
     ]
    }
   ],
   "source": [
    "det_ATI=round(linalg.det(A.T+2*np.identity(4)),4)\n",
    "print('det(A.Transpose + 2I)=',det_ATI)"
   ]
  },
  {
   "cell_type": "code",
   "execution_count": 73,
   "id": "fc612c5e",
   "metadata": {},
   "outputs": [
    {
     "name": "stdout",
     "output_type": "stream",
     "text": [
      "Rank(B^2)= 4\n"
     ]
    }
   ],
   "source": [
    "rank_BB=np.linalg.matrix_rank(np.linalg.matrix_power(B,2))\n",
    "print('Rank(B^2)=',rank_BB)"
   ]
  },
  {
   "cell_type": "code",
   "execution_count": 74,
   "id": "4de1f1dc",
   "metadata": {},
   "outputs": [
    {
     "name": "stdout",
     "output_type": "stream",
     "text": [
      "độ dài của vector hàng 2 của A là: 5.0\n"
     ]
    }
   ],
   "source": [
    "#câu c:\n",
    "norm_A=linalg.norm(A[1])\n",
    "print('Độ dài của vector hàng 2 của A là:',norm_A)"
   ]
  },
  {
   "cell_type": "code",
   "execution_count": 77,
   "id": "27f3fbc9",
   "metadata": {},
   "outputs": [
    {
     "name": "stdout",
     "output_type": "stream",
     "text": [
      "độ dài của vector cột 4 của B là: 4.5826\n"
     ]
    }
   ],
   "source": [
    "norm_b=linalg.norm(B[:,3])\n",
    "print('Độ dài của vector cột 4 của B là:',round(norm_b,4))"
   ]
  },
  {
   "cell_type": "code",
   "execution_count": 78,
   "id": "a29b920a",
   "metadata": {},
   "outputs": [
    {
     "name": "stdout",
     "output_type": "stream",
     "text": [
      "tổng các phần tử trên đường chéo của A = 5\n"
     ]
    }
   ],
   "source": [
    "traceA=np.trace(A)\n",
    "print('Tổng các phần tử trên đường chéo của A =',traceA)"
   ]
  },
  {
   "cell_type": "code",
   "execution_count": 79,
   "id": "8fba140a",
   "metadata": {},
   "outputs": [
    {
     "data": {
      "text/plain": [
       "array([[ 3.89795918, -4.85714286,  1.44897959, -1.12244898],\n",
       "       [-7.24489796,  9.14285714, -2.62244898,  2.30612245],\n",
       "       [ 0.71428571, -1.        ,  0.35714286, -0.14285714],\n",
       "       [ 3.79591837, -4.71428571,  1.39795918, -1.24489796]])"
      ]
     },
     "execution_count": 79,
     "metadata": {},
     "output_type": "execute_result"
    }
   ],
   "source": [
    "#câu d:\n",
    "mat1=linalg.inv(A@B)\n",
    "mat1"
   ]
  },
  {
   "cell_type": "code",
   "execution_count": 80,
   "id": "4e78fe65",
   "metadata": {
    "scrolled": true
   },
   "outputs": [
    {
     "data": {
      "text/plain": [
       "array([[ 3.89795918, -4.85714286,  1.44897959, -1.12244898],\n",
       "       [-7.24489796,  9.14285714, -2.62244898,  2.30612245],\n",
       "       [ 0.71428571, -1.        ,  0.35714286, -0.14285714],\n",
       "       [ 3.79591837, -4.71428571,  1.39795918, -1.24489796]])"
      ]
     },
     "execution_count": 80,
     "metadata": {},
     "output_type": "execute_result"
    }
   ],
   "source": [
    "mat2=linalg.inv(B)@linalg.inv(A)\n",
    "mat2"
   ]
  },
  {
   "cell_type": "code",
   "execution_count": 81,
   "id": "a5930620",
   "metadata": {},
   "outputs": [
    {
     "data": {
      "text/plain": [
       "True"
      ]
     },
     "execution_count": 81,
     "metadata": {},
     "output_type": "execute_result"
    }
   ],
   "source": [
    "np.allclose(mat1,mat2)"
   ]
  },
  {
   "cell_type": "code",
   "execution_count": 22,
   "id": "b608b427",
   "metadata": {
    "scrolled": true
   },
   "outputs": [
    {
     "data": {
      "text/plain": [
       "array([[-5, -8,  6, -3],\n",
       "       [-2, -8,  1, -2],\n",
       "       [-6, -8, -2, -6],\n",
       "       [-1,  1,  3, -9]])"
      ]
     },
     "execution_count": 22,
     "metadata": {},
     "output_type": "execute_result"
    }
   ],
   "source": [
    "#câu e:\n",
    "C= np.random.randint(-10,10,size=(4,4))\n",
    "C"
   ]
  },
  {
   "cell_type": "code",
   "execution_count": 23,
   "id": "93ed1d56",
   "metadata": {},
   "outputs": [
    {
     "data": {
      "text/plain": [
       "array([[-14,  -2, -13, -58],\n",
       "       [ -7, -19,  -5, -41],\n",
       "       [-16, -40, -23, -69],\n",
       "       [-21,  21, -31,  -7]])"
      ]
     },
     "execution_count": 23,
     "metadata": {},
     "output_type": "execute_result"
    }
   ],
   "source": [
    "C@A+B"
   ]
  },
  {
   "cell_type": "code",
   "execution_count": 83,
   "id": "1c3ceb35",
   "metadata": {
    "scrolled": true
   },
   "outputs": [
    {
     "name": "stdout",
     "output_type": "stream",
     "text": [
      "Các phân tử trên đường chéo chính là:\n",
      " [[-14  -2 -13 -58]\n",
      " [  0 -19  -5 -41]\n",
      " [  0   0 -23 -69]\n",
      " [  0   0   0  -7]]\n"
     ]
    }
   ],
   "source": [
    "triu_C=np.triu(C@A+B)\n",
    "print('Các phân tử trên đường chéo chính là:\\n',triu_C)"
   ]
  },
  {
   "cell_type": "code",
   "execution_count": 25,
   "id": "4840530f",
   "metadata": {},
   "outputs": [
    {
     "data": {
      "text/plain": [
       "array([[-14,   0,   0,   0],\n",
       "       [ -7, -19,   0,   0],\n",
       "       [-16, -40, -23,   0],\n",
       "       [-21,  21, -31,  -7]])"
      ]
     },
     "execution_count": 25,
     "metadata": {},
     "output_type": "execute_result"
    }
   ],
   "source": [
    "np.tril(C@A+B)"
   ]
  },
  {
   "cell_type": "markdown",
   "id": "55e13a47",
   "metadata": {},
   "source": [
    "**Bài 2. (2 điểm)** Đối tượng “mèo” có các thuộc tính đặc trưng \n",
    "a b c d e , , , ,\n",
    "với các trọng số là \n",
    "0.15; 0.3; 0.4; 0.05; 0.1. Ta có một danh sách đối tượng cho bởi bảng sau đây"
   ]
  },
  {
   "cell_type": "code",
   "execution_count": 26,
   "id": "7bb2146b",
   "metadata": {},
   "outputs": [],
   "source": [
    "ts =np.array([0.15, 0.3, 0.4, 0.05, 0.1])"
   ]
  },
  {
   "cell_type": "code",
   "execution_count": 27,
   "id": "deb43ec3",
   "metadata": {
    "scrolled": true
   },
   "outputs": [
    {
     "data": {
      "text/plain": [
       "array([[-2,  0,  1,  4,  1],\n",
       "       [ 3,  4,  1,  3,  2],\n",
       "       [ 2, -2,  0,  1, -3],\n",
       "       [-1,  4,  2,  0,  2],\n",
       "       [ 0, -1, -1,  3,  0]])"
      ]
     },
     "execution_count": 27,
     "metadata": {},
     "output_type": "execute_result"
    }
   ],
   "source": [
    "data=np.array([[-2, 0, 1, 4, 1],\n",
    "                 [3, 4, 1, 3, 2],\n",
    "                 [2, -2, 0, 1, -3],\n",
    "                [-1, 4, 2, 0, 2],\n",
    "                 [0, -1, -1, 3, 0]])\n",
    "data"
   ]
  },
  {
   "cell_type": "code",
   "execution_count": 29,
   "id": "a4eff901",
   "metadata": {
    "scrolled": true
   },
   "outputs": [
    {
     "data": {
      "text/plain": [
       "array([ 0.4 ,  2.4 , -0.55,  2.05, -0.55])"
      ]
     },
     "execution_count": 29,
     "metadata": {},
     "output_type": "execute_result"
    }
   ],
   "source": [
    "score =  data@ts\n",
    "score"
   ]
  },
  {
   "cell_type": "code",
   "execution_count": 41,
   "id": "fd252047",
   "metadata": {},
   "outputs": [
    {
     "data": {
      "text/plain": [
       "3"
      ]
     },
     "execution_count": 41,
     "metadata": {},
     "output_type": "execute_result"
    }
   ],
   "source": [
    "(np.select([score >=0, score < 0],['Con Mèo', 'Không phải con mèo']) == \"Con Mèo\").sum()"
   ]
  },
  {
   "cell_type": "code",
   "execution_count": 42,
   "id": "53e1d63c",
   "metadata": {},
   "outputs": [
    {
     "name": "stdout",
     "output_type": "stream",
     "text": [
      "Hình  1  là mèo\n",
      "Hình  2  là mèo\n",
      "Hình  3  không phải là mèo\n",
      "Hình  4  là mèo\n",
      "Hình  5  không phải là mèo\n",
      "Số lượng ảnh là mèo là : 3\n"
     ]
    }
   ],
   "source": [
    "summ=0\n",
    "for i in range(5):\n",
    "    if (data[i]@ts>=0):\n",
    "        print('Hình ',i+1,' là mèo')\n",
    "        summ+=1\n",
    "    else:\n",
    "        print('Hình ',i+1,' không phải là mèo')\n",
    "print('Số lượng ảnh là mèo là :',summ)"
   ]
  },
  {
   "cell_type": "markdown",
   "id": "6254488f",
   "metadata": {},
   "source": [
    "**Bài 3. (2 điểm)** Hãy giải bài toán sau bằng cách lập hệ phương trình và giải bằng thư viện \n",
    "Python thích hợp: Một công trường xây dựng lớn muốn thuê bảo vệ để trực vào ba buổi: \n",
    "sáng/chiều/tối với chi phí mỗi ngày tương ứng là 200k, 250k, 350k và phụ cấp tiền ăn lần \n",
    "lượt là 20k, 40k, 30k. Mỗi bảo vệ được thuê sẽ đăng ký trực đúng 1 trong 3 buổi trên. Biết \n",
    "rằng cần thuê tổng cộng 8 bảo vệ, chi phí tổng lương cho mỗi ngày là 2.2 triệu và phụ cấp tiền \n",
    "ăn là 250k. Tính số lượng bảo vệ cần thuê ở mỗi buổi"
   ]
  },
  {
   "cell_type": "markdown",
   "id": "85be1491",
   "metadata": {},
   "source": [
    "Ta có HPT: $\\left\\{\\begin{matrix}\n",
    "x &+y  &+z  &=8 \\\\ \n",
    " 200x&  +250y&  +350z& =2200 \\\\ \n",
    "20x & +40y & +30z & =250\n",
    "\\end{matrix}\\right.$"
   ]
  },
  {
   "cell_type": "code",
   "execution_count": 43,
   "id": "214aa191",
   "metadata": {},
   "outputs": [],
   "source": [
    "A=np.array([[1,1,1],\n",
    "           [200,250,350],\n",
    "           [20,40,30]])\n",
    "b=np.array([8,2200,250])"
   ]
  },
  {
   "cell_type": "code",
   "execution_count": 44,
   "id": "46e6bfa0",
   "metadata": {},
   "outputs": [
    {
     "data": {
      "text/plain": [
       "array([2., 3., 3.])"
      ]
     },
     "execution_count": 44,
     "metadata": {},
     "output_type": "execute_result"
    }
   ],
   "source": [
    "linalg.solve(A,b)"
   ]
  },
  {
   "cell_type": "code",
   "execution_count": 24,
   "id": "0ad1ab02",
   "metadata": {
    "scrolled": true
   },
   "outputs": [
    {
     "data": {
      "text/plain": [
       "array([2., 3., 3.])"
      ]
     },
     "execution_count": 24,
     "metadata": {},
     "output_type": "execute_result"
    }
   ],
   "source": [
    "x=linalg.inv(A)@b\n",
    "x"
   ]
  },
  {
   "cell_type": "code",
   "execution_count": 25,
   "id": "8c81416c",
   "metadata": {},
   "outputs": [
    {
     "data": {
      "text/plain": [
       "{x: 2, y: 3, z: 3}"
      ]
     },
     "execution_count": 25,
     "metadata": {},
     "output_type": "execute_result"
    }
   ],
   "source": [
    "x=Symbol('x')\n",
    "y=Symbol('y')\n",
    "z=Symbol('z')\n",
    "solve([x+y+z-8, 200*x+250*y+350*z-2200, 20*x+40*y+30*z-250],[x,y,z])"
   ]
  },
  {
   "cell_type": "markdown",
   "id": "ab393c24",
   "metadata": {},
   "source": [
    "Vậy số lượng bảo vệ cần phải thuê vào buổi sáng, trưa, tối lần lượt là 2,3,3"
   ]
  },
  {
   "cell_type": "markdown",
   "id": "03bec430",
   "metadata": {},
   "source": [
    "**bài 4. (2 điểm)** Cho ma trận:\n",
    "M . Hãy chéo hóa ma trận này bằng cách dùng thư \n",
    "viện của Python và kiểm chứng lại bằng việc tính toán từng bước: tìm trị riêng, vector riêng. \n",
    "Từ đó hãy nêu cách tính \n",
    "$M^{100}$ .<br>\n",
    "Gợi ý: để có \n",
    "$det( A-xI)= 0$\n",
    "ta khai báo Symbol x và dùng thư viện sympy để giải phương trình"
   ]
  },
  {
   "cell_type": "markdown",
   "id": "3ba83bb2",
   "metadata": {},
   "source": [
    "dùng thư viện sympy:"
   ]
  },
  {
   "cell_type": "code",
   "execution_count": 50,
   "id": "a0600b74",
   "metadata": {},
   "outputs": [
    {
     "data": {
      "text/latex": [
       "$\\displaystyle \\left[\\begin{matrix}1 & -3 & 3\\\\3 & -5 & 3\\\\6 & -6 & 4\\end{matrix}\\right]$"
      ],
      "text/plain": [
       "Matrix([\n",
       "[1, -3, 3],\n",
       "[3, -5, 3],\n",
       "[6, -6, 4]])"
      ]
     },
     "execution_count": 50,
     "metadata": {},
     "output_type": "execute_result"
    }
   ],
   "source": [
    "M= Matrix([[1,-3,3],\n",
    "            [3,-5,3],\n",
    "            [6,-6,4]])\n",
    "M"
   ]
  },
  {
   "cell_type": "code",
   "execution_count": 52,
   "id": "c5872514",
   "metadata": {
    "scrolled": true
   },
   "outputs": [
    {
     "data": {
      "text/latex": [
       "$\\displaystyle \\left[\\begin{matrix}1 & -1 & 1\\\\1 & 0 & 1\\\\0 & 1 & 2\\end{matrix}\\right]$"
      ],
      "text/plain": [
       "Matrix([\n",
       "[1, -1, 1],\n",
       "[1,  0, 1],\n",
       "[0,  1, 2]])"
      ]
     },
     "execution_count": 52,
     "metadata": {},
     "output_type": "execute_result"
    }
   ],
   "source": [
    "P,D=M.diagonalize()\n",
    "P"
   ]
  },
  {
   "cell_type": "code",
   "execution_count": 28,
   "id": "7765bd25",
   "metadata": {
    "scrolled": true
   },
   "outputs": [
    {
     "data": {
      "text/latex": [
       "$\\displaystyle \\left[\\begin{matrix}-2 & 0 & 0\\\\0 & -2 & 0\\\\0 & 0 & 4\\end{matrix}\\right]$"
      ],
      "text/plain": [
       "Matrix([\n",
       "[-2,  0, 0],\n",
       "[ 0, -2, 0],\n",
       "[ 0,  0, 4]])"
      ]
     },
     "execution_count": 28,
     "metadata": {},
     "output_type": "execute_result"
    }
   ],
   "source": [
    "D"
   ]
  },
  {
   "cell_type": "code",
   "execution_count": 29,
   "id": "9686bb14",
   "metadata": {},
   "outputs": [
    {
     "data": {
      "text/latex": [
       "$\\displaystyle \\left[\\begin{matrix}1 & -3 & 3\\\\3 & -5 & 3\\\\6 & -6 & 4\\end{matrix}\\right]$"
      ],
      "text/plain": [
       "Matrix([\n",
       "[1, -3, 3],\n",
       "[3, -5, 3],\n",
       "[6, -6, 4]])"
      ]
     },
     "execution_count": 29,
     "metadata": {},
     "output_type": "execute_result"
    }
   ],
   "source": [
    "P@D@P.inv()"
   ]
  },
  {
   "cell_type": "markdown",
   "id": "de0d845a",
   "metadata": {},
   "source": [
    "Trị riêng, vector riêng"
   ]
  },
  {
   "cell_type": "code",
   "execution_count": 54,
   "id": "6d574806",
   "metadata": {
    "scrolled": false
   },
   "outputs": [
    {
     "data": {
      "text/plain": [
       "array([[ 1, -3,  3],\n",
       "       [ 3, -5,  3],\n",
       "       [ 6, -6,  4]])"
      ]
     },
     "execution_count": 54,
     "metadata": {},
     "output_type": "execute_result"
    }
   ],
   "source": [
    "N= np.array([[1,-3,3],\n",
    "              [3,-5,3],\n",
    "              [6,-6,4]])\n",
    "N"
   ]
  },
  {
   "cell_type": "code",
   "execution_count": 31,
   "id": "a5983d68",
   "metadata": {
    "scrolled": true
   },
   "outputs": [
    {
     "data": {
      "text/plain": [
       "(array([ 4., -2., -2.]),\n",
       " array([[-0.4082,  0.244 ,  0.244 ],\n",
       "        [-0.4082, -0.4162, -0.4162],\n",
       "        [-0.8165, -0.6602, -0.6602]]))"
      ]
     },
     "execution_count": 31,
     "metadata": {},
     "output_type": "execute_result"
    }
   ],
   "source": [
    "w,v=linalg.eig(N)\n",
    "w.real,v.real.round(4)"
   ]
  },
  {
   "cell_type": "code",
   "execution_count": 32,
   "id": "20692566",
   "metadata": {
    "scrolled": false
   },
   "outputs": [
    {
     "data": {
      "text/plain": [
       "array([[ 4., -0., -0.],\n",
       "       [-0., -2., -0.],\n",
       "       [-0., -0., -2.]])"
      ]
     },
     "execution_count": 32,
     "metadata": {},
     "output_type": "execute_result"
    }
   ],
   "source": [
    "d = (linalg.inv(v)@N@v).round(4).real\n",
    "d"
   ]
  },
  {
   "cell_type": "code",
   "execution_count": 34,
   "id": "41a3e439",
   "metadata": {},
   "outputs": [
    {
     "data": {
      "text/plain": [
       "array([[ 1., -3.,  3.],\n",
       "       [ 3., -5.,  3.],\n",
       "       [ 6., -6.,  4.]])"
      ]
     },
     "execution_count": 34,
     "metadata": {},
     "output_type": "execute_result"
    }
   ],
   "source": [
    "(v@d@linalg.inv(v)).real"
   ]
  },
  {
   "cell_type": "markdown",
   "id": "2ae565ef",
   "metadata": {},
   "source": [
    "2 thư viện có thuật toán chéo hóa khác nhau nhưng vẫn chéo hóa được "
   ]
  },
  {
   "cell_type": "markdown",
   "id": "1055ad81",
   "metadata": {},
   "source": [
    "cách tính $M^{100}$"
   ]
  },
  {
   "cell_type": "markdown",
   "id": "7aae7576",
   "metadata": {},
   "source": [
    "Cách 1:Chéo hóa ma trận để tính lũy thừa"
   ]
  },
  {
   "cell_type": "code",
   "execution_count": 53,
   "id": "35b88e10",
   "metadata": {},
   "outputs": [
    {
     "data": {
      "text/latex": [
       "$\\displaystyle \\left[\\begin{matrix}1267650600228229401496703205376 & 0 & 0\\\\0 & 1267650600228229401496703205376 & 0\\\\0 & 0 & 1606938044258990275541962092341162602522202993782792835301376\\end{matrix}\\right]$"
      ],
      "text/plain": [
       "Matrix([\n",
       "[1267650600228229401496703205376,                               0,                                                             0],\n",
       "[                              0, 1267650600228229401496703205376,                                                             0],\n",
       "[                              0,                               0, 1606938044258990275541962092341162602522202993782792835301376]])"
      ]
     },
     "execution_count": 53,
     "metadata": {},
     "output_type": "execute_result"
    }
   ],
   "source": [
    "D**100"
   ]
  },
  {
   "cell_type": "code",
   "execution_count": 43,
   "id": "ea07a11d",
   "metadata": {},
   "outputs": [
    {
     "data": {
      "text/latex": [
       "$\\displaystyle \\left[\\begin{matrix}803469022129495137770981046171215126561215611592144769253376 & -803469022129495137770981046169947475960987382190648066048000 & 803469022129495137770981046169947475960987382190648066048000\\\\803469022129495137770981046169947475960987382190648066048000 & -803469022129495137770981046168679825360759152789151362842624 & 803469022129495137770981046169947475960987382190648066048000\\\\1606938044258990275541962092339894951921974764381296132096000 & -1606938044258990275541962092339894951921974764381296132096000 & 1606938044258990275541962092341162602522202993782792835301376\\end{matrix}\\right]$"
      ],
      "text/plain": [
       "Matrix([\n",
       "[ 803469022129495137770981046171215126561215611592144769253376,  -803469022129495137770981046169947475960987382190648066048000,  803469022129495137770981046169947475960987382190648066048000],\n",
       "[ 803469022129495137770981046169947475960987382190648066048000,  -803469022129495137770981046168679825360759152789151362842624,  803469022129495137770981046169947475960987382190648066048000],\n",
       "[1606938044258990275541962092339894951921974764381296132096000, -1606938044258990275541962092339894951921974764381296132096000, 1606938044258990275541962092341162602522202993782792835301376]])"
      ]
     },
     "execution_count": 43,
     "metadata": {},
     "output_type": "execute_result"
    }
   ],
   "source": [
    "A_100 = P@ (D**100) @P.inv()\n",
    "A_100"
   ]
  },
  {
   "cell_type": "markdown",
   "id": "836b241d",
   "metadata": {},
   "source": [
    "Cách 2 dùng hàm matrix_power"
   ]
  },
  {
   "cell_type": "code",
   "execution_count": 55,
   "id": "ebcccfc9",
   "metadata": {},
   "outputs": [
    {
     "data": {
      "text/plain": [
       "array([[0, 0, 0],\n",
       "       [0, 0, 0],\n",
       "       [0, 0, 0]])"
      ]
     },
     "execution_count": 55,
     "metadata": {},
     "output_type": "execute_result"
    }
   ],
   "source": [
    "np.linalg.matrix_power(N,100)"
   ]
  },
  {
   "cell_type": "code",
   "execution_count": 46,
   "id": "6c786d32",
   "metadata": {},
   "outputs": [],
   "source": [
    "M = np.array([[1, -3, 3], [3, -5, 3], [6, -6, 4]])\n",
    "x = Symbol('x')\n",
    "d = M-x*np.eye(3)\n",
    "f = d[0][0]*(d[1][1]*d[2][2] - d[1][2]*d[2][1])-\\\n",
    "     d[1][0]*(d[0][1]*d[2][2] - d[0][2]*d[2][1])+\\\n",
    "     d[2][0]*(d[0][1]*d[1][2] - d[0][2]*d[1][1])\n",
    "ld1, ld2 = solve(f)\n",
    "ld1, ld2\n",
    "T=np.mat([i.subs(x, -2) for i in d.reshape(-1)]).reshape(3,3)\n",
    "x1, x2, x3 = symbols('x1 x2 x3')\n",
    "P=linsolve(Matrix(T), (x1, x2, x3))\n"
   ]
  },
  {
   "cell_type": "code",
   "execution_count": 47,
   "id": "ec007188",
   "metadata": {},
   "outputs": [
    {
     "data": {
      "text/plain": [
       "matrix([[3.00000000000000, -3, 3],\n",
       "        [3, -3.00000000000000, 3],\n",
       "        [6, -6, 6.00000000000000]], dtype=object)"
      ]
     },
     "execution_count": 47,
     "metadata": {},
     "output_type": "execute_result"
    }
   ],
   "source": [
    "T"
   ]
  },
  {
   "cell_type": "code",
   "execution_count": 48,
   "id": "4b30994d",
   "metadata": {},
   "outputs": [
    {
     "data": {
      "text/latex": [
       "$\\displaystyle \\left\\{\\left( 1.0 x_{2} + 1.0, \\  x_{2}, \\  x_{3}\\right)\\right\\}$"
      ],
      "text/plain": [
       "{(1.0*x2 + 1.0, x2, x3)}"
      ]
     },
     "execution_count": 48,
     "metadata": {},
     "output_type": "execute_result"
    }
   ],
   "source": [
    "P"
   ]
  },
  {
   "cell_type": "code",
   "execution_count": null,
   "id": "84c43063",
   "metadata": {},
   "outputs": [],
   "source": []
  }
 ],
 "metadata": {
  "kernelspec": {
   "display_name": "Python 3 (ipykernel)",
   "language": "python",
   "name": "python3"
  },
  "language_info": {
   "codemirror_mode": {
    "name": "ipython",
    "version": 3
   },
   "file_extension": ".py",
   "mimetype": "text/x-python",
   "name": "python",
   "nbconvert_exporter": "python",
   "pygments_lexer": "ipython3",
   "version": "3.9.7"
  }
 },
 "nbformat": 4,
 "nbformat_minor": 5
}
