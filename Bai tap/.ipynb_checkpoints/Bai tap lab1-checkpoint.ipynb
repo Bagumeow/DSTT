{
 "cells": [
  {
   "cell_type": "code",
   "execution_count": 2,
   "id": "aec09fa2",
   "metadata": {},
   "outputs": [],
   "source": [
    "import numpy as np\n",
    "import math\n"
   ]
  },
  {
   "cell_type": "code",
   "execution_count": 72,
   "id": "fa1ecc9b",
   "metadata": {},
   "outputs": [
    {
     "name": "stdout",
     "output_type": "stream",
     "text": [
      "[[ 7  8  9  5]\n",
      " [ 8  7  4  6]\n",
      " [ 7  5  8  6]\n",
      " [ 6  8  5  4]\n",
      " [ 9  9  8  7]\n",
      " [10  8  9  8]]\n",
      "Name: A| Mean: 7.0  pass\n",
      "Name: B| Mean: 5.8  pass\n",
      "Name: C| Mean: 6.5  pass\n",
      "Name: D| Mean: 5.3  pass\n",
      "Name: E| Mean: 7.9  pass\n",
      "Name: F| Mean: 8.5  pass\n"
     ]
    }
   ],
   "source": [
    "#bài 1\n",
    "matA = np.array([[7,8,9,5],\n",
    "            [8,7,4,6],\n",
    "            [7,5,8,6],\n",
    "            [6,8,5,4],\n",
    "            [9,9,8,7],\n",
    "            [10,8,9,8]])\n",
    "print(matA)\n",
    "A=(matA[0,0]*10+matA[0,1]*20+matA[0,2]*30+matA[0,3]*40)/100\n",
    "B=(matA[1,0]*10+matA[1,1]*20+matA[1,2]*30+matA[1,3]*40)/100\n",
    "C=(matA[2,0]*10+matA[2,1]*20+matA[2,2]*30+matA[2,3]*40)/100\n",
    "D=(matA[3,0]*10+matA[3,1]*20+matA[3,2]*30+matA[3,3]*40)/100\n",
    "E=(matA[4,0]*10+matA[4,1]*20+matA[4,2]*30+matA[4,3]*40)/100\n",
    "F=(matA[5,0]*10+matA[5,1]*20+matA[5,2]*30+matA[5,3]*40)/100\n",
    "dict_score={\"A\":A,\"B\":B,\"C\":C,\"D\":D,\"E\":E,\"F\":F}\n",
    "for k,v in dict_score.items():\n",
    "    if (v>=5 ):\n",
    "        p='pass'\n",
    "    else:\n",
    "        p=''\n",
    "    print('Name: '+ k +'| Mean: '+ str(v)+'  '+p)\n"
   ]
  },
  {
   "cell_type": "code",
   "execution_count": 75,
   "id": "b8f8e459",
   "metadata": {},
   "outputs": [
    {
     "data": {
      "text/plain": [
       "array([[7. ],\n",
       "       [5.8],\n",
       "       [6.5],\n",
       "       [5.3],\n",
       "       [7.9],\n",
       "       [8.5]])"
      ]
     },
     "execution_count": 75,
     "metadata": {},
     "output_type": "execute_result"
    }
   ],
   "source": [
    "tile=np.array([[0.1,0.2,0.3,0.4]]).transpose()\n",
    "ketqua=matA.dot(tile)\n",
    "ketqua"
   ]
  },
  {
   "cell_type": "code",
   "execution_count": 76,
   "id": "e2869284",
   "metadata": {
    "scrolled": false
   },
   "outputs": [
    {
     "name": "stdout",
     "output_type": "stream",
     "text": [
      "[[5 7 8]\n",
      " [2 0 0]\n",
      " [7 7 4]]\n",
      "[[0 9 0]\n",
      " [9 9 7]\n",
      " [2 6 9]]\n"
     ]
    }
   ],
   "source": [
    "#bài 2\n",
    "mat1=np.random.randint(10,size =(3,3))\n",
    "mat2=np.random.randint(10,size = (3,3))\n",
    "print(mat1)\n",
    "print(mat2)"
   ]
  },
  {
   "cell_type": "code",
   "execution_count": 77,
   "id": "a6ba8fb9",
   "metadata": {},
   "outputs": [
    {
     "name": "stdout",
     "output_type": "stream",
     "text": [
      "Tổng phần tử của 2 ma trân là :\n",
      "40\n",
      "51\n"
     ]
    }
   ],
   "source": [
    "print('Tổng phần tử của 2 ma trân là :')\n",
    "print(mat1.sum())\n",
    "print(mat2.sum())"
   ]
  },
  {
   "cell_type": "code",
   "execution_count": 82,
   "id": "7826c3a5",
   "metadata": {},
   "outputs": [
    {
     "name": "stdout",
     "output_type": "stream",
     "text": [
      "norm của 2 ma trận là :\n",
      "11.75\n",
      "11.0\n"
     ]
    }
   ],
   "source": [
    "print('norm của 2 ma trận là :')\n",
    "print(round(np.linalg.norm(mat1[0]),2))\n",
    "print(round(np.linalg.norm(mat2[2]),2))"
   ]
  },
  {
   "cell_type": "code",
   "execution_count": 79,
   "id": "85acde78",
   "metadata": {},
   "outputs": [
    {
     "name": "stdout",
     "output_type": "stream",
     "text": [
      "[[ 5 16  8]\n",
      " [11  9  7]\n",
      " [ 9 13 13]]\n",
      "[[ 5 -2  8]\n",
      " [-7 -9 -7]\n",
      " [ 5  1 -5]]\n",
      "[[ 79 156 121]\n",
      " [  0  18   0]\n",
      " [ 71 150  85]]\n",
      "[[ 18   0   0]\n",
      " [112 112 100]\n",
      " [ 85  77  52]]\n"
     ]
    }
   ],
   "source": [
    "matC= mat1+mat2\n",
    "matD= mat1-mat2\n",
    "matE= mat1.dot(mat2)\n",
    "Etam= mat2.dot(mat1)\n",
    "print(matC)\n",
    "print(matD)\n",
    "print(matE)\n",
    "print(Etam)"
   ]
  },
  {
   "cell_type": "code",
   "execution_count": 107,
   "id": "0d0892b9",
   "metadata": {},
   "outputs": [],
   "source": [
    "#bài 3\n",
    "vec1=np.linspace(0, 100, 21)\n"
   ]
  },
  {
   "cell_type": "code",
   "execution_count": 110,
   "id": "72b512f9",
   "metadata": {},
   "outputs": [
    {
     "data": {
      "text/plain": [
       "[array([ 0.,  5., 10., 15., 20., 25., 30.]),\n",
       " array([35., 40., 45., 50., 55., 60., 65.]),\n",
       " array([ 70.,  75.,  80.,  85.,  90.,  95., 100.])]"
      ]
     },
     "execution_count": 110,
     "metadata": {},
     "output_type": "execute_result"
    }
   ],
   "source": [
    "u,v,w=np.split(vec1,3)\n",
    "np.split(vec1,3)"
   ]
  },
  {
   "cell_type": "code",
   "execution_count": 100,
   "id": "94868c59",
   "metadata": {},
   "outputs": [
    {
     "data": {
      "text/plain": [
       "array([   0.,  200.,  450.,  750., 1100., 1500., 1950.])"
      ]
     },
     "execution_count": 100,
     "metadata": {},
     "output_type": "execute_result"
    }
   ],
   "source": [
    "u*v"
   ]
  },
  {
   "cell_type": "code",
   "execution_count": 101,
   "id": "564138ba",
   "metadata": {},
   "outputs": [
    {
     "data": {
      "text/plain": [
       "30450.0"
      ]
     },
     "execution_count": 101,
     "metadata": {},
     "output_type": "execute_result"
    }
   ],
   "source": [
    "v.dot(w)"
   ]
  },
  {
   "cell_type": "code",
   "execution_count": 103,
   "id": "7103f034",
   "metadata": {},
   "outputs": [
    {
     "data": {
      "text/plain": [
       "(7,)"
      ]
     },
     "execution_count": 103,
     "metadata": {},
     "output_type": "execute_result"
    }
   ],
   "source": [
    "np.shape(u)"
   ]
  },
  {
   "cell_type": "code",
   "execution_count": 104,
   "id": "25f44d10",
   "metadata": {},
   "outputs": [
    {
     "data": {
      "text/plain": [
       "array([ 0.,  5., 10., 15., 20., 25., 30.])"
      ]
     },
     "execution_count": 104,
     "metadata": {},
     "output_type": "execute_result"
    }
   ],
   "source": [
    "u.transpose()"
   ]
  },
  {
   "cell_type": "code",
   "execution_count": 105,
   "id": "d8cbebc7",
   "metadata": {},
   "outputs": [
    {
     "data": {
      "text/plain": [
       "(7,)"
      ]
     },
     "execution_count": 105,
     "metadata": {},
     "output_type": "execute_result"
    }
   ],
   "source": [
    "np.shape(u)"
   ]
  },
  {
   "cell_type": "code",
   "execution_count": null,
   "id": "15b5b67b",
   "metadata": {},
   "outputs": [],
   "source": [
    "#chuyển vị như nhau vì vector chỉ có 1 chiều\n"
   ]
  }
 ],
 "metadata": {
  "kernelspec": {
   "display_name": "Python 3 (ipykernel)",
   "language": "python",
   "name": "python3"
  },
  "language_info": {
   "codemirror_mode": {
    "name": "ipython",
    "version": 3
   },
   "file_extension": ".py",
   "mimetype": "text/x-python",
   "name": "python",
   "nbconvert_exporter": "python",
   "pygments_lexer": "ipython3",
   "version": "3.9.7"
  }
 },
 "nbformat": 4,
 "nbformat_minor": 5
}
