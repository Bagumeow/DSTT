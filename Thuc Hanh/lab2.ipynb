{
 "cells": [
  {
   "cell_type": "markdown",
   "id": "efe3d563",
   "metadata": {},
   "source": [
    "# Matrix và hệ phương trình tuyến tính"
   ]
  },
  {
   "cell_type": "markdown",
   "id": "ec2fc7a7",
   "metadata": {},
   "source": [
    "## 1. Một số hàm xử lý vector với python"
   ]
  },
  {
   "cell_type": "code",
   "execution_count": 1,
   "id": "0af257f5",
   "metadata": {},
   "outputs": [
    {
     "data": {
      "text/plain": [
       "[30, 50, 70]"
      ]
     },
     "execution_count": 1,
     "metadata": {},
     "output_type": "execute_result"
    }
   ],
   "source": [
    "def scale(a, v):\n",
    "    return [a*vi for vi in v]\n",
    "v = [3,5,7]\n",
    "scale(10, v)"
   ]
  },
  {
   "cell_type": "code",
   "execution_count": 2,
   "id": "2e7066fe",
   "metadata": {},
   "outputs": [
    {
     "data": {
      "text/plain": [
       "[5, 9, 13]"
      ]
     },
     "execution_count": 2,
     "metadata": {},
     "output_type": "execute_result"
    }
   ],
   "source": [
    "def sumvector(v, w):\n",
    "    return [vi+wi for (vi, wi) in zip(v, w)]\n",
    "v = [3,5,7]\n",
    "w = [2,4,6]\n",
    "sumvector(v,w)"
   ]
  },
  {
   "cell_type": "code",
   "execution_count": 3,
   "id": "fd61e02e",
   "metadata": {},
   "outputs": [
    {
     "data": {
      "text/plain": [
       "68"
      ]
     },
     "execution_count": 3,
     "metadata": {},
     "output_type": "execute_result"
    }
   ],
   "source": [
    "def dotvector(v, w):\n",
    "    return sum([vi*wi for (vi, wi) in zip(v, w)])\n",
    "dotvector(v, w)"
   ]
  },
  {
   "cell_type": "code",
   "execution_count": 4,
   "id": "f8a1545a",
   "metadata": {},
   "outputs": [
    {
     "data": {
      "text/plain": [
       "56"
      ]
     },
     "execution_count": 4,
     "metadata": {},
     "output_type": "execute_result"
    }
   ],
   "source": [
    "def lenvector(v):\n",
    "    return dotvector(v,v)\n",
    "lenvector(w)"
   ]
  },
  {
   "cell_type": "markdown",
   "id": "28050858",
   "metadata": {},
   "source": [
    "## 2. Phân loại tuyến tính"
   ]
  },
  {
   "cell_type": "code",
   "execution_count": 4,
   "id": "b3b310fe",
   "metadata": {},
   "outputs": [],
   "source": [
    "import numpy as np"
   ]
  },
  {
   "cell_type": "code",
   "execution_count": 7,
   "id": "3229290a",
   "metadata": {},
   "outputs": [
    {
     "data": {
      "text/plain": [
       "array([-1,  1,  2, -3,  5, -4])"
      ]
     },
     "execution_count": 7,
     "metadata": {},
     "output_type": "execute_result"
    }
   ],
   "source": [
    "scores = np.array([-1,1,2,-3,5,-4])\n",
    "scores"
   ]
  },
  {
   "cell_type": "code",
   "execution_count": 8,
   "id": "5d5b388d",
   "metadata": {},
   "outputs": [
    {
     "data": {
      "text/plain": [
       "array([False,  True,  True, False,  True, False])"
      ]
     },
     "execution_count": 8,
     "metadata": {},
     "output_type": "execute_result"
    }
   ],
   "source": [
    "scores >0"
   ]
  },
  {
   "cell_type": "code",
   "execution_count": 9,
   "id": "50cb14de",
   "metadata": {},
   "outputs": [
    {
     "data": {
      "text/plain": [
       "array([ True, False, False,  True, False,  True])"
      ]
     },
     "execution_count": 9,
     "metadata": {},
     "output_type": "execute_result"
    }
   ],
   "source": [
    "scores<0"
   ]
  },
  {
   "cell_type": "code",
   "execution_count": 10,
   "id": "244dcd41",
   "metadata": {},
   "outputs": [
    {
     "data": {
      "text/plain": [
       "array(['So Am', 'So duong', 'So duong', 'So Am', 'So duong', 'So Am'],\n",
       "      dtype='<U11')"
      ]
     },
     "execution_count": 10,
     "metadata": {},
     "output_type": "execute_result"
    }
   ],
   "source": [
    "np.select([scores>=0,scores<0],['So duong','So Am'])"
   ]
  },
  {
   "cell_type": "code",
   "execution_count": 11,
   "id": "370bc739",
   "metadata": {},
   "outputs": [
    {
     "data": {
      "text/plain": [
       "array(['so am', 'so duong', 'so duong', 'so 0', 'so am', 'so duong',\n",
       "       'so 0', 'so am'], dtype='<U11')"
      ]
     },
     "execution_count": 11,
     "metadata": {},
     "output_type": "execute_result"
    }
   ],
   "source": [
    "scores = np.array([-1, 1, 2, 0, -3, 5, 0, -4])\n",
    "np.select([scores >0, scores ==0, scores < 0],['so duong', 'so 0', 'so am'])"
   ]
  },
  {
   "cell_type": "markdown",
   "id": "94e66384",
   "metadata": {},
   "source": [
    "## 3. Thực hành xử lý ma trận"
   ]
  },
  {
   "cell_type": "code",
   "execution_count": 3,
   "id": "05074667",
   "metadata": {},
   "outputs": [],
   "source": [
    "from scipy import linalg,sparse"
   ]
  },
  {
   "cell_type": "code",
   "execution_count": 14,
   "id": "b96d1e16",
   "metadata": {},
   "outputs": [
    {
     "data": {
      "text/plain": [
       "matrix([[3, 4],\n",
       "        [5, 6]])"
      ]
     },
     "execution_count": 14,
     "metadata": {},
     "output_type": "execute_result"
    }
   ],
   "source": [
    "D= np.mat([[3,4],[5,6]])\n",
    "D"
   ]
  },
  {
   "cell_type": "code",
   "execution_count": 15,
   "id": "5ad2ac54",
   "metadata": {},
   "outputs": [
    {
     "data": {
      "text/plain": [
       "matrix([[1, 3, 5, 8, 8, 1, 3],\n",
       "        [5, 6, 4, 6, 1, 8, 1],\n",
       "        [7, 8, 1, 7, 4, 8, 7],\n",
       "        [7, 4, 6, 2, 3, 9, 8],\n",
       "        [8, 0, 6, 8, 3, 7, 2]])"
      ]
     },
     "execution_count": 15,
     "metadata": {},
     "output_type": "execute_result"
    }
   ],
   "source": [
    "C = np.mat(np.random.randint(0,10,size=(5,7)))\n",
    "C"
   ]
  },
  {
   "cell_type": "code",
   "execution_count": 20,
   "id": "cca54530",
   "metadata": {},
   "outputs": [
    {
     "data": {
      "text/plain": [
       "matrix([[6, 6],\n",
       "        [6, 0]])"
      ]
     },
     "execution_count": 20,
     "metadata": {},
     "output_type": "execute_result"
    }
   ],
   "source": [
    "A = np.matrix(np.random.randint(0,10,size=(2,2)))\n",
    "A"
   ]
  },
  {
   "cell_type": "code",
   "execution_count": 22,
   "id": "a5bd7691",
   "metadata": {},
   "outputs": [
    {
     "data": {
      "text/plain": [
       "array([[1.+5.j, 0.+2.j, 0.+3.j],\n",
       "       [4.+0.j, 5.+0.j, 6.+0.j]])"
      ]
     },
     "execution_count": 22,
     "metadata": {},
     "output_type": "execute_result"
    }
   ],
   "source": [
    "b=np.array([(1+5j,2j,3j),[4,5,6]])\n",
    "b"
   ]
  },
  {
   "cell_type": "code",
   "execution_count": 24,
   "id": "ab432b78",
   "metadata": {},
   "outputs": [
    {
     "data": {
      "text/plain": [
       "matrix([[1.+5.j, 0.+2.j, 0.+3.j],\n",
       "        [4.+0.j, 5.+0.j, 6.+0.j]])"
      ]
     },
     "execution_count": 24,
     "metadata": {},
     "output_type": "execute_result"
    }
   ],
   "source": [
    "B= np.asmatrix(b)\n",
    "B"
   ]
  },
  {
   "cell_type": "code",
   "execution_count": 26,
   "id": "92a06890",
   "metadata": {},
   "outputs": [
    {
     "name": "stdout",
     "output_type": "stream",
     "text": [
      "[[6 6]\n",
      " [6 0]]\n",
      "[[6 6]\n",
      " [6 0]]\n"
     ]
    }
   ],
   "source": [
    "print(A.T)\n",
    "print(A.transpose())"
   ]
  },
  {
   "cell_type": "code",
   "execution_count": 29,
   "id": "55fe34ee",
   "metadata": {},
   "outputs": [
    {
     "name": "stdout",
     "output_type": "stream",
     "text": [
      "[[ 0.          0.16666667]\n",
      " [ 0.16666667 -0.16666667]]\n",
      "[[ 0.          0.16666667]\n",
      " [ 0.16666667 -0.16666667]]\n"
     ]
    }
   ],
   "source": [
    "print(A.I)\n",
    "print(linalg.inv(A))"
   ]
  },
  {
   "cell_type": "code",
   "execution_count": 30,
   "id": "de99057b",
   "metadata": {},
   "outputs": [
    {
     "data": {
      "text/plain": [
       "array([[-1,  3,  2],\n",
       "       [ 0, -2,  1],\n",
       "       [ 1,  5, -2]])"
      ]
     },
     "execution_count": 30,
     "metadata": {},
     "output_type": "execute_result"
    }
   ],
   "source": [
    "M = np.array([[-1,3,2],[0,-2,1],[1,5,-2]])\n",
    "M"
   ]
  },
  {
   "cell_type": "code",
   "execution_count": 31,
   "id": "2816f8ae",
   "metadata": {},
   "outputs": [
    {
     "data": {
      "text/plain": [
       "array([[-1,  0,  0],\n",
       "       [ 0, -2,  0],\n",
       "       [ 1,  5, -2]])"
      ]
     },
     "execution_count": 31,
     "metadata": {},
     "output_type": "execute_result"
    }
   ],
   "source": [
    "M_lower = np.tril(M)\n",
    "M_lower"
   ]
  },
  {
   "cell_type": "code",
   "execution_count": 32,
   "id": "5117b443",
   "metadata": {},
   "outputs": [
    {
     "data": {
      "text/plain": [
       "array([[-1,  3,  2],\n",
       "       [ 0, -2,  1],\n",
       "       [ 0,  0, -2]])"
      ]
     },
     "execution_count": 32,
     "metadata": {},
     "output_type": "execute_result"
    }
   ],
   "source": [
    "M_upper = np.triu(M)\n",
    "M_upper"
   ]
  },
  {
   "cell_type": "code",
   "execution_count": 33,
   "id": "f3dbddc1",
   "metadata": {},
   "outputs": [
    {
     "data": {
      "text/plain": [
       "-5"
      ]
     },
     "execution_count": 33,
     "metadata": {},
     "output_type": "execute_result"
    }
   ],
   "source": [
    "np.trace(M)"
   ]
  },
  {
   "cell_type": "code",
   "execution_count": 34,
   "id": "256e7b8c",
   "metadata": {},
   "outputs": [
    {
     "data": {
      "text/plain": [
       "array([-1, -2, -2])"
      ]
     },
     "execution_count": 34,
     "metadata": {},
     "output_type": "execute_result"
    }
   ],
   "source": [
    "v_diag = np.diag(M)\n",
    "v_diag"
   ]
  },
  {
   "cell_type": "code",
   "execution_count": 36,
   "id": "08db447f",
   "metadata": {},
   "outputs": [
    {
     "name": "stdout",
     "output_type": "stream",
     "text": [
      "[[-1  0  0]\n",
      " [ 0 -2  0]\n",
      " [ 0  0 -2]]\n"
     ]
    }
   ],
   "source": [
    "M_diag = np.diag(v_diag)\n",
    "print (M_diag)"
   ]
  },
  {
   "cell_type": "code",
   "execution_count": 39,
   "id": "95413c23",
   "metadata": {},
   "outputs": [
    {
     "data": {
      "text/plain": [
       "array([[1., 0., 0.],\n",
       "       [0., 1., 0.],\n",
       "       [0., 0., 1.]])"
      ]
     },
     "execution_count": 39,
     "metadata": {},
     "output_type": "execute_result"
    }
   ],
   "source": [
    "I3=np.identity(3)\n",
    "I3"
   ]
  },
  {
   "cell_type": "code",
   "execution_count": 1,
   "id": "9aa39aed",
   "metadata": {},
   "outputs": [
    {
     "data": {
      "text/plain": [
       "[(2, 7, -1)]"
      ]
     },
     "execution_count": 1,
     "metadata": {},
     "output_type": "execute_result"
    }
   ],
   "source": [
    "import sympy as sp\n",
    "x = sp.Symbol('x')\n",
    "y = sp.Symbol('y')\n",
    "z = sp.Symbol('z')\n",
    "sp.solve([x**2+2-6 ,x+z-1, z**2+4-5,y-7, x+z-1, 2*x**2-8, y-z-8], [x,y,z])"
   ]
  },
  {
   "cell_type": "code",
   "execution_count": 46,
   "id": "419fc39f",
   "metadata": {},
   "outputs": [
    {
     "name": "stdout",
     "output_type": "stream",
     "text": [
      "True\n",
      "False\n"
     ]
    }
   ],
   "source": [
    "x = [1,2,3]\n",
    "y = [1,2,3]\n",
    "print(all(([x[i]==y[i] for i in range (len (x))])))\n",
    "y = [1,2,4]\n",
    "print(all(([x[i]==y[i] for i in range (len (x))])))\n"
   ]
  },
  {
   "cell_type": "code",
   "execution_count": 47,
   "id": "05a907b0",
   "metadata": {},
   "outputs": [
    {
     "data": {
      "text/plain": [
       "True"
      ]
     },
     "execution_count": 47,
     "metadata": {},
     "output_type": "execute_result"
    }
   ],
   "source": [
    "\n",
    "np.array_equal([1, 2], [1, 2])"
   ]
  },
  {
   "cell_type": "code",
   "execution_count": 48,
   "id": "252b68fb",
   "metadata": {},
   "outputs": [
    {
     "data": {
      "text/plain": [
       "True"
      ]
     },
     "execution_count": 48,
     "metadata": {},
     "output_type": "execute_result"
    }
   ],
   "source": [
    "np.array_equal (np.array([1,2]), np.array([1,2]))"
   ]
  },
  {
   "cell_type": "code",
   "execution_count": 51,
   "id": "3a68a3f9",
   "metadata": {},
   "outputs": [
    {
     "data": {
      "text/plain": [
       "True"
      ]
     },
     "execution_count": 51,
     "metadata": {},
     "output_type": "execute_result"
    }
   ],
   "source": [
    "np.array_equiv([1,3],[1,3])"
   ]
  },
  {
   "cell_type": "code",
   "execution_count": 57,
   "id": "5ef839ca",
   "metadata": {},
   "outputs": [
    {
     "name": "stdout",
     "output_type": "stream",
     "text": [
      "[[6 4 4 6 2 1]\n",
      " [8 7 8 5 1 3]\n",
      " [3 3 7 9 5 6]\n",
      " [7 9 5 4 4 8]\n",
      " [7 8 3 6 3 7]]\n",
      "[[10 17  2  1 10 18]\n",
      " [23  5  3  7  4  3]\n",
      " [21 16 10 11 20 20]\n",
      " [17 20  5 11 29  9]\n",
      " [19 26 28  1  3 23]]\n"
     ]
    }
   ],
   "source": [
    "G= np.random.randint(1,10,size=(5,6))\n",
    "F= np.random.randint(1,30,size=(5,6))\n",
    "print(G)\n",
    "print(F)"
   ]
  },
  {
   "cell_type": "code",
   "execution_count": 56,
   "id": "7123c834",
   "metadata": {},
   "outputs": [
    {
     "data": {
      "text/plain": [
       "False"
      ]
     },
     "execution_count": 56,
     "metadata": {},
     "output_type": "execute_result"
    }
   ],
   "source": [
    "np.allclose(G,F)"
   ]
  },
  {
   "cell_type": "markdown",
   "id": "e0ce4826",
   "metadata": {},
   "source": [
    "### 3.2 các phép biến đổi sơ cấp trên ma trận"
   ]
  },
  {
   "cell_type": "code",
   "execution_count": 58,
   "id": "b5154605",
   "metadata": {},
   "outputs": [
    {
     "data": {
      "text/plain": [
       "array([[ 0,  1,  2,  3,  4,  5],\n",
       "       [ 6,  7,  8,  9, 10, 11],\n",
       "       [12, 13, 14, 15, 16, 17],\n",
       "       [18, 19, 20, 21, 22, 23],\n",
       "       [24, 25, 26, 27, 28, 29],\n",
       "       [30, 31, 32, 33, 34, 35]])"
      ]
     },
     "execution_count": 58,
     "metadata": {},
     "output_type": "execute_result"
    }
   ],
   "source": [
    "A = np.reshape(np.arange(0,36),(6,6))\n",
    "A"
   ]
  },
  {
   "cell_type": "code",
   "execution_count": 60,
   "id": "45514ffd",
   "metadata": {},
   "outputs": [
    {
     "data": {
      "text/plain": [
       "array([[1., 0., 0., 0., 0., 0.],\n",
       "       [0., 1., 0., 0., 0., 0.],\n",
       "       [0., 0., 1., 0., 0., 0.],\n",
       "       [0., 0., 0., 1., 0., 0.],\n",
       "       [0., 0., 0., 0., 1., 0.],\n",
       "       [0., 0., 0., 0., 0., 1.]])"
      ]
     },
     "execution_count": 60,
     "metadata": {},
     "output_type": "execute_result"
    }
   ],
   "source": [
    "I6 = np.identity(6)\n",
    "I6"
   ]
  },
  {
   "cell_type": "code",
   "execution_count": 61,
   "id": "cd5fa8a8",
   "metadata": {},
   "outputs": [
    {
     "data": {
      "text/plain": [
       "36"
      ]
     },
     "execution_count": 61,
     "metadata": {},
     "output_type": "execute_result"
    }
   ],
   "source": [
    "A.size"
   ]
  },
  {
   "cell_type": "code",
   "execution_count": 63,
   "id": "038560a0",
   "metadata": {},
   "outputs": [
    {
     "data": {
      "text/plain": [
       "array([ 0,  7, 14, 21, 28, 35])"
      ]
     },
     "execution_count": 63,
     "metadata": {},
     "output_type": "execute_result"
    }
   ],
   "source": [
    "np.matrix.diagonal(A)"
   ]
  },
  {
   "cell_type": "code",
   "execution_count": 64,
   "id": "228f0526",
   "metadata": {},
   "outputs": [
    {
     "data": {
      "text/plain": [
       "array([ 0,  7, 14, 21, 28, 35])"
      ]
     },
     "execution_count": 64,
     "metadata": {},
     "output_type": "execute_result"
    }
   ],
   "source": [
    "np.diag(A)"
   ]
  },
  {
   "cell_type": "code",
   "execution_count": 65,
   "id": "09aba1a9",
   "metadata": {},
   "outputs": [
    {
     "data": {
      "text/plain": [
       "array([[ 1.,  1.,  2.,  3.,  4.,  5.],\n",
       "       [ 6.,  8.,  8.,  9., 10., 11.],\n",
       "       [12., 13., 15., 15., 16., 17.],\n",
       "       [18., 19., 20., 22., 22., 23.],\n",
       "       [24., 25., 26., 27., 29., 29.],\n",
       "       [30., 31., 32., 33., 34., 36.]])"
      ]
     },
     "execution_count": 65,
     "metadata": {},
     "output_type": "execute_result"
    }
   ],
   "source": [
    "A=A+I6\n",
    "A"
   ]
  },
  {
   "cell_type": "code",
   "execution_count": 66,
   "id": "6bb1c470",
   "metadata": {},
   "outputs": [
    {
     "data": {
      "text/plain": [
       "array([1, 2, 3, 4, 5, 6])"
      ]
     },
     "execution_count": 66,
     "metadata": {},
     "output_type": "execute_result"
    }
   ],
   "source": [
    "vecB=np.arange(1,7)\n",
    "vecB"
   ]
  },
  {
   "cell_type": "code",
   "execution_count": 68,
   "id": "14dd4922",
   "metadata": {},
   "outputs": [
    {
     "data": {
      "text/plain": [
       "array([ 71., 198., 325., 452., 579., 706.])"
      ]
     },
     "execution_count": 68,
     "metadata": {},
     "output_type": "execute_result"
    }
   ],
   "source": [
    "C = np.matmul(A,vecB)\n",
    "C"
   ]
  },
  {
   "cell_type": "code",
   "execution_count": 69,
   "id": "13c5477f",
   "metadata": {},
   "outputs": [
    {
     "data": {
      "text/plain": [
       "array([ 71., 198., 325., 452., 579., 706.])"
      ]
     },
     "execution_count": 69,
     "metadata": {},
     "output_type": "execute_result"
    }
   ],
   "source": [
    "A.dot(vecB)"
   ]
  },
  {
   "cell_type": "code",
   "execution_count": 71,
   "id": "f02db3d4",
   "metadata": {},
   "outputs": [
    {
     "data": {
      "text/plain": [
       "matrix([[1., 2., 3., 4., 5., 6.],\n",
       "        [1., 0., 1., 0., 1., 0.]])"
      ]
     },
     "execution_count": 71,
     "metadata": {},
     "output_type": "execute_result"
    }
   ],
   "source": [
    "D=np.mat([[1,2,3,4,5,6],\n",
    "          [1,0,1,0,1,0]],dtype=float)\n",
    "D"
   ]
  },
  {
   "cell_type": "code",
   "execution_count": 72,
   "id": "9b1bcb4f",
   "metadata": {},
   "outputs": [
    {
     "ename": "ValueError",
     "evalue": "shapes (6,6) and (2,6) not aligned: 6 (dim 1) != 2 (dim 0)",
     "output_type": "error",
     "traceback": [
      "\u001b[1;31m---------------------------------------------------------------------------\u001b[0m",
      "\u001b[1;31mValueError\u001b[0m                                Traceback (most recent call last)",
      "\u001b[1;32m~\\AppData\\Local\\Temp/ipykernel_13080/2818565093.py\u001b[0m in \u001b[0;36m<module>\u001b[1;34m\u001b[0m\n\u001b[1;32m----> 1\u001b[1;33m \u001b[0mE\u001b[0m \u001b[1;33m=\u001b[0m \u001b[0mA\u001b[0m\u001b[1;33m.\u001b[0m\u001b[0mdot\u001b[0m\u001b[1;33m(\u001b[0m\u001b[0mD\u001b[0m\u001b[1;33m)\u001b[0m\u001b[1;33m\u001b[0m\u001b[1;33m\u001b[0m\u001b[0m\n\u001b[0m\u001b[0;32m      2\u001b[0m \u001b[0mE\u001b[0m\u001b[1;33m\u001b[0m\u001b[1;33m\u001b[0m\u001b[0m\n",
      "\u001b[1;31mValueError\u001b[0m: shapes (6,6) and (2,6) not aligned: 6 (dim 1) != 2 (dim 0)"
     ]
    }
   ],
   "source": [
    "E = A.dot(D)\n",
    "E"
   ]
  },
  {
   "cell_type": "code",
   "execution_count": 73,
   "id": "a82f7490",
   "metadata": {},
   "outputs": [
    {
     "data": {
      "text/plain": [
       "matrix([[421., 443., 465., 487., 509., 531.],\n",
       "        [ 37.,  39.,  43.,  45.,  49.,  51.]])"
      ]
     },
     "execution_count": 73,
     "metadata": {},
     "output_type": "execute_result"
    }
   ],
   "source": [
    "D.dot(A)"
   ]
  },
  {
   "cell_type": "code",
   "execution_count": 74,
   "id": "85938c3b",
   "metadata": {},
   "outputs": [
    {
     "data": {
      "text/plain": [
       "matrix([[1., 1.],\n",
       "        [2., 0.],\n",
       "        [3., 1.],\n",
       "        [4., 0.],\n",
       "        [5., 1.],\n",
       "        [6., 0.]])"
      ]
     },
     "execution_count": 74,
     "metadata": {},
     "output_type": "execute_result"
    }
   ],
   "source": [
    "F = np.mat([[1,1],[2,0],[3,1],[4,0],[5,1],[6,0]],dtype=float)\n",
    "F"
   ]
  },
  {
   "cell_type": "code",
   "execution_count": 75,
   "id": "3f32054f",
   "metadata": {},
   "outputs": [
    {
     "data": {
      "text/plain": [
       "matrix([[ 71.,   7.],\n",
       "        [198.,  24.],\n",
       "        [325.,  43.],\n",
       "        [452.,  60.],\n",
       "        [579.,  79.],\n",
       "        [706.,  96.]])"
      ]
     },
     "execution_count": 75,
     "metadata": {},
     "output_type": "execute_result"
    }
   ],
   "source": [
    "G=A.dot(F)\n",
    "G"
   ]
  },
  {
   "cell_type": "code",
   "execution_count": 77,
   "id": "662b3712",
   "metadata": {},
   "outputs": [],
   "source": [
    "A = np.asmatrix(A)"
   ]
  },
  {
   "cell_type": "code",
   "execution_count": 78,
   "id": "07bd7903",
   "metadata": {},
   "outputs": [
    {
     "name": "stdout",
     "output_type": "stream",
     "text": [
      "[[ 0.37022901 -0.45610687 -0.28244275 -0.10877863  0.0648855   0.23854962]\n",
      " [-0.44656489  0.65839695 -0.23664122 -0.13167939 -0.02671756  0.07824427]\n",
      " [-0.26335878 -0.22709924  0.80916031 -0.15458015 -0.11832061 -0.08206107]\n",
      " [-0.08015267 -0.11259542 -0.14503817  0.82251908 -0.20992366 -0.24236641]\n",
      " [ 0.10305344  0.0019084  -0.09923664 -0.20038168  0.69847328 -0.40267176]\n",
      " [ 0.28625954  0.11641221 -0.05343511 -0.22328244 -0.39312977  0.4370229 ]]\n",
      "[[ 0.37022901 -0.45610687 -0.28244275 -0.10877863  0.0648855   0.23854962]\n",
      " [-0.44656489  0.65839695 -0.23664122 -0.13167939 -0.02671756  0.07824427]\n",
      " [-0.26335878 -0.22709924  0.80916031 -0.15458015 -0.11832061 -0.08206107]\n",
      " [-0.08015267 -0.11259542 -0.14503817  0.82251908 -0.20992366 -0.24236641]\n",
      " [ 0.10305344  0.0019084  -0.09923664 -0.20038168  0.69847328 -0.40267176]\n",
      " [ 0.28625954  0.11641221 -0.05343511 -0.22328244 -0.39312977  0.4370229 ]]\n"
     ]
    }
   ],
   "source": [
    "print(A.I)\n",
    "print(np.linalg.inv(A))"
   ]
  },
  {
   "cell_type": "code",
   "execution_count": 79,
   "id": "4f9a6c19",
   "metadata": {},
   "outputs": [
    {
     "data": {
      "text/plain": [
       "matrix([[ 1.,  1.,  2.,  3.,  4.,  5.],\n",
       "        [ 6.,  8.,  8.,  9., 10., 11.],\n",
       "        [12., 13., 15., 15., 16., 17.],\n",
       "        [18., 19., 20., 22., 22., 23.],\n",
       "        [24., 25., 26., 27., 29., 29.],\n",
       "        [30., 31., 32., 33., 34., 36.]])"
      ]
     },
     "execution_count": 79,
     "metadata": {},
     "output_type": "execute_result"
    }
   ],
   "source": [
    "np.linalg.inv(np.linalg.inv(A))\n"
   ]
  },
  {
   "cell_type": "markdown",
   "id": "6413e5f2",
   "metadata": {},
   "source": [
    "## 4.Bài toán ứng dụng - Fibonacci"
   ]
  },
  {
   "cell_type": "code",
   "execution_count": 86,
   "id": "be1bdef7",
   "metadata": {},
   "outputs": [
    {
     "name": "stdout",
     "output_type": "stream",
     "text": [
      "[[1 1]\n",
      " [1 0]] [1 0]\n",
      "[1 1]\n",
      "[2 1]\n",
      "[3 2]\n",
      "[5 3]\n",
      "[8 5]\n",
      "[13  8]\n",
      "[21 13]\n",
      "[34 21]\n",
      "[55 34]\n",
      "[89 55]\n"
     ]
    }
   ],
   "source": [
    "A = np.array( [ [1,1], [1,0]])\n",
    "b = np.array([1, 0])\n",
    "print(A,b)\n",
    "n = 10\n",
    "for i in range(n):\n",
    "    b = A.dot(b)\n",
    "    print(b)"
   ]
  },
  {
   "cell_type": "markdown",
   "id": "587066e7",
   "metadata": {},
   "source": [
    "## 5. Hệ Phương trình"
   ]
  },
  {
   "cell_type": "markdown",
   "id": "1a130f37",
   "metadata": {},
   "source": [
    "### 5.1. Làm quen với hpt"
   ]
  },
  {
   "cell_type": "code",
   "execution_count": 92,
   "id": "1aff56bc",
   "metadata": {},
   "outputs": [
    {
     "name": "stdout",
     "output_type": "stream",
     "text": [
      "[[ 1 -1  0  0]\n",
      " [ 0  1 -1  0]\n",
      " [ 0  0  1 -1]\n",
      " [-1  0  0  1]]\n",
      "[[-160]\n",
      " [ 240]\n",
      " [-600]\n",
      " [ 520]]\n"
     ]
    },
    {
     "data": {
      "text/plain": [
       "(None, None)"
      ]
     },
     "execution_count": 92,
     "metadata": {},
     "output_type": "execute_result"
    }
   ],
   "source": [
    "A = np.matrix([[1,-1,0,0],[0,1,-1,0],[0,0,1,-1],[-1,0,0,1]])\n",
    "b = np.matrix([[-160],[240],[-600],[520]])\n",
    "print(A),print(b)"
   ]
  },
  {
   "cell_type": "code",
   "execution_count": 102,
   "id": "c913da0a",
   "metadata": {},
   "outputs": [],
   "source": [
    "C = np.matrix([[-1,0,0,1],\n",
    "               [1,-1,0,0],\n",
    "               [0,1,-1,0],\n",
    "               [0,0,1,-1]])"
   ]
  },
  {
   "cell_type": "code",
   "execution_count": 96,
   "id": "2eaabadc",
   "metadata": {},
   "outputs": [
    {
     "data": {
      "text/plain": [
       "0.0"
      ]
     },
     "execution_count": 96,
     "metadata": {},
     "output_type": "execute_result"
    }
   ],
   "source": [
    "np.linalg.det(A)"
   ]
  },
  {
   "cell_type": "code",
   "execution_count": 103,
   "id": "d059aaaa",
   "metadata": {},
   "outputs": [
    {
     "data": {
      "text/plain": [
       "0.0"
      ]
     },
     "execution_count": 103,
     "metadata": {},
     "output_type": "execute_result"
    }
   ],
   "source": [
    "np.linalg.det(C)"
   ]
  },
  {
   "cell_type": "code",
   "execution_count": 106,
   "id": "7c908737",
   "metadata": {},
   "outputs": [],
   "source": [
    "C_nd=np.invert(C)"
   ]
  },
  {
   "cell_type": "code",
   "execution_count": 95,
   "id": "448e9572",
   "metadata": {},
   "outputs": [
    {
     "data": {
      "text/plain": [
       "matrix([[-2,  0, -1, -1],\n",
       "        [-1, -2,  0, -1],\n",
       "        [-1, -1, -2,  0],\n",
       "        [ 0, -1, -1, -2]], dtype=int32)"
      ]
     },
     "execution_count": 95,
     "metadata": {},
     "output_type": "execute_result"
    }
   ],
   "source": [
    "A_nd= np.invert(A)\n",
    "A_nd"
   ]
  },
  {
   "cell_type": "code",
   "execution_count": 99,
   "id": "b9b27737",
   "metadata": {},
   "outputs": [
    {
     "data": {
      "text/plain": [
       "matrix([[ 400],\n",
       "        [-840],\n",
       "        [1120],\n",
       "        [-680]])"
      ]
     },
     "execution_count": 99,
     "metadata": {},
     "output_type": "execute_result"
    }
   ],
   "source": [
    "X= A_nd.dot(b)\n",
    "X"
   ]
  },
  {
   "cell_type": "code",
   "execution_count": 101,
   "id": "dbedce43",
   "metadata": {},
   "outputs": [
    {
     "data": {
      "text/plain": [
       "matrix([[ 400],\n",
       "        [-840],\n",
       "        [1120],\n",
       "        [-680]])"
      ]
     },
     "execution_count": 101,
     "metadata": {},
     "output_type": "execute_result"
    }
   ],
   "source": [
    "A_nd.dot(b)"
   ]
  },
  {
   "cell_type": "code",
   "execution_count": 108,
   "id": "1e2929c9",
   "metadata": {},
   "outputs": [
    {
     "data": {
      "text/plain": [
       "matrix([[-680],\n",
       "        [ 400],\n",
       "        [-840],\n",
       "        [1120]])"
      ]
     },
     "execution_count": 108,
     "metadata": {},
     "output_type": "execute_result"
    }
   ],
   "source": [
    "X=C_nd.dot(b)\n",
    "X"
   ]
  },
  {
   "cell_type": "markdown",
   "id": "ef08e1f6",
   "metadata": {},
   "source": [
    "#### bài tập"
   ]
  },
  {
   "cell_type": "markdown",
   "id": "8b13d44b",
   "metadata": {},
   "source": [
    "$Problem 1$. Find the point of intersection of the\n",
    "lines $x - y = -2$ and $2x +3y = 6$ in $\\mathbb{R}^2$ ?.<br>\n",
    "$$\\left \\{ x - y = -2  \\right \\}$$\n",
    "$$\\left \\{ 2x+3y=6  \\right \\}$$"
   ]
  },
  {
   "cell_type": "code",
   "execution_count": 131,
   "id": "39cbb30a",
   "metadata": {},
   "outputs": [
    {
     "name": "stdout",
     "output_type": "stream",
     "text": [
      "[[ 1. -1.]\n",
      " [ 2.  3.]]\n"
     ]
    },
    {
     "data": {
      "text/plain": [
       "array([-2.,  6.])"
      ]
     },
     "execution_count": 131,
     "metadata": {},
     "output_type": "execute_result"
    }
   ],
   "source": [
    "#problen 1 :\n",
    "A = np.mat([[1,-1],\n",
    "            [2,3]],dtype=float)\n",
    "b = np.array([-2,6],dtype=float)\n",
    "print(A)\n",
    "b"
   ]
  },
  {
   "cell_type": "code",
   "execution_count": 126,
   "id": "6f2b484b",
   "metadata": {},
   "outputs": [
    {
     "data": {
      "text/plain": [
       "5.000000000000001"
      ]
     },
     "execution_count": 126,
     "metadata": {},
     "output_type": "execute_result"
    }
   ],
   "source": [
    "np.linalg.det(A)"
   ]
  },
  {
   "cell_type": "code",
   "execution_count": 129,
   "id": "17a1c123",
   "metadata": {},
   "outputs": [
    {
     "data": {
      "text/plain": [
       "matrix([[ 0.6,  0.2],\n",
       "        [-0.4,  0.2]])"
      ]
     },
     "execution_count": 129,
     "metadata": {},
     "output_type": "execute_result"
    }
   ],
   "source": [
    "A_cv= A.I\n",
    "A_cv"
   ]
  },
  {
   "cell_type": "code",
   "execution_count": 139,
   "id": "720e5c72",
   "metadata": {},
   "outputs": [
    {
     "data": {
      "text/plain": [
       "array([[-0.,  2.]])"
      ]
     },
     "execution_count": 139,
     "metadata": {},
     "output_type": "execute_result"
    }
   ],
   "source": [
    "X= A_cv.dot(b)\n",
    "np.around(X,4)"
   ]
  },
  {
   "cell_type": "code",
   "execution_count": 118,
   "id": "494f108e",
   "metadata": {},
   "outputs": [
    {
     "data": {
      "text/plain": [
       "{x: 0, y: 2}"
      ]
     },
     "execution_count": 118,
     "metadata": {},
     "output_type": "execute_result"
    }
   ],
   "source": [
    "#cau 2\n",
    "x = sp.Symbol('x')\n",
    "y = sp.Symbol('y')\n",
    "sp.solve([x-y+2, 2*x+3*y-6],[x,y])"
   ]
  },
  {
   "cell_type": "markdown",
   "id": "1d33e784",
   "metadata": {},
   "source": [
    "$Problem  2$. Find the point of intersection of the\n",
    "planes $x - y = 2, 2x - y-z = 3,$ and\n",
    "$x +y +z = 6$ in $\\mathbb{R}^3$. <br>\n",
    "$$\\left\\{x-y=2 \\right\\} $$\n",
    "$$\\left\\{2x-y-z=3 \\right\\} $$\n",
    "$$\\left\\{x+y+z=6 \\right\\} $$"
   ]
  },
  {
   "cell_type": "code",
   "execution_count": 141,
   "id": "54db7002",
   "metadata": {},
   "outputs": [
    {
     "name": "stdout",
     "output_type": "stream",
     "text": [
      "[[ 1 -1  0]\n",
      " [ 2 -1 -1]\n",
      " [ 1  1  1]]\n"
     ]
    },
    {
     "data": {
      "text/plain": [
       "array([2, 3, 6])"
      ]
     },
     "execution_count": 141,
     "metadata": {},
     "output_type": "execute_result"
    }
   ],
   "source": [
    "#problem 2:\n",
    "A = np.mat([[1,-1,0],\n",
    "            [2,-1,-1],\n",
    "            [1,1,1]])\n",
    "b= np.array([2,3,6])\n",
    "print(A)\n",
    "b"
   ]
  },
  {
   "cell_type": "code",
   "execution_count": 144,
   "id": "299a82a2",
   "metadata": {},
   "outputs": [
    {
     "data": {
      "text/plain": [
       "matrix([[ 0.        ,  0.33333333,  0.33333333],\n",
       "        [-1.        ,  0.33333333,  0.33333333],\n",
       "        [ 1.        , -0.66666667,  0.33333333]])"
      ]
     },
     "execution_count": 144,
     "metadata": {},
     "output_type": "execute_result"
    }
   ],
   "source": [
    "A.I"
   ]
  },
  {
   "cell_type": "code",
   "execution_count": 142,
   "id": "4badd2d8",
   "metadata": {},
   "outputs": [
    {
     "data": {
      "text/plain": [
       "matrix([[3., 1., 2.]])"
      ]
     },
     "execution_count": 142,
     "metadata": {},
     "output_type": "execute_result"
    }
   ],
   "source": [
    "X= (A.I).dot(b)\n",
    "X"
   ]
  },
  {
   "cell_type": "code",
   "execution_count": 143,
   "id": "3be8a847",
   "metadata": {},
   "outputs": [
    {
     "data": {
      "text/plain": [
       "{x: 3, y: 1, z: 2}"
      ]
     },
     "execution_count": 143,
     "metadata": {},
     "output_type": "execute_result"
    }
   ],
   "source": [
    "#cau2:\n",
    "x= sp.Symbol('x')\n",
    "y=sp.Symbol('y')\n",
    "z= sp.Symbol('z')\n",
    "sp.solve([x-y-2, 2*x-y-z-3, x+y+z-6],[x,y,z])"
   ]
  },
  {
   "cell_type": "markdown",
   "id": "63c0bc05",
   "metadata": {},
   "source": [
    "Method of undetermined coefficients often involves\n",
    "solving systems of linear equations.<br>\n",
    "$Problem 3$. Find a quadratic polynomial p(x)\n",
    "such that $p(1) = 4, p(2) = 3$, and $p(3) = 4.$\n",
    "Suppose that $p(x) = ax^2 + bx + c.$ Then<br>\n",
    "$p(1) = a + b+ c,$<br>\n",
    "$p(2) = 4a + 2b + c,$<br>\n",
    "$p(3) = 9a + 3b + c.$<br>\n",
    "$$\\left\\{a+b+c=4\\right\\}$$<br>\n",
    "$$\\left\\{4a+2b+c=3\\right\\}$$<br>\n",
    "$$\\left\\{9a+3b+c=4\\right\\}$$"
   ]
  },
  {
   "cell_type": "code",
   "execution_count": 147,
   "id": "79c2dd36",
   "metadata": {},
   "outputs": [
    {
     "name": "stdout",
     "output_type": "stream",
     "text": [
      "[[1 1 1]\n",
      " [4 2 1]\n",
      " [9 3 1]]\n"
     ]
    },
    {
     "data": {
      "text/plain": [
       "array([4, 3, 4])"
      ]
     },
     "execution_count": 147,
     "metadata": {},
     "output_type": "execute_result"
    }
   ],
   "source": [
    "A= np.mat([[1,1,1],\n",
    "           [4,2,1],\n",
    "           [9,3,1]])\n",
    "print(A)\n",
    "b= np.array([4,3,4])\n",
    "b"
   ]
  },
  {
   "cell_type": "code",
   "execution_count": 149,
   "id": "e843b83b",
   "metadata": {},
   "outputs": [
    {
     "data": {
      "text/plain": [
       "matrix([[ 1., -4.,  7.]])"
      ]
     },
     "execution_count": 149,
     "metadata": {},
     "output_type": "execute_result"
    }
   ],
   "source": [
    "X=(A.I).dot(b)\n",
    "X"
   ]
  },
  {
   "cell_type": "code",
   "execution_count": 151,
   "id": "dc4d8043",
   "metadata": {},
   "outputs": [
    {
     "data": {
      "text/plain": [
       "{a: 1, b: -4, c: 7}"
      ]
     },
     "execution_count": 151,
     "metadata": {},
     "output_type": "execute_result"
    }
   ],
   "source": [
    "#sympy\n",
    "a=sp.Symbol('a')\n",
    "b=sp.Symbol('b')\n",
    "c=sp.Symbol('c')\n",
    "sp.solve([a+b+c-4, 4*a+2*b+c-3, 9*a+3*b+c-4],[a,b,c])"
   ]
  },
  {
   "cell_type": "markdown",
   "id": "995c468b",
   "metadata": {},
   "source": [
    "$problem 4$ . Evaluate $$\\int_{0}^{1}\\frac{x(x-3)}{(x-1)^2(x+2)}dx$$<br>\n",
    "To evaluate the integral, we need to decompose the rational\n",
    "function $R(x) =\\frac{x(x-3)}{(x-1)^2(x+2)}$ into the sum of simple fractions:<br>\n",
    "$$R(x) = \\frac{a}{x-1}+\\frac{b}{(x-1)^2}+\\frac{c}{x-2}$$<br>\n",
    "$$     = \\frac{a(x-1)(x+2)+b(x+2)+c(x-1)^2}{(x-1)^2(x+2)}$$<br>\n",
    "$$ =\\frac{(a+ c)x² + (a + b - 2c)x + (-2a + 2b +c)}{(x-1)^2(x+2)}$$<br>\n",
    "$\\left\\{a+c=1\\right\\}$<br>\n",
    "$\\left\\{a+b-2c=-3\\right\\}$<br>\n",
    "$\\left\\{-2a+2b+c= 0\\right\\}$<br>"
   ]
  },
  {
   "cell_type": "code",
   "execution_count": 152,
   "id": "72d74e60",
   "metadata": {},
   "outputs": [
    {
     "name": "stdout",
     "output_type": "stream",
     "text": [
      "[[ 1  0  1]\n",
      " [ 1  1 -2]\n",
      " [-2  2  1]]\n"
     ]
    },
    {
     "data": {
      "text/plain": [
       "array([ 1, -3,  0])"
      ]
     },
     "execution_count": 152,
     "metadata": {},
     "output_type": "execute_result"
    }
   ],
   "source": [
    "A= np.mat([[1,0,1],\n",
    "           [1,1,-2],\n",
    "           [-2,2,1]])\n",
    "print(A)\n",
    "b = np.array([1,-3,0])\n",
    "b"
   ]
  },
  {
   "cell_type": "code",
   "execution_count": 154,
   "id": "0ab03dd1",
   "metadata": {},
   "outputs": [
    {
     "data": {
      "text/plain": [
       "matrix([[-0.11111111, -0.66666667,  1.11111111]])"
      ]
     },
     "execution_count": 154,
     "metadata": {},
     "output_type": "execute_result"
    }
   ],
   "source": [
    "X=(A.I).dot(b)\n",
    "X"
   ]
  },
  {
   "cell_type": "code",
   "execution_count": 155,
   "id": "1709fd13",
   "metadata": {
    "scrolled": true
   },
   "outputs": [
    {
     "data": {
      "text/plain": [
       "{a: -1/9, b: -2/3, c: 10/9}"
      ]
     },
     "execution_count": 155,
     "metadata": {},
     "output_type": "execute_result"
    }
   ],
   "source": [
    "#sympy\n",
    "a=sp.Symbol('a')\n",
    "b=sp.Symbol('b')\n",
    "c=sp.Symbol('c')\n",
    "sp.solve([a+c-1, a+b-2*c+3, -2*a+2*b+c],[a,b,c])"
   ]
  },
  {
   "cell_type": "markdown",
   "id": "ddc8cc62",
   "metadata": {},
   "source": [
    "Câu 3:"
   ]
  },
  {
   "cell_type": "code",
   "execution_count": 9,
   "id": "e498d4bd",
   "metadata": {
    "scrolled": true
   },
   "outputs": [
    {
     "name": "stdout",
     "output_type": "stream",
     "text": [
      "Nhap k:6\n",
      "[[2 1]\n",
      " [1 1]]\n",
      "[[3 2]\n",
      " [2 1]]\n",
      "[[5 3]\n",
      " [3 2]]\n",
      "[[8 5]\n",
      " [5 3]]\n",
      "[[13  8]\n",
      " [ 8  5]]\n"
     ]
    }
   ],
   "source": [
    "A = np.array( [ [1,1], [1,0]])\n",
    "b = np.array( [ [1,1], [1,0]])\n",
    "k = int(input('Nhap k:'))\n",
    "for i in range(1,k):\n",
    "    b = A.dot(b)\n",
    "    print(b)"
   ]
  },
  {
   "cell_type": "code",
   "execution_count": 7,
   "id": "7c80272e",
   "metadata": {},
   "outputs": [
    {
     "data": {
      "text/plain": [
       "array([[13,  8],\n",
       "       [ 8,  5]])"
      ]
     },
     "execution_count": 7,
     "metadata": {},
     "output_type": "execute_result"
    }
   ],
   "source": [
    "np.linalg.matrix_power(A,6)"
   ]
  },
  {
   "cell_type": "code",
   "execution_count": 13,
   "id": "f3c932ad",
   "metadata": {},
   "outputs": [
    {
     "name": "stdout",
     "output_type": "stream",
     "text": [
      "Nhap k:20\n",
      "[[ 8 -3]\n",
      " [ 3 -1]]\n",
      "[[21 -8]\n",
      " [ 8 -3]]\n",
      "[[ 55 -21]\n",
      " [ 21  -8]]\n",
      "[[144 -55]\n",
      " [ 55 -21]]\n",
      "[[ 377 -144]\n",
      " [ 144  -55]]\n",
      "[[ 987 -377]\n",
      " [ 377 -144]]\n",
      "[[2584 -987]\n",
      " [ 987 -377]]\n",
      "[[ 6765 -2584]\n",
      " [ 2584  -987]]\n",
      "[[17711 -6765]\n",
      " [ 6765 -2584]]\n",
      "[[ 46368 -17711]\n",
      " [ 17711  -6765]]\n",
      "[[121393 -46368]\n",
      " [ 46368 -17711]]\n",
      "[[ 317811 -121393]\n",
      " [ 121393  -46368]]\n",
      "[[ 832040 -317811]\n",
      " [ 317811 -121393]]\n",
      "[[2178309 -832040]\n",
      " [ 832040 -317811]]\n",
      "[[ 5702887 -2178309]\n",
      " [ 2178309  -832040]]\n",
      "[[14930352 -5702887]\n",
      " [ 5702887 -2178309]]\n",
      "[[ 39088169 -14930352]\n",
      " [ 14930352  -5702887]]\n",
      "[[102334155 -39088169]\n",
      " [ 39088169 -14930352]]\n",
      "[[ 267914296 -102334155]\n",
      " [ 102334155  -39088169]]\n"
     ]
    }
   ],
   "source": [
    "A = np.array( [ [3,-1], [1,0]])\n",
    "b = np.array( [ [3,-1], [1,0]])\n",
    "k = int(input('Nhap k:'))\n",
    "for i in range(1,k):\n",
    "    b = A.dot(b)\n",
    "    print(b)"
   ]
  },
  {
   "cell_type": "code",
   "execution_count": 15,
   "id": "49558f0d",
   "metadata": {},
   "outputs": [
    {
     "data": {
      "text/plain": [
       "array([[ 3, -1],\n",
       "       [ 1,  0]])"
      ]
     },
     "execution_count": 15,
     "metadata": {},
     "output_type": "execute_result"
    }
   ],
   "source": [
    "A"
   ]
  },
  {
   "cell_type": "code",
   "execution_count": 8,
   "id": "955ac62e",
   "metadata": {},
   "outputs": [
    {
     "data": {
      "text/plain": [
       "array([[ 8, -3],\n",
       "       [ 3, -1]])"
      ]
     },
     "execution_count": 8,
     "metadata": {},
     "output_type": "execute_result"
    }
   ],
   "source": [
    "A.dot(A)"
   ]
  },
  {
   "cell_type": "code",
   "execution_count": 16,
   "id": "1f7ff213",
   "metadata": {},
   "outputs": [],
   "source": [
    "n=np.linalg.matrix_power(A,18)"
   ]
  },
  {
   "cell_type": "code",
   "execution_count": 17,
   "id": "5c0059f2",
   "metadata": {},
   "outputs": [],
   "source": [
    "a=np.array([5,2])"
   ]
  },
  {
   "cell_type": "code",
   "execution_count": 19,
   "id": "68143bc8",
   "metadata": {},
   "outputs": [
    {
     "data": {
      "text/plain": [
       "array([165580141,  63245986])"
      ]
     },
     "execution_count": 19,
     "metadata": {},
     "output_type": "execute_result"
    }
   ],
   "source": [
    "n.dot(a)"
   ]
  },
  {
   "cell_type": "code",
   "execution_count": 20,
   "id": "f522cf9d",
   "metadata": {},
   "outputs": [
    {
     "data": {
      "text/plain": [
       "array([[ 8, -3],\n",
       "       [ 3, -1]])"
      ]
     },
     "execution_count": 20,
     "metadata": {},
     "output_type": "execute_result"
    }
   ],
   "source": [
    "A@A"
   ]
  },
  {
   "cell_type": "code",
   "execution_count": 21,
   "id": "88627a63",
   "metadata": {},
   "outputs": [
    {
     "data": {
      "text/plain": [
       "array([[21, -8],\n",
       "       [ 8, -3]])"
      ]
     },
     "execution_count": 21,
     "metadata": {},
     "output_type": "execute_result"
    }
   ],
   "source": [
    "A@A@A"
   ]
  },
  {
   "cell_type": "code",
   "execution_count": 22,
   "id": "6d9f675a",
   "metadata": {},
   "outputs": [
    {
     "data": {
      "text/plain": [
       "array([[102334155, -39088169],\n",
       "       [ 39088169, -14930352]])"
      ]
     },
     "execution_count": 22,
     "metadata": {},
     "output_type": "execute_result"
    }
   ],
   "source": [
    "A@n"
   ]
  },
  {
   "cell_type": "code",
   "execution_count": null,
   "id": "64c6952c",
   "metadata": {},
   "outputs": [],
   "source": []
  }
 ],
 "metadata": {
  "kernelspec": {
   "display_name": "Python 3 (ipykernel)",
   "language": "python",
   "name": "python3"
  },
  "language_info": {
   "codemirror_mode": {
    "name": "ipython",
    "version": 3
   },
   "file_extension": ".py",
   "mimetype": "text/x-python",
   "name": "python",
   "nbconvert_exporter": "python",
   "pygments_lexer": "ipython3",
   "version": "3.9.7"
  }
 },
 "nbformat": 4,
 "nbformat_minor": 5
}
