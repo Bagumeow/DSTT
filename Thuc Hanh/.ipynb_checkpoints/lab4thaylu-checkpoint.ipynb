{
 "cells": [
  {
   "cell_type": "code",
   "execution_count": 59,
   "metadata": {},
   "outputs": [],
   "source": [
    "from scipy import linalg\n",
    "import numpy as np\n",
    "from decimal import Decimal"
   ]
  },
  {
   "cell_type": "code",
   "execution_count": 41,
   "metadata": {},
   "outputs": [],
   "source": [
    "A = np.array([[1,2,-3], [2,-2,1], [3,-4,4]])\n",
    "det = linalg.det(A)\n",
    "b = np.array([1,3,2])"
   ]
  },
  {
   "cell_type": "markdown",
   "metadata": {},
   "source": [
    "**Cách 1.** Ta dùng thư viện solve có sẵn của scipy"
   ]
  },
  {
   "cell_type": "code",
   "execution_count": 17,
   "metadata": {},
   "outputs": [
    {
     "data": {
      "text/plain": [
       "array([ 0. , -2.5, -2. ])"
      ]
     },
     "execution_count": 17,
     "metadata": {},
     "output_type": "execute_result"
    }
   ],
   "source": [
    "linalg.solve(A,b)"
   ]
  },
  {
   "cell_type": "markdown",
   "metadata": {},
   "source": [
    "**Cách 2.** Ta tính từng định thức của ma trận theo quy tắc Cramer"
   ]
  },
  {
   "cell_type": "code",
   "execution_count": 42,
   "metadata": {},
   "outputs": [
    {
     "name": "stdout",
     "output_type": "stream",
     "text": [
      "Nghiem x= -2.405483220021173e-16 , y= -2.4999999999999996 , z= -2.0\n"
     ]
    }
   ],
   "source": [
    "Ax = np.array([[1,2,-3], [3,-2,1], [2,-4,4]]) #thay cột hệ số x bởi cột b\n",
    "Ay = np.array([[1,1,-3], [2,3,1], [3,2,4]])   #thay cột hệ số y bởi cột b\n",
    "Az = np.array([[1,2,1], [2,-2,3], [3,-4,2]])\n",
    "detX = linalg.det(Ax)\n",
    "detY = linalg.det(Ay)\n",
    "detZ = linalg.det(Az)\n",
    "x = detX / det\n",
    "y = detY / det\n",
    "z = detZ / det\n",
    "print(\"Nghiem\", \"x=\", x, \", y=\", y, \", z=\", z)\n",
    "#print(\"Nghiem\", \"x=\", round(x,2), \", y=\", round(y,2), \", z=\", round(z,2))"
   ]
  },
  {
   "cell_type": "markdown",
   "metadata": {},
   "source": [
    "**Ví dụ.** Quay trở lại bài viết phương trình đường thẳng xấp xỉ tập dữ liệu cho trước bằng phương pháp bình phương tối tiểu."
   ]
  },
  {
   "cell_type": "code",
   "execution_count": 157,
   "metadata": {},
   "outputs": [
    {
     "data": {
      "image/png": "[encoded data removed]",
      "text/plain": [
       "<Figure size 432x288 with 1 Axes>"
      ]
     },
     "metadata": {
      "needs_background": "light"
     },
     "output_type": "display_data"
    }
   ],
   "source": [
    "from matplotlib import pyplot as plt\n",
    "plt.plot(0,3, marker=\".\", color=\"blue\")\n",
    "plt.plot(2,3, marker=\".\", color=\"blue\")\n",
    "plt.plot(4,4, marker=\".\", color=\"blue\")\n",
    "plt.plot(-1,2, marker=\".\", color=\"blue\")\n",
    "x = np.linspace(-5,5,100)\n",
    "y = 0.33898305*x + 2.57627119\n",
    "plt.plot(x,y)\n",
    "plt.show()"
   ]
  },
  {
   "cell_type": "code",
   "execution_count": 156,
   "metadata": {},
   "outputs": [
    {
     "data": {
      "text/plain": [
       "array([0.33898305, 2.57627119])"
      ]
     },
     "execution_count": 156,
     "metadata": {},
     "output_type": "execute_result"
    }
   ],
   "source": [
    "A = np.array([[0,1],[2,1],[4,1],[-1,1]])\n",
    "b = np.array([3,3,4,2])\n",
    "b = A.transpose().dot(b) #A^T.b\n",
    "A = A.transpose().dot(A) #A --> gán lại là A^T.A --> ma trận giả nghịch đảo\n",
    "C = np.linalg.solve(A,b)\n",
    "C"
   ]
  },
  {
   "cell_type": "markdown",
   "metadata": {},
   "source": [
    "**Ví dụ.** Cho tọa độ của 5 điểm như hình bên dưới."
   ]
  },
  {
   "cell_type": "code",
   "execution_count": 149,
   "metadata": {
    "scrolled": true
   },
   "outputs": [
    {
     "data": {
      "image/png": "[encoded data removed]",
      "text/plain": [
       "<Figure size 432x288 with 1 Axes>"
      ]
     },
     "metadata": {
      "needs_background": "light"
     },
     "output_type": "display_data"
    }
   ],
   "source": [
    "plt.plot(4,0, marker=\"o\", color=\"red\")\n",
    "plt.plot(0,2, marker=\"o\", color=\"red\")\n",
    "plt.plot(-4,0, marker=\"o\", color=\"red\")\n",
    "plt.plot(0,-2, marker=\"o\", color=\"red\")\n",
    "plt.plot(2*sqrt(3),1, marker=\"o\", color=\"red\")\n",
    "plt.show()"
   ]
  },
  {
   "cell_type": "code",
   "execution_count": 152,
   "metadata": {},
   "outputs": [
    {
     "data": {
      "text/latex": [
       "$\\displaystyle - 256 \\sqrt{3} x^{2} - 1024 \\sqrt{3} y^{2} + 4096 \\sqrt{3}$"
      ],
      "text/plain": [
       "-256*sqrt(3)*x**2 - 1024*sqrt(3)*y**2 + 4096*sqrt(3)"
      ]
     },
     "execution_count": 152,
     "metadata": {},
     "output_type": "execute_result"
    }
   ],
   "source": [
    "#PT có dạng ax^2 + bxy + cy^2 + dx + ey + f = 0 --> tương tự phần tìm PT của mặt phẳng, ta cũng tính định thức\n",
    "#Với 5 điểm đã có ở trên, ta thay vào công thức tính định thức\n",
    "from sympy import *\n",
    "x, y = symbols('x y')\n",
    "MP = Matrix([[x*x,x*y,y*y,x,y,1],[16,0,0,4,0,1],[0,0,4,0,2,1],[16,0,0,-4,0,1],[0,0,4,0,-2,1],[12,2*sqrt(3),1,2*sqrt(3),1,1]])\n",
    "MP.det()"
   ]
  },
  {
   "cell_type": "code",
   "execution_count": 153,
   "metadata": {},
   "outputs": [
    {
     "data": {
      "image/png": "[encoded data removed]",
      "text/plain": [
       "<Figure size 432x288 with 1 Axes>"
      ]
     },
     "metadata": {
      "needs_background": "light"
     },
     "output_type": "display_data"
    }
   ],
   "source": [
    "x = np.linspace(-5, 5, 50)\n",
    "y = np.linspace(-5, 5, 50)\n",
    "X, Y = np.meshgrid(x, y)\n",
    "F = -256*sqrt(3)*X**2 + 0*X*Y -1024*sqrt(3)*Y**2 + 0*X - 0*Y + 4096*sqrt(3) # muốn vẽ các đường cong khác, ta cũng làm tương tự\n",
    "fig,ax = plt.subplots()\n",
    "ax.plot([-4,0,2*sqrt(3),4,0], [0,2,1,0,-2])\n",
    "ax.contour(X, Y, F, levels=[0]) # take level set corresponding to 0\n",
    "plt.show()"
   ]
  },
  {
   "cell_type": "code",
   "execution_count": null,
   "metadata": {},
   "outputs": [],
   "source": []
  }
 ],
 "metadata": {
  "kernelspec": {
   "display_name": "Python 3 (ipykernel)",
   "language": "python",
   "name": "python3"
  },
  "language_info": {
   "codemirror_mode": {
    "name": "ipython",
    "version": 3
   },
   "file_extension": ".py",
   "mimetype": "text/x-python",
   "name": "python",
   "nbconvert_exporter": "python",
   "pygments_lexer": "ipython3",
   "version": "3.9.7"
  }
 },
 "nbformat": 4,
 "nbformat_minor": 4
}
