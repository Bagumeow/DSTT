{
 "cells": [
  {
   "cell_type": "markdown",
   "id": "722048a7",
   "metadata": {},
   "source": [
    "# BÀI 6: CÁC KHÁI NIỆM: KHÔNG GIAN VECTOR,TÍCH TRONG VÀ TRỊ RIÊNG, VECTOR RIÊNG"
   ]
  },
  {
   "cell_type": "markdown",
   "id": "e11f02a9",
   "metadata": {},
   "source": [
    "### 1.2. Tích vô hướng, trực giao và ứng dụng\n"
   ]
  },
  {
   "cell_type": "code",
   "execution_count": 1,
   "id": "e69f91c7",
   "metadata": {},
   "outputs": [
    {
     "name": "stdout",
     "output_type": "stream",
     "text": [
      "32\n"
     ]
    }
   ],
   "source": [
    "import numpy as np\n",
    "a = np.array([1,2,3])\n",
    "b = np.array([4,5,6])\n",
    "tich = np.inner(a,b) # tích vô hướng\n",
    "print (tich)\n"
   ]
  },
  {
   "cell_type": "code",
   "execution_count": 2,
   "id": "9042c4dc",
   "metadata": {},
   "outputs": [
    {
     "data": {
      "text/plain": [
       "(32, 32)"
      ]
     },
     "execution_count": 2,
     "metadata": {},
     "output_type": "execute_result"
    }
   ],
   "source": [
    "np.dot(a,b),np.dot(b,a)"
   ]
  },
  {
   "cell_type": "markdown",
   "id": "16c75d80",
   "metadata": {},
   "source": [
    "#### Độ dài/chuẩn của vector:"
   ]
  },
  {
   "cell_type": "markdown",
   "id": "edca97c5",
   "metadata": {},
   "source": [
    "Chuẩn 2: ‖𝑢‖ = $\\sqrt{< 𝑢, 𝑢 >}$ (thường được sử dụng, nếu không đề cập thêm thì kí hiệu ‖𝑢‖\n",
    "là chuẩn 2)"
   ]
  },
  {
   "cell_type": "code",
   "execution_count": 3,
   "id": "42a74efc",
   "metadata": {},
   "outputs": [
    {
     "data": {
      "text/plain": [
       "3.7416573867739413"
      ]
     },
     "execution_count": 3,
     "metadata": {},
     "output_type": "execute_result"
    }
   ],
   "source": [
    "import numpy as np\n",
    "a = np.array([1,2,-3])\n",
    "np.linalg.norm(a,2)"
   ]
  },
  {
   "cell_type": "code",
   "execution_count": 4,
   "id": "55f66efb",
   "metadata": {},
   "outputs": [
    {
     "data": {
      "text/plain": [
       "3.3019272488946263"
      ]
     },
     "execution_count": 4,
     "metadata": {},
     "output_type": "execute_result"
    }
   ],
   "source": [
    "#Chuẩn 1: ‖𝑢‖1 = ∑|𝑢\n",
    "a = np.array([1,2,-3])\n",
    "np.linalg.norm(a,3)"
   ]
  },
  {
   "cell_type": "code",
   "execution_count": 5,
   "id": "c7609211",
   "metadata": {},
   "outputs": [],
   "source": [
    "def chuan(v,k):\n",
    "    tong = 0\n",
    "    for i in range (len(v)):\n",
    "             tong = tong + abs (v[i]**k)\n",
    "    ketqua = math.pow(tong, 1.0/k) # <- lay can bac k cua tong\n",
    "    return ketqua"
   ]
  },
  {
   "cell_type": "code",
   "execution_count": 6,
   "id": "177b93eb",
   "metadata": {},
   "outputs": [
    {
     "data": {
      "text/plain": [
       "6.0"
      ]
     },
     "execution_count": 6,
     "metadata": {},
     "output_type": "execute_result"
    }
   ],
   "source": [
    "import math\n",
    "a = np.array([1,2,-3])\n",
    "chuan(a, 1)\n"
   ]
  },
  {
   "cell_type": "code",
   "execution_count": 7,
   "id": "c846cc79",
   "metadata": {},
   "outputs": [
    {
     "data": {
      "text/plain": [
       "6.0"
      ]
     },
     "execution_count": 7,
     "metadata": {},
     "output_type": "execute_result"
    }
   ],
   "source": [
    " np.linalg.norm(a,1)"
   ]
  },
  {
   "cell_type": "code",
   "execution_count": 8,
   "id": "da3d342a",
   "metadata": {},
   "outputs": [
    {
     "data": {
      "text/plain": [
       "3.7416573867739413"
      ]
     },
     "execution_count": 8,
     "metadata": {},
     "output_type": "execute_result"
    }
   ],
   "source": [
    "chuan(a, 2)"
   ]
  },
  {
   "cell_type": "code",
   "execution_count": 9,
   "id": "5b202019",
   "metadata": {},
   "outputs": [
    {
     "data": {
      "text/plain": [
       "3.7416573867739413"
      ]
     },
     "execution_count": 9,
     "metadata": {},
     "output_type": "execute_result"
    }
   ],
   "source": [
    " np.linalg.norm(a,2)"
   ]
  },
  {
   "cell_type": "code",
   "execution_count": 10,
   "id": "a1b73663",
   "metadata": {},
   "outputs": [
    {
     "data": {
      "text/plain": [
       "3.3019272488946263"
      ]
     },
     "execution_count": 10,
     "metadata": {},
     "output_type": "execute_result"
    }
   ],
   "source": [
    "chuan(a, 3)"
   ]
  },
  {
   "cell_type": "code",
   "execution_count": 11,
   "id": "1ccff39d",
   "metadata": {},
   "outputs": [
    {
     "data": {
      "text/plain": [
       "3.3019272488946263"
      ]
     },
     "execution_count": 11,
     "metadata": {},
     "output_type": "execute_result"
    }
   ],
   "source": [
    " np.linalg.norm(a,3)"
   ]
  },
  {
   "cell_type": "code",
   "execution_count": 12,
   "id": "b4f0f78c",
   "metadata": {},
   "outputs": [
    {
     "data": {
      "text/plain": [
       "1.0206361019360273"
      ]
     },
     "execution_count": 12,
     "metadata": {},
     "output_type": "execute_result"
    }
   ],
   "source": [
    "chuan(a, 1000)"
   ]
  },
  {
   "cell_type": "code",
   "execution_count": 13,
   "id": "220b569b",
   "metadata": {},
   "outputs": [
    {
     "name": "stderr",
     "output_type": "stream",
     "text": [
      "C:\\ProgramData\\Anaconda3\\lib\\site-packages\\numpy\\linalg\\linalg.py:2568: RuntimeWarning: overflow encountered in power\n",
      "  absx **= ord\n"
     ]
    },
    {
     "data": {
      "text/plain": [
       "inf"
      ]
     },
     "execution_count": 13,
     "metadata": {},
     "output_type": "execute_result"
    }
   ],
   "source": [
    "np.linalg.norm(a,1000)"
   ]
  },
  {
   "cell_type": "markdown",
   "id": "480915ff",
   "metadata": {},
   "source": [
    "### 2. Tổ hợp tuyến tính"
   ]
  },
  {
   "cell_type": "markdown",
   "id": "61ee94c7",
   "metadata": {},
   "source": [
    "Bài toán Thiết kế ô tô hoặc chất hàng vào container/tàu thủy"
   ]
  },
  {
   "cell_type": "code",
   "execution_count": 14,
   "id": "4d9d242a",
   "metadata": {},
   "outputs": [
    {
     "data": {
      "text/plain": [
       "array([[ 5,  4, -4, -9],\n",
       "       [-4,  3, -3,  8],\n",
       "       [ 3, -2, -1,  6]])"
      ]
     },
     "execution_count": 14,
     "metadata": {},
     "output_type": "execute_result"
    }
   ],
   "source": [
    "import numpy as np\n",
    "m = 10\n",
    "v1 = np.array([5,-4,3])\n",
    "v2 = np.array([4,3,-2])\n",
    "v3 = np.array([-4,-3,-1])\n",
    "v4 = np.array([-9,8,6])\n",
    "mi = np.array([2,5,2,1]) \n",
    "M = np.array([v1,v2,v3,v4])\n",
    "MT = M.transpose()\n",
    "MT"
   ]
  },
  {
   "cell_type": "code",
   "execution_count": 15,
   "id": "8db88db2",
   "metadata": {},
   "outputs": [
    {
     "data": {
      "text/plain": [
       "array([1.3, 0.9, 0. ])"
      ]
     },
     "execution_count": 15,
     "metadata": {},
     "output_type": "execute_result"
    }
   ],
   "source": [
    "v = (1.0/m)*MT.dot(mi)\n",
    "v"
   ]
  },
  {
   "cell_type": "code",
   "execution_count": 16,
   "id": "57882108",
   "metadata": {},
   "outputs": [
    {
     "name": "stdout",
     "output_type": "stream",
     "text": [
      "vậy trọng tâm của các điểm là v= [1.3 0.9 0. ]\n"
     ]
    }
   ],
   "source": [
    "print('vậy trọng tâm của các điểm là v=',v)"
   ]
  },
  {
   "cell_type": "markdown",
   "id": "ef48114d",
   "metadata": {},
   "source": [
    " #### 3. Trị riêng, vector riêng của ma trận và ứng dụng"
   ]
  },
  {
   "cell_type": "code",
   "execution_count": 17,
   "id": "542f4ada",
   "metadata": {},
   "outputs": [
    {
     "data": {
      "text/plain": [
       "array([[0.98550725, 0.9855069 ],\n",
       "       [0.01449275, 0.0144931 ]])"
      ]
     },
     "execution_count": 17,
     "metadata": {},
     "output_type": "execute_result"
    }
   ],
   "source": [
    "A = np.array([[0.998,0.136],\n",
    "              [0.002,0.864]])\n",
    "v = np.array([0.95,0.05])\n",
    "A_100 = np.linalg.matrix_power(A,100)\n",
    "A_100"
   ]
  },
  {
   "cell_type": "code",
   "execution_count": 18,
   "id": "37f4b111",
   "metadata": {},
   "outputs": [
    {
     "data": {
      "text/plain": [
       "array([0.98550723, 0.01449277])"
      ]
     },
     "execution_count": 18,
     "metadata": {},
     "output_type": "execute_result"
    }
   ],
   "source": [
    "ans=A_100 @ v\n",
    "ans"
   ]
  },
  {
   "cell_type": "markdown",
   "id": "39271e64",
   "metadata": {},
   "source": [
    "#### Trạng thái cân bằng (Markov)"
   ]
  },
  {
   "cell_type": "code",
   "execution_count": 19,
   "id": "f2977562",
   "metadata": {},
   "outputs": [
    {
     "data": {
      "text/plain": [
       "array([0.98550725, 0.01449275])"
      ]
     },
     "execution_count": 19,
     "metadata": {},
     "output_type": "execute_result"
    }
   ],
   "source": [
    "from scipy import linalg\n",
    "A= np.array([[1,-68],[1,1]])\n",
    "v= np.array([0,1])\n",
    "linalg.solve(A,v)"
   ]
  },
  {
   "cell_type": "code",
   "execution_count": 24,
   "id": "24809006",
   "metadata": {},
   "outputs": [
    {
     "name": "stdout",
     "output_type": "stream",
     "text": [
      "⎧   68         ⎫\n",
      "⎨x: ──, y: 1/69⎬\n",
      "⎩   69         ⎭\n"
     ]
    }
   ],
   "source": [
    "# thử nghiệm vs sympy \n",
    "import sympy as sym\n",
    "x,y = sym.symbols('x,y')\n",
    "xy = sym.Matrix([x,y])\n",
    "A = sym.Matrix([[1,-68],[1,1]])\n",
    "v = sym.Matrix([0,1])\n",
    "ans = sym.solve([A*xy-v])\n",
    "print(sym.pretty(ans))"
   ]
  },
  {
   "cell_type": "markdown",
   "id": "bef4d87b",
   "metadata": {},
   "source": [
    "#### Trị riêng và vector riêng của ma trận"
   ]
  },
  {
   "cell_type": "code",
   "execution_count": 57,
   "id": "2c72a606",
   "metadata": {},
   "outputs": [],
   "source": [
    "A = np.array([[1,6],[5,2]])\n",
    "u= np.array([6,-5])\n",
    "ans1=A@u"
   ]
  },
  {
   "cell_type": "code",
   "execution_count": 34,
   "id": "92d769a2",
   "metadata": {},
   "outputs": [],
   "source": [
    "ans2=-4*u"
   ]
  },
  {
   "cell_type": "code",
   "execution_count": 35,
   "id": "a0a2789c",
   "metadata": {},
   "outputs": [
    {
     "data": {
      "text/plain": [
       "True"
      ]
     },
     "execution_count": 35,
     "metadata": {},
     "output_type": "execute_result"
    }
   ],
   "source": [
    "(ans1==ans2).all()"
   ]
  },
  {
   "cell_type": "code",
   "execution_count": 36,
   "id": "7e68b00f",
   "metadata": {
    "scrolled": true
   },
   "outputs": [
    {
     "data": {
      "text/plain": [
       "array([ True,  True])"
      ]
     },
     "execution_count": 36,
     "metadata": {},
     "output_type": "execute_result"
    }
   ],
   "source": [
    "np.equal(ans1,ans2)"
   ]
  },
  {
   "cell_type": "code",
   "execution_count": 58,
   "id": "88eb5550",
   "metadata": {},
   "outputs": [
    {
     "data": {
      "text/plain": [
       "array([-4.+0.j,  7.+0.j])"
      ]
     },
     "execution_count": 58,
     "metadata": {},
     "output_type": "execute_result"
    }
   ],
   "source": [
    "linalg.eigvals(A)"
   ]
  },
  {
   "cell_type": "markdown",
   "id": "50566b80",
   "metadata": {},
   "source": [
    "* Quy trình tính toán trị riêng của ma trận : $det(A - \\lambda I)=0$"
   ]
  },
  {
   "cell_type": "code",
   "execution_count": 43,
   "id": "db44e74f",
   "metadata": {},
   "outputs": [
    {
     "name": "stdout",
     "output_type": "stream",
     "text": [
      "[-7.000, 3.000]\n"
     ]
    }
   ],
   "source": [
    "x,y,Lambda = sym.symbols('x y Lambda')\n",
    "I = sym.eye(2)\n",
    "A = sym.Matrix([[2,3],[3,-6]])\n",
    "pt = sym.Eq(sym.det(Lambda*I-A),0)\n",
    "ans = sym.solve(pt)\n",
    "print([sym.N(phantu,4)for phantu in ans])"
   ]
  },
  {
   "cell_type": "code",
   "execution_count": 45,
   "id": "0bbf4ba6",
   "metadata": {},
   "outputs": [
    {
     "name": "stdout",
     "output_type": "stream",
     "text": [
      "[-7, 3]\n"
     ]
    }
   ],
   "source": [
    "print(sym.pretty(ans))"
   ]
  },
  {
   "cell_type": "markdown",
   "id": "ff56ed10",
   "metadata": {},
   "source": [
    "* Quy trình tính toán vector riêng của ma trận: $(A-\\lambda I)x=0$"
   ]
  },
  {
   "cell_type": "code",
   "execution_count": 49,
   "id": "bd0f8d82",
   "metadata": {},
   "outputs": [
    {
     "data": {
      "text/latex": [
       "$\\displaystyle \\left[\\begin{matrix}x_{1}\\\\x_{2}\\end{matrix}\\right]$"
      ],
      "text/plain": [
       "Matrix([\n",
       "[x1],\n",
       "[x2]])"
      ]
     },
     "execution_count": 49,
     "metadata": {},
     "output_type": "execute_result"
    }
   ],
   "source": [
    "x1,x2=sym.symbols('x1 x2')\n",
    "X = sym.Matrix([x1,x2])\n",
    "X"
   ]
  },
  {
   "cell_type": "code",
   "execution_count": 53,
   "id": "e37b8eb3",
   "metadata": {},
   "outputs": [
    {
     "data": {
      "text/latex": [
       "$\\displaystyle \\left[\\begin{matrix}- x_{1} + 3 x_{2}\\\\3 x_{1} - 9 x_{2}\\end{matrix}\\right]$"
      ],
      "text/plain": [
       "Matrix([\n",
       "[ -x1 + 3*x2],\n",
       "[3*x1 - 9*x2]])"
      ]
     },
     "execution_count": 53,
     "metadata": {},
     "output_type": "execute_result"
    }
   ],
   "source": [
    "vector=(A-3*I)*X\n",
    "vector"
   ]
  },
  {
   "cell_type": "code",
   "execution_count": 56,
   "id": "94fb8f65",
   "metadata": {},
   "outputs": [
    {
     "data": {
      "text/plain": [
       "'{x₁: 3⋅x₂}'"
      ]
     },
     "execution_count": 56,
     "metadata": {},
     "output_type": "execute_result"
    }
   ],
   "source": [
    "ans=sym.solve(vector)\n",
    "sym.pretty(ans)"
   ]
  },
  {
   "cell_type": "markdown",
   "id": "7ff05abc",
   "metadata": {},
   "source": [
    "#### 3.3.Ứng dụng cua trị riêng và vector riêng"
   ]
  },
  {
   "cell_type": "code",
   "execution_count": 59,
   "id": "85e98ada",
   "metadata": {},
   "outputs": [
    {
     "data": {
      "text/plain": [
       "array([[-0.3,  0.9],\n",
       "       [ 0.3,  0.1]])"
      ]
     },
     "execution_count": 59,
     "metadata": {},
     "output_type": "execute_result"
    }
   ],
   "source": [
    "A = np.array([[2,3],[3,-6]])\n",
    "D = np.array([[-7,0],[0,3]])\n",
    "P = np.array([[-1./3,3],[1,1]])\n",
    "P1 = np.linalg.inv(P)\n",
    "P1"
   ]
  },
  {
   "cell_type": "code",
   "execution_count": 60,
   "id": "4511e937",
   "metadata": {},
   "outputs": [
    {
     "data": {
      "text/plain": [
       "array([[ 2.33333333,  9.        ],\n",
       "       [-7.        ,  3.        ]])"
      ]
     },
     "execution_count": 60,
     "metadata": {},
     "output_type": "execute_result"
    }
   ],
   "source": [
    "A@P"
   ]
  },
  {
   "cell_type": "code",
   "execution_count": 61,
   "id": "7cfad3a2",
   "metadata": {},
   "outputs": [
    {
     "data": {
      "text/plain": [
       "array([[ 2.33333333,  9.        ],\n",
       "       [-7.        ,  3.        ]])"
      ]
     },
     "execution_count": 61,
     "metadata": {},
     "output_type": "execute_result"
    }
   ],
   "source": [
    "P@D"
   ]
  },
  {
   "cell_type": "markdown",
   "id": "618a8960",
   "metadata": {},
   "source": [
    "### Câu hỏi bổ sung"
   ]
  },
  {
   "cell_type": "markdown",
   "id": "68781c18",
   "metadata": {},
   "source": [
    "### Câu 1"
   ]
  },
  {
   "cell_type": "code",
   "execution_count": 63,
   "id": "88d3bbcb",
   "metadata": {},
   "outputs": [
    {
     "data": {
      "text/plain": [
       "3.7416573867739413"
      ]
     },
     "execution_count": 63,
     "metadata": {},
     "output_type": "execute_result"
    }
   ],
   "source": [
    "a = np.array([1,2,3])\n",
    "linalg.norm(a)"
   ]
  },
  {
   "cell_type": "code",
   "execution_count": 64,
   "id": "6b029334",
   "metadata": {},
   "outputs": [
    {
     "data": {
      "text/plain": [
       "3.7416573867739413"
      ]
     },
     "execution_count": 64,
     "metadata": {},
     "output_type": "execute_result"
    }
   ],
   "source": [
    "np.sqrt(a@a)"
   ]
  },
  {
   "cell_type": "code",
   "execution_count": 65,
   "id": "eac01df7",
   "metadata": {},
   "outputs": [
    {
     "data": {
      "text/plain": [
       "3.7416573867739413"
      ]
     },
     "execution_count": 65,
     "metadata": {},
     "output_type": "execute_result"
    }
   ],
   "source": [
    "np.sqrt(np.inner(a,a))"
   ]
  },
  {
   "cell_type": "code",
   "execution_count": 66,
   "id": "80c17709",
   "metadata": {},
   "outputs": [],
   "source": [
    "mag = lambda x: math.sqrt(sum(i**2 for i in x))"
   ]
  },
  {
   "cell_type": "code",
   "execution_count": 68,
   "id": "ea9a971c",
   "metadata": {},
   "outputs": [
    {
     "data": {
      "text/plain": [
       "3.7416573867739413"
      ]
     },
     "execution_count": 68,
     "metadata": {},
     "output_type": "execute_result"
    }
   ],
   "source": [
    "mag(a)"
   ]
  },
  {
   "cell_type": "markdown",
   "id": "b830d460",
   "metadata": {},
   "source": [
    "### Câu 2 "
   ]
  },
  {
   "cell_type": "code",
   "execution_count": null,
   "id": "1b6c0c1a",
   "metadata": {},
   "outputs": [],
   "source": []
  }
 ],
 "metadata": {
  "kernelspec": {
   "display_name": "Python 3 (ipykernel)",
   "language": "python",
   "name": "python3"
  },
  "language_info": {
   "codemirror_mode": {
    "name": "ipython",
    "version": 3
   },
   "file_extension": ".py",
   "mimetype": "text/x-python",
   "name": "python",
   "nbconvert_exporter": "python",
   "pygments_lexer": "ipython3",
   "version": "3.9.7"
  }
 },
 "nbformat": 4,
 "nbformat_minor": 5
}
