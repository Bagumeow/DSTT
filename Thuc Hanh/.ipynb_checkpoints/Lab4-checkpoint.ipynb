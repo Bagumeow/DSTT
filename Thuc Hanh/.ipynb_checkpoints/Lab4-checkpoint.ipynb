{
 "cells": [
  {
   "cell_type": "markdown",
   "id": "375090a4",
   "metadata": {},
   "source": [
    "# Lab4:Các vấn đề về định thức"
   ]
  },
  {
   "cell_type": "markdown",
   "id": "ba92c106",
   "metadata": {},
   "source": [
    "## 1. Định thức và các tính chất:"
   ]
  },
  {
   "cell_type": "markdown",
   "id": "40548ef7",
   "metadata": {},
   "source": [
    "### 1.1 Các tính chất của định thức ma trận:"
   ]
  },
  {
   "cell_type": "code",
   "execution_count": 2,
   "id": "493ab6d9",
   "metadata": {},
   "outputs": [],
   "source": [
    "import numpy as np \n",
    "from scipy import linalg"
   ]
  },
  {
   "cell_type": "markdown",
   "id": "6ecb02b5",
   "metadata": {},
   "source": [
    "- Tính chất 1: định thức của ma trận đơn vị $I$ bằng 1, nghĩa là:<br>\n",
    "$$det(I)=1$$"
   ]
  },
  {
   "cell_type": "markdown",
   "id": "0cdb0dff",
   "metadata": {},
   "source": [
    "- Tính chất 2: nếu thay đổi vị trí 2 dòng của ma trạn thì dấu của định thức sẽ thay đổi."
   ]
  },
  {
   "cell_type": "code",
   "execution_count": 2,
   "id": "8d89a590",
   "metadata": {},
   "outputs": [
    {
     "name": "stdout",
     "output_type": "stream",
     "text": [
      "[[1 4 2]\n",
      " [4 5 6]\n",
      " [7 8 9]]\n",
      "[[4 5 6]\n",
      " [1 4 2]\n",
      " [7 8 9]]\n",
      "15.000000000000004\n",
      "-15.000000000000005\n"
     ]
    },
    {
     "data": {
      "text/plain": [
       "(None, None, None, None)"
      ]
     },
     "execution_count": 2,
     "metadata": {},
     "output_type": "execute_result"
    }
   ],
   "source": [
    "A=np.mat([[1,4,2],[4,5,6],[7,8,9]])\n",
    "B=np.mat([[4,5,6],[1,4,2],[7,8,9]])\n",
    "print(A),print(B),print(linalg.det(A)),print(linalg.det(B))"
   ]
  },
  {
   "cell_type": "markdown",
   "id": "97272eea",
   "metadata": {},
   "source": [
    "-- Tính chất 3a: Nếu nhân một dòng với giá trị thức t thì định thức của ma trận sẽ tăng lên t lần:\n",
    "$$\\begin{vmatrix}\n",
    "ta & tb\\\\ \n",
    "c & d\n",
    "\\end{vmatrix} = \n",
    "t\\begin{vmatrix}\n",
    "a & b\\\\ \n",
    "c & d\n",
    "\\end{vmatrix}$$"
   ]
  },
  {
   "cell_type": "markdown",
   "id": "c592719a",
   "metadata": {},
   "source": [
    "**ví dụ**:"
   ]
  },
  {
   "cell_type": "code",
   "execution_count": 3,
   "id": "8e61b9e0",
   "metadata": {},
   "outputs": [
    {
     "name": "stdout",
     "output_type": "stream",
     "text": [
      "45.0\n"
     ]
    },
    {
     "data": {
      "text/plain": [
       "45.0"
      ]
     },
     "execution_count": 3,
     "metadata": {},
     "output_type": "execute_result"
    }
   ],
   "source": [
    "print(round(3*linalg.det(A),4))\n",
    "round(linalg.det(np.mat([[3*1,3*4,3*2],[4,5,6],[7,8,9]])),4)"
   ]
  },
  {
   "cell_type": "markdown",
   "id": "0bf93605",
   "metadata": {},
   "source": [
    "- Tính chất 3b: Tính tuyến tính:\n",
    "$$\\begin{vmatrix}\n",
    "a+a' & b+b'\\\\ \n",
    "c & d\n",
    "\\end{vmatrix} =\n",
    "\\begin{vmatrix}\n",
    "a & b\\\\ \n",
    "c & d\n",
    "\\end{vmatrix}+\n",
    "\\begin{vmatrix}\n",
    "a' & b'\\\\ \n",
    "c & d\n",
    "\\end{vmatrix}$$"
   ]
  },
  {
   "cell_type": "markdown",
   "id": "3e1bd57d",
   "metadata": {},
   "source": [
    "- Tính chất 4:Nếu ma trận có 2 dòng giống nhau, như vậy định thức của ma trận đó bằng 0."
   ]
  },
  {
   "cell_type": "markdown",
   "id": "6a35e303",
   "metadata": {},
   "source": [
    "**ví dụ:**"
   ]
  },
  {
   "cell_type": "code",
   "execution_count": 4,
   "id": "3b54a996",
   "metadata": {},
   "outputs": [
    {
     "data": {
      "text/plain": [
       "0"
      ]
     },
     "execution_count": 4,
     "metadata": {},
     "output_type": "execute_result"
    }
   ],
   "source": [
    "C=np.mat([[1,3,5],[6,3,4],[1,3,5]])\n",
    "round(linalg.det(C))"
   ]
  },
  {
   "cell_type": "markdown",
   "id": "dab1bc1e",
   "metadata": {},
   "source": [
    "- Tính chất 5: với 2 dòng khác nhau, lấy hiệu 2 dòng k lần thì giá trị định thức vẫn không đổi:"
   ]
  },
  {
   "cell_type": "markdown",
   "id": "0ae3a1d9",
   "metadata": {},
   "source": [
    "**ví dụ:**"
   ]
  },
  {
   "cell_type": "code",
   "execution_count": 5,
   "id": "abaa7572",
   "metadata": {},
   "outputs": [
    {
     "data": {
      "text/plain": [
       "matrix([[4, 5, 6],\n",
       "        [1, 4, 2],\n",
       "        [7, 8, 9]])"
      ]
     },
     "execution_count": 5,
     "metadata": {},
     "output_type": "execute_result"
    }
   ],
   "source": [
    "B"
   ]
  },
  {
   "cell_type": "code",
   "execution_count": 6,
   "id": "bbccb735",
   "metadata": {},
   "outputs": [
    {
     "data": {
      "text/plain": [
       "15.000000000000004"
      ]
     },
     "execution_count": 6,
     "metadata": {},
     "output_type": "execute_result"
    }
   ],
   "source": [
    "linalg.det(A)"
   ]
  },
  {
   "cell_type": "code",
   "execution_count": 7,
   "id": "fb71b904",
   "metadata": {},
   "outputs": [
    {
     "data": {
      "text/plain": [
       "array([[1, 4, 2],\n",
       "       [4, 5, 6],\n",
       "       [7, 8, 9]])"
      ]
     },
     "execution_count": 7,
     "metadata": {},
     "output_type": "execute_result"
    }
   ],
   "source": [
    "E=np.copy(A)\n",
    "E"
   ]
  },
  {
   "cell_type": "code",
   "execution_count": 8,
   "id": "f3587c90",
   "metadata": {},
   "outputs": [
    {
     "data": {
      "text/plain": [
       "array([[ 1,  4,  2],\n",
       "       [-3, -1, -4],\n",
       "       [ 7,  8,  9]])"
      ]
     },
     "execution_count": 8,
     "metadata": {},
     "output_type": "execute_result"
    }
   ],
   "source": [
    "E[1]=E[0]-E[1]\n",
    "E"
   ]
  },
  {
   "cell_type": "code",
   "execution_count": 9,
   "id": "1c7ccf07",
   "metadata": {},
   "outputs": [
    {
     "data": {
      "text/plain": [
       "-15.000000000000004"
      ]
     },
     "execution_count": 9,
     "metadata": {},
     "output_type": "execute_result"
    }
   ],
   "source": [
    "linalg.det(E)"
   ]
  },
  {
   "cell_type": "markdown",
   "id": "dbb178c2",
   "metadata": {},
   "source": [
    "- Tính chất 6: Ma trận tồn tại 1 dòng = 0 thì det sẽ bằng 0"
   ]
  },
  {
   "cell_type": "code",
   "execution_count": 10,
   "id": "7501514b",
   "metadata": {},
   "outputs": [
    {
     "data": {
      "text/plain": [
       "array([[ 1,  4,  2],\n",
       "       [-3, -1, -4],\n",
       "       [ 7,  8,  9]])"
      ]
     },
     "execution_count": 10,
     "metadata": {},
     "output_type": "execute_result"
    }
   ],
   "source": [
    "#prove:\n",
    "E"
   ]
  },
  {
   "cell_type": "code",
   "execution_count": 11,
   "id": "67d0e4ad",
   "metadata": {},
   "outputs": [
    {
     "data": {
      "text/plain": [
       "array([[1, 4, 2],\n",
       "       [0, 0, 0],\n",
       "       [7, 8, 9]])"
      ]
     },
     "execution_count": 11,
     "metadata": {},
     "output_type": "execute_result"
    }
   ],
   "source": [
    "E[1]=[0,0,0]\n",
    "E"
   ]
  },
  {
   "cell_type": "code",
   "execution_count": 12,
   "id": "4247bc7c",
   "metadata": {},
   "outputs": [
    {
     "data": {
      "text/plain": [
       "0.0"
      ]
     },
     "execution_count": 12,
     "metadata": {},
     "output_type": "execute_result"
    }
   ],
   "source": [
    "linalg.det(E)"
   ]
  },
  {
   "cell_type": "markdown",
   "id": "60381af5",
   "metadata": {},
   "source": [
    "- Tính chất 7 định thức của ma trận tam giác bằng tích của các số trên đường chéo chính<br>\n",
    "**prove:**"
   ]
  },
  {
   "cell_type": "code",
   "execution_count": 13,
   "id": "a548eee5",
   "metadata": {},
   "outputs": [
    {
     "data": {
      "text/plain": [
       "array([[7, 5, 1],\n",
       "       [7, 6, 6],\n",
       "       [3, 0, 3]])"
      ]
     },
     "execution_count": 13,
     "metadata": {},
     "output_type": "execute_result"
    }
   ],
   "source": [
    "randM=np.random.randint(0,10,size=(3,3))\n",
    "randM"
   ]
  },
  {
   "cell_type": "code",
   "execution_count": 14,
   "id": "a9926cb6",
   "metadata": {
    "scrolled": true
   },
   "outputs": [
    {
     "data": {
      "text/plain": [
       "126"
      ]
     },
     "execution_count": 14,
     "metadata": {},
     "output_type": "execute_result"
    }
   ],
   "source": [
    "randM[0,0]*randM[1,1]*randM[2,2]"
   ]
  },
  {
   "cell_type": "code",
   "execution_count": 15,
   "id": "ac84ed83",
   "metadata": {},
   "outputs": [
    {
     "name": "stdout",
     "output_type": "stream",
     "text": [
      "[[7 0 0]\n",
      " [7 6 0]\n",
      " [3 0 3]]\n",
      "126.0\n"
     ]
    }
   ],
   "source": [
    "randM_lower = np.tril(randM)\n",
    "print(randM_lower)\n",
    "print(linalg.det(randM_lower))"
   ]
  },
  {
   "cell_type": "code",
   "execution_count": 16,
   "id": "2d20f4ef",
   "metadata": {},
   "outputs": [
    {
     "name": "stdout",
     "output_type": "stream",
     "text": [
      "[[7 5 1]\n",
      " [0 6 6]\n",
      " [0 0 3]]\n"
     ]
    },
    {
     "data": {
      "text/plain": [
       "126.0"
      ]
     },
     "execution_count": 16,
     "metadata": {},
     "output_type": "execute_result"
    }
   ],
   "source": [
    "randM_upper = np.triu(randM)\n",
    "print(randM_upper)\n",
    "linalg.det(randM_upper)"
   ]
  },
  {
   "cell_type": "markdown",
   "id": "06a77654",
   "metadata": {},
   "source": [
    "- Tính chất 8: $det(AB) = det(A)det(B) \\rightarrow det(A^{-1})=\\frac{1}{det(A)}$"
   ]
  },
  {
   "cell_type": "code",
   "execution_count": 17,
   "id": "f219fe5f",
   "metadata": {},
   "outputs": [
    {
     "name": "stdout",
     "output_type": "stream",
     "text": [
      "-1395.0000000000007\n",
      "-1395.0000000000005\n"
     ]
    }
   ],
   "source": [
    "print(linalg.det(B@randM))\n",
    "print(linalg.det(B)*linalg.det(randM))\n"
   ]
  },
  {
   "cell_type": "code",
   "execution_count": 18,
   "id": "2ab3eb7b",
   "metadata": {
    "scrolled": true
   },
   "outputs": [
    {
     "name": "stdout",
     "output_type": "stream",
     "text": [
      "0.06666666666666671\n",
      "0.06666666666666665\n"
     ]
    }
   ],
   "source": [
    "print(linalg.det(A.I))\n",
    "print(1/linalg.det(A))"
   ]
  },
  {
   "cell_type": "markdown",
   "id": "f6c7e80b",
   "metadata": {},
   "source": [
    "- Tính chất 9 : $det(A^T)=det(A)$ "
   ]
  },
  {
   "cell_type": "code",
   "execution_count": 19,
   "id": "e5e0d831",
   "metadata": {},
   "outputs": [
    {
     "data": {
      "text/plain": [
       "15.000000000000004"
      ]
     },
     "execution_count": 19,
     "metadata": {},
     "output_type": "execute_result"
    }
   ],
   "source": [
    "linalg.det(A)"
   ]
  },
  {
   "cell_type": "code",
   "execution_count": 20,
   "id": "fb1c96cb",
   "metadata": {},
   "outputs": [
    {
     "data": {
      "text/plain": [
       "15.000000000000004"
      ]
     },
     "execution_count": 20,
     "metadata": {},
     "output_type": "execute_result"
    }
   ],
   "source": [
    "linalg.det(A.T)"
   ]
  },
  {
   "cell_type": "markdown",
   "id": "26672253",
   "metadata": {},
   "source": [
    "## 2.Định thức và ma trận khả nghịch"
   ]
  },
  {
   "cell_type": "markdown",
   "id": "d2a58d03",
   "metadata": {},
   "source": [
    "* Ma trận hệ số kép(ma trận cofactor):"
   ]
  },
  {
   "cell_type": "code",
   "execution_count": 21,
   "id": "aba87851",
   "metadata": {},
   "outputs": [
    {
     "data": {
      "text/plain": [
       "array([[7, 5, 1],\n",
       "       [7, 6, 6],\n",
       "       [3, 0, 3]])"
      ]
     },
     "execution_count": 21,
     "metadata": {},
     "output_type": "execute_result"
    }
   ],
   "source": [
    "randM"
   ]
  },
  {
   "cell_type": "markdown",
   "id": "a0ede1d1",
   "metadata": {},
   "source": [
    "$MatConfator =(-1)^{i+j}.det(A_{ij})= (A^{-1})^T.det(A)$"
   ]
  },
  {
   "cell_type": "code",
   "execution_count": 22,
   "id": "c6d6d466",
   "metadata": {
    "scrolled": false
   },
   "outputs": [
    {
     "data": {
      "text/plain": [
       "array([[ 18.,  -3., -18.],\n",
       "       [-15.,  18.,  15.],\n",
       "       [ 24., -35.,   7.]])"
      ]
     },
     "execution_count": 22,
     "metadata": {},
     "output_type": "execute_result"
    }
   ],
   "source": [
    "confactor=linalg.inv(randM).T*linalg.det(randM)\n",
    "confactor"
   ]
  },
  {
   "cell_type": "code",
   "execution_count": 23,
   "id": "7cc11d96",
   "metadata": {
    "scrolled": true
   },
   "outputs": [
    {
     "data": {
      "text/plain": [
       "24.0"
      ]
     },
     "execution_count": 23,
     "metadata": {},
     "output_type": "execute_result"
    }
   ],
   "source": [
    "linalg.det(randM[0:2,1:3])"
   ]
  },
  {
   "cell_type": "code",
   "execution_count": 24,
   "id": "ac97f0b0",
   "metadata": {},
   "outputs": [
    {
     "data": {
      "text/plain": [
       "array([[ 18., -15.,  24.],\n",
       "       [ -3.,  18., -35.],\n",
       "       [-18.,  15.,   7.]])"
      ]
     },
     "execution_count": 24,
     "metadata": {},
     "output_type": "execute_result"
    }
   ],
   "source": [
    "linalg.inv(randM)*linalg.det(randM)"
   ]
  },
  {
   "cell_type": "code",
   "execution_count": 25,
   "id": "ffaa537a",
   "metadata": {},
   "outputs": [
    {
     "data": {
      "text/plain": [
       "array([[7, 5],\n",
       "       [7, 6]])"
      ]
     },
     "execution_count": 25,
     "metadata": {},
     "output_type": "execute_result"
    }
   ],
   "source": [
    "randM[0:2,0:2]"
   ]
  },
  {
   "cell_type": "code",
   "execution_count": 27,
   "id": "557b557e",
   "metadata": {},
   "outputs": [
    {
     "data": {
      "text/plain": [
       "array([[ 18.,  -3., -18.],\n",
       "       [-15.,  18.,  15.],\n",
       "       [ 24., -35.,   7.]])"
      ]
     },
     "execution_count": 27,
     "metadata": {},
     "output_type": "execute_result"
    }
   ],
   "source": [
    "def matrix_cofactor(matrix):\n",
    "    C = np.zeros(matrix.shape)\n",
    "    nrows, ncols = C.shape\n",
    "    for row in range(nrows):\n",
    "        for col in range(ncols):\n",
    "            minor = matrix[np.array(list(range(row))+list(range(row+1,nrows)))[:,np.newaxis],\n",
    "                           np.array(list(range(col))+list(range(col+1,ncols)))]\n",
    "            C[row, col] = (-1)**(row+col) * np.linalg.det(minor)\n",
    "    return C\n",
    "matrix_cofactor(randM)"
   ]
  },
  {
   "cell_type": "code",
   "execution_count": 28,
   "id": "ec3c6770",
   "metadata": {},
   "outputs": [
    {
     "data": {
      "text/plain": [
       "array([[ 0.19354839, -0.16129032,  0.25806452],\n",
       "       [-0.03225806,  0.19354839, -0.37634409],\n",
       "       [-0.19354839,  0.16129032,  0.07526882]])"
      ]
     },
     "execution_count": 28,
     "metadata": {},
     "output_type": "execute_result"
    }
   ],
   "source": [
    "linalg.inv(randM)"
   ]
  },
  {
   "cell_type": "code",
   "execution_count": 29,
   "id": "a85aad76",
   "metadata": {},
   "outputs": [
    {
     "name": "stdout",
     "output_type": "stream",
     "text": [
      "[[ 18.  -3. -18.]\n",
      " [-15.  18.  15.]\n",
      " [ 24. -35.   7.]]\n"
     ]
    }
   ],
   "source": [
    "\n",
    "   def matrix_cofactor_with_Minv(matrix):\n",
    " \n",
    "    try:\n",
    "        determinant = np.linalg.det(matrix)\n",
    "        if(determinant!=0):\n",
    "            cofactor = None\n",
    "            cofactor = np.linalg.inv(matrix).T * determinant\n",
    "            # return cofactor matrix of the given matrix\n",
    "            return cofactor\n",
    "        else:\n",
    "            raise Exception(\"singular matrix\")\n",
    "    except Exception as e:\n",
    "        print(\"could not find cofactor matrix due to\",e)\n",
    "   \n",
    "print(matrix_cofactor_with_Minv(randM))"
   ]
  },
  {
   "cell_type": "markdown",
   "id": "f8e0fc76",
   "metadata": {},
   "source": [
    "* Ma trân liên hợp ADJ(ma trận adjoint):\n",
    "$adj=confactor^T=A^{-1}.det(A)$"
   ]
  },
  {
   "cell_type": "code",
   "execution_count": 30,
   "id": "961469fb",
   "metadata": {},
   "outputs": [
    {
     "data": {
      "text/plain": [
       "array([[ 18., -15.,  24.],\n",
       "       [ -3.,  18., -35.],\n",
       "       [-18.,  15.,   7.]])"
      ]
     },
     "execution_count": 30,
     "metadata": {},
     "output_type": "execute_result"
    }
   ],
   "source": [
    "adj = confactor.T\n",
    "adj"
   ]
  },
  {
   "cell_type": "code",
   "execution_count": 31,
   "id": "01b4f8d2",
   "metadata": {},
   "outputs": [
    {
     "data": {
      "text/plain": [
       "array([[ 18., -15.,  24.],\n",
       "       [ -3.,  18., -35.],\n",
       "       [-18.,  15.,   7.]])"
      ]
     },
     "execution_count": 31,
     "metadata": {},
     "output_type": "execute_result"
    }
   ],
   "source": [
    "ADJ = linalg.inv(randM)*linalg.det(randM)\n",
    "ADJ"
   ]
  },
  {
   "cell_type": "markdown",
   "id": "1cf73075",
   "metadata": {},
   "source": [
    "* Ma trận nghịch đảo $A^{-1}$"
   ]
  },
  {
   "cell_type": "markdown",
   "id": "33f34375",
   "metadata": {},
   "source": [
    "$$A^{-1} = \\frac{1}{det(A)}.adj(A)$$"
   ]
  },
  {
   "cell_type": "code",
   "execution_count": 32,
   "id": "38181285",
   "metadata": {},
   "outputs": [
    {
     "data": {
      "text/plain": [
       "array([[ 0.19354839, -0.16129032,  0.25806452],\n",
       "       [-0.03225806,  0.19354839, -0.37634409],\n",
       "       [-0.19354839,  0.16129032,  0.07526882]])"
      ]
     },
     "execution_count": 32,
     "metadata": {},
     "output_type": "execute_result"
    }
   ],
   "source": [
    "linalg.inv(randM)"
   ]
  },
  {
   "cell_type": "code",
   "execution_count": 33,
   "id": "7dcd33ff",
   "metadata": {},
   "outputs": [
    {
     "data": {
      "text/plain": [
       "array([[ 0.19354839, -0.16129032,  0.25806452],\n",
       "       [-0.03225806,  0.19354839, -0.37634409],\n",
       "       [-0.19354839,  0.16129032,  0.07526882]])"
      ]
     },
     "execution_count": 33,
     "metadata": {},
     "output_type": "execute_result"
    }
   ],
   "source": [
    "randM_inv=1/linalg.det(randM)*matrix_cofactor(randM).T\n",
    "randM_inv"
   ]
  },
  {
   "cell_type": "markdown",
   "id": "4ffdbcb9",
   "metadata": {},
   "source": [
    "## 3.Qui tắc Cramer"
   ]
  },
  {
   "cell_type": "markdown",
   "id": "028f8929",
   "metadata": {},
   "source": [
    "* Hệ hai phương trình tuyến tính bậc 1"
   ]
  },
  {
   "cell_type": "markdown",
   "id": "3ff0c70c",
   "metadata": {},
   "source": [
    "$$\\left\\{\\begin{matrix}\n",
    "4x_1 &-2x_2  &=10 \\\\ \n",
    "3x_1 &-5x_2  &=11 \n",
    "\\end{matrix}\\right.$$"
   ]
  },
  {
   "cell_type": "code",
   "execution_count": 34,
   "id": "dbfe6e01",
   "metadata": {},
   "outputs": [],
   "source": [
    "A=np.mat([[4,-2],[3,-5]])\n",
    "A1=np.mat([[10,-2],[11,-5]])\n",
    "A2=np.mat([[4,10],[3,11]])"
   ]
  },
  {
   "cell_type": "code",
   "execution_count": 35,
   "id": "9b42ffea",
   "metadata": {},
   "outputs": [
    {
     "name": "stdout",
     "output_type": "stream",
     "text": [
      "-14.0 -28.0 14.000000000000004\n"
     ]
    }
   ],
   "source": [
    "detA = linalg.det(A)\n",
    "detA1= linalg.det(A1)\n",
    "detA2 = linalg.det(A2)\n",
    "print(detA,detA1,detA2)"
   ]
  },
  {
   "cell_type": "code",
   "execution_count": 36,
   "id": "a0b5d16d",
   "metadata": {},
   "outputs": [
    {
     "name": "stdout",
     "output_type": "stream",
     "text": [
      "Hai nghiệm của phương trình là : 2.0 -1.0000000000000002\n"
     ]
    }
   ],
   "source": [
    "if (detA !=0):\n",
    "    x1=detA1/detA\n",
    "    x2=detA2/detA\n",
    "    print(\"Hai nghiệm của phương trình là :\",x1,x2)"
   ]
  },
  {
   "cell_type": "code",
   "execution_count": 37,
   "id": "131ec1c0",
   "metadata": {},
   "outputs": [],
   "source": [
    "def tinhtoan_dinhthuc(matrix):\n",
    "    if(len(matrix)==2):\n",
    "        return matrix[0,0]*matrix[1,1]-matrix[0,1]*matrix[1,0]"
   ]
  },
  {
   "cell_type": "code",
   "execution_count": 38,
   "id": "5eac15ec",
   "metadata": {},
   "outputs": [
    {
     "data": {
      "text/plain": [
       "14"
      ]
     },
     "execution_count": 38,
     "metadata": {},
     "output_type": "execute_result"
    }
   ],
   "source": [
    "tinhtoan_dinhthuc(A2)"
   ]
  },
  {
   "cell_type": "markdown",
   "id": "76c4b6b4",
   "metadata": {},
   "source": [
    "* Hệ ba phương trình tuyến tính bậc 1:"
   ]
  },
  {
   "cell_type": "markdown",
   "id": "2cf4f922",
   "metadata": {},
   "source": [
    "$$\\left\\{\\begin{matrix}\n",
    "x &+2y  &-3z  &=1 \\\\ \n",
    "2x &-2y  &+z  &=3 \\\\ \n",
    "3x &-4y  &+4z  &=2 \n",
    "\\end{matrix}\\right.$$"
   ]
  },
  {
   "cell_type": "code",
   "execution_count": 69,
   "id": "e03eab57",
   "metadata": {},
   "outputs": [],
   "source": [
    "A=np.mat([[1,2,-3],[2,-2,1],[3,-4,4]])\n",
    "A1=np.mat([[1,2,-3],[3,-2,1],[2,-4,4]])\n",
    "A2=np.mat([[1,1,-3],[2,3,1],[3,2,4]])\n",
    "A3=np.mat([[1,2,1],[2,-2,3],[3,-4,2]])\n"
   ]
  },
  {
   "cell_type": "code",
   "execution_count": 70,
   "id": "e4ac1cda",
   "metadata": {},
   "outputs": [
    {
     "data": {
      "text/plain": [
       "-8.0"
      ]
     },
     "execution_count": 70,
     "metadata": {},
     "output_type": "execute_result"
    }
   ],
   "source": [
    "detA=linalg.det(A)\n",
    "detX=linalg.det(A1)\n",
    "detY=linalg.det(A2)\n",
    "detZ=linalg.det(A3)\n",
    "detA"
   ]
  },
  {
   "cell_type": "code",
   "execution_count": 71,
   "id": "0706abb0",
   "metadata": {},
   "outputs": [],
   "source": [
    "x,y,z=detX/detA,detY/detA,detZ/detA"
   ]
  },
  {
   "cell_type": "code",
   "execution_count": 72,
   "id": "4eaf9527",
   "metadata": {},
   "outputs": [
    {
     "name": "stdout",
     "output_type": "stream",
     "text": [
      "Nghiệm của phương trình:  x= -0.0 y= -2.5 z =  -2.0\n"
     ]
    }
   ],
   "source": [
    "print (\"Nghiệm của phương trình: \", \"x=\", round(x,4), \"y=\", round(y,4), \"z = \", round(z,4))\n"
   ]
  },
  {
   "cell_type": "markdown",
   "id": "45cc633f",
   "metadata": {},
   "source": [
    "## 4.Bài toán ứng dụng 1:"
   ]
  },
  {
   "cell_type": "markdown",
   "id": "52a1eb9a",
   "metadata": {},
   "source": [
    "vdu : Tính diện tích tam giác của 3 điểm sau $A(1,0),B(4,3),C(2,2)$"
   ]
  },
  {
   "cell_type": "code",
   "execution_count": 42,
   "id": "9221c989",
   "metadata": {},
   "outputs": [
    {
     "name": "stdout",
     "output_type": "stream",
     "text": [
      "1.50000000000000\n"
     ]
    },
    {
     "data": {
      "text/latex": [
       "$\\displaystyle \\left[\\begin{matrix}1 & 0 & 1\\\\4 & 3 & 1\\\\2 & 2 & 1\\end{matrix}\\right]$"
      ],
      "text/plain": [
       "Matrix([\n",
       "[1, 0, 1],\n",
       "[4, 3, 1],\n",
       "[2, 2, 1]])"
      ]
     },
     "execution_count": 42,
     "metadata": {},
     "output_type": "execute_result"
    }
   ],
   "source": [
    "import sympy as sp\n",
    "TG = sp.Matrix([[1,0,1],[4,3,1],[2,2,1]])\n",
    "print(1/2*TG.det())\n",
    "TG"
   ]
  },
  {
   "cell_type": "markdown",
   "id": "02e2d68b",
   "metadata": {},
   "source": [
    "**Bài th**:"
   ]
  },
  {
   "cell_type": "code",
   "execution_count": 43,
   "id": "4c142780",
   "metadata": {},
   "outputs": [
    {
     "data": {
      "text/plain": [
       "(5, 2)"
      ]
     },
     "execution_count": 43,
     "metadata": {},
     "output_type": "execute_result"
    }
   ],
   "source": [
    "TD=np.array([[1181128.25,603263.70],\n",
    "           [1181136.18,603266.68],\n",
    "           [1181130.97,603279.69],\n",
    "           [1181125.77,603281.91],\n",
    "           [1181122.06,603280.42]])\n",
    "TD.shape"
   ]
  },
  {
   "cell_type": "code",
   "execution_count": 44,
   "id": "682d4a3e",
   "metadata": {},
   "outputs": [
    {
     "data": {
      "text/plain": [
       "array([1181128.25,  603263.7 ])"
      ]
     },
     "execution_count": 44,
     "metadata": {},
     "output_type": "execute_result"
    }
   ],
   "source": [
    "TD[0,:]"
   ]
  },
  {
   "cell_type": "code",
   "execution_count": 45,
   "id": "dd3ef2be",
   "metadata": {},
   "outputs": [],
   "source": [
    "TD1=np.mat([TD[0,:],TD[1,:]])\n",
    "TD2=np.mat([TD[1,:],TD[2,:]])\n",
    "TD3=np.mat([TD[2,:],TD[3,:]])\n",
    "TD4=np.mat([TD[3,:],TD[4,:]])\n",
    "TD5=np.mat([TD[4,:],TD[0,:]])"
   ]
  },
  {
   "cell_type": "code",
   "execution_count": 86,
   "id": "56428422",
   "metadata": {},
   "outputs": [
    {
     "data": {
      "text/plain": [
       "139.56796836294234"
      ]
     },
     "execution_count": 86,
     "metadata": {},
     "output_type": "execute_result"
    }
   ],
   "source": [
    "S=1/2*(linalg.det(TD1)+linalg.det(TD2)+linalg.det(TD3)+linalg.det(TD4)+linalg.det(TD5))\n",
    "S"
   ]
  },
  {
   "cell_type": "markdown",
   "id": "444b5cf3",
   "metadata": {},
   "source": [
    "### Ứng dụng 2: mở rộng bài toán tính diện tích thành thể tích hình tứ diện"
   ]
  },
  {
   "cell_type": "markdown",
   "id": "eaa66786",
   "metadata": {},
   "source": [
    "**Thể tích của tứ diện giá trị dương bằng** $\\frac{1}{6}$ **Giá trị định thức của ma trận bậc 4**"
   ]
  },
  {
   "cell_type": "markdown",
   "id": "94235bae",
   "metadata": {},
   "source": [
    "$$V = \\pm \\frac{1}{6} \\begin{bmatrix}\n",
    "x_1 &y_1  &z_1  &1 \\\\ \n",
    "x_2 &y_2  &z_2  &1 \\\\\n",
    "x_3 &y_3  &z_3  &1 \\\\\n",
    "x_4 &y_4  &z_4  &1 \n",
    "\\end{bmatrix}$$"
   ]
  },
  {
   "cell_type": "code",
   "execution_count": 49,
   "id": "23c9e031",
   "metadata": {},
   "outputs": [
    {
     "name": "stdout",
     "output_type": "stream",
     "text": [
      "-12.0000000000000\n"
     ]
    },
    {
     "data": {
      "text/latex": [
       "$\\displaystyle \\left[\\begin{matrix}0 & 4 & 1 & 1\\\\4 & 0 & 0 & 1\\\\3 & 5 & 2 & 1\\\\2 & 2 & 5 & 1\\end{matrix}\\right]$"
      ],
      "text/plain": [
       "Matrix([\n",
       "[0, 4, 1, 1],\n",
       "[4, 0, 0, 1],\n",
       "[3, 5, 2, 1],\n",
       "[2, 2, 5, 1]])"
      ]
     },
     "execution_count": 49,
     "metadata": {},
     "output_type": "execute_result"
    }
   ],
   "source": [
    "M = sp.Matrix([[0,4,1,1],\n",
    "               [4,0,0,1],\n",
    "               [3,5,2,1],\n",
    "               [2,2,5,1]])\n",
    "print(1/6*M.det())\n",
    "M"
   ]
  },
  {
   "cell_type": "markdown",
   "id": "f8f2e5a6",
   "metadata": {},
   "source": [
    "### Ứng dụng 3: Kiểm tra 4 điể nằm trên một mặt phẳng trong không gian ba chiều"
   ]
  },
  {
   "cell_type": "markdown",
   "id": "f3e7f0cb",
   "metadata": {},
   "source": [
    "*Nếu V=0 thì 4 điểm này thẳng hàng*"
   ]
  },
  {
   "cell_type": "markdown",
   "id": "d8202c0d",
   "metadata": {},
   "source": [
    "### Ứng dụng 4: Phương trình mặt thẳng"
   ]
  },
  {
   "cell_type": "markdown",
   "id": "2e7393c4",
   "metadata": {},
   "source": [
    "**Hãy viết phương tình mặt phẳng đi qua 3 điểm (-1,3,2),(0,1,0),(-2,0,1)**\n",
    "$$\\begin{bmatrix}\n",
    "x &y  &z  &1 \\\\ \n",
    "-1 &3  &2  &1 \\\\\n",
    "0 &1  &0  &1 \\\\\n",
    "-2 &0  &1  &1 \n",
    "\\end{bmatrix}$$"
   ]
  },
  {
   "cell_type": "code",
   "execution_count": 7,
   "id": "393ebbcb",
   "metadata": {},
   "outputs": [],
   "source": [
    "from sympy import *"
   ]
  },
  {
   "cell_type": "code",
   "execution_count": 56,
   "id": "d43134a5",
   "metadata": {},
   "outputs": [],
   "source": [
    "x,y,z=symbols('x,y,z')"
   ]
  },
  {
   "cell_type": "code",
   "execution_count": 61,
   "id": "be11fbd6",
   "metadata": {},
   "outputs": [
    {
     "data": {
      "text/latex": [
       "$\\displaystyle \\left[\\begin{matrix}x & y & z & 1\\\\-1 & 3 & 2 & 1\\\\0 & 1 & 0 & 1\\\\-2 & 0 & 1 & 1\\end{matrix}\\right]$"
      ],
      "text/plain": [
       "Matrix([\n",
       "[ x, y, z, 1],\n",
       "[-1, 3, 2, 1],\n",
       "[ 0, 1, 0, 1],\n",
       "[-2, 0, 1, 1]])"
      ]
     },
     "execution_count": 61,
     "metadata": {},
     "output_type": "execute_result"
    }
   ],
   "source": [
    "MP = Matrix([[x,y,z,1],\n",
    "             [-1,3,2,1],\n",
    "             [0,1,0,1],\n",
    "             [-2,0,1,1]])\n",
    "MP"
   ]
  },
  {
   "cell_type": "code",
   "execution_count": 60,
   "id": "239e06d8",
   "metadata": {},
   "outputs": [
    {
     "data": {
      "text/latex": [
       "$\\displaystyle - 4 x + 3 y - 5 z - 3$"
      ],
      "text/plain": [
       "-4*x + 3*y - 5*z - 3"
      ]
     },
     "execution_count": 60,
     "metadata": {},
     "output_type": "execute_result"
    }
   ],
   "source": [
    "MP.det()"
   ]
  },
  {
   "cell_type": "markdown",
   "id": "d5e905cd",
   "metadata": {},
   "source": [
    "### Bài toán ứng dụng 3: Tính quỹ đạo của hành tinh/ vệ tinh"
   ]
  },
  {
   "cell_type": "markdown",
   "id": "25b31e21",
   "metadata": {},
   "source": [
    "A(4,9),B(-2,-4),C(-1,-5),D=(8,-1),E(-6,6)"
   ]
  },
  {
   "cell_type": "code",
   "execution_count": 84,
   "id": "e0563cd5",
   "metadata": {},
   "outputs": [
    {
     "data": {
      "text/latex": [
       "$\\displaystyle \\left[\\begin{matrix}x^{2} & x y & y^{2} & x & y & 1\\\\16 & 36 & 81 & 4 & 9 & 1\\\\4 & 8 & 16 & -2 & -4 & 1\\\\1 & 5 & 25 & -1 & -5 & 1\\\\64 & -8 & 1 & 8 & -1 & 1\\\\36 & -36 & 36 & -6 & 6 & 1\\end{matrix}\\right]$"
      ],
      "text/plain": [
       "Matrix([\n",
       "[x**2, x*y, y**2,  x,  y, 1],\n",
       "[  16,  36,   81,  4,  9, 1],\n",
       "[   4,   8,   16, -2, -4, 1],\n",
       "[   1,   5,   25, -1, -5, 1],\n",
       "[  64,  -8,    1,  8, -1, 1],\n",
       "[  36, -36,   36, -6,  6, 1]])"
      ]
     },
     "execution_count": 84,
     "metadata": {},
     "output_type": "execute_result"
    }
   ],
   "source": [
    "x,y=symbols('x,y')\n",
    "solar=Matrix([[x*x,x*y,y*y,x,y,1],\n",
    "             [16,  36,   81,   4,   9,1],\n",
    "             [4,  8,   16,  -2,  -4,1],\n",
    "             [1,  5,  25,  -1,  -5,1],\n",
    "             [64,   -8, 1,   8,  -1,1],\n",
    "             [36,   -36,  36,  -6,   6,1]])\n",
    "solar"
   ]
  },
  {
   "cell_type": "code",
   "execution_count": 85,
   "id": "9c70d4fc",
   "metadata": {},
   "outputs": [
    {
     "data": {
      "text/latex": [
       "$\\displaystyle - 168224 x^{2} - 91840 x y + 566048 x - 89600 y^{2} + 539840 y + 6132672$"
      ],
      "text/plain": [
       "-168224*x**2 - 91840*x*y + 566048*x - 89600*y**2 + 539840*y + 6132672"
      ]
     },
     "execution_count": 85,
     "metadata": {},
     "output_type": "execute_result"
    }
   ],
   "source": [
    "solar.det()"
   ]
  },
  {
   "cell_type": "markdown",
   "id": "e312eb1d",
   "metadata": {},
   "source": [
    "## bài tập chương 4"
   ]
  },
  {
   "cell_type": "markdown",
   "id": "7365a44a",
   "metadata": {},
   "source": [
    "Câu 1 :<br>\n",
    "$MatConfator =(-1)^{i+j}.det(A_{ij})= (A^{-1})^T.det(A)$"
   ]
  },
  {
   "cell_type": "code",
   "execution_count": 3,
   "id": "0cd00229",
   "metadata": {},
   "outputs": [
    {
     "data": {
      "text/plain": [
       "array([[ -3,   7, -10],\n",
       "       [ -8,   6,   2],\n",
       "       [  7,  -7,   7]])"
      ]
     },
     "execution_count": 3,
     "metadata": {},
     "output_type": "execute_result"
    }
   ],
   "source": [
    "randM = np.random.randint(-10,10,size=(3,3))\n",
    "randM"
   ]
  },
  {
   "cell_type": "markdown",
   "id": "4e02926c",
   "metadata": {},
   "source": [
    "a) cách 1:"
   ]
  },
  {
   "cell_type": "code",
   "execution_count": 4,
   "id": "5f3248d8",
   "metadata": {},
   "outputs": [
    {
     "data": {
      "text/plain": [
       "array([[56., 70., 14.],\n",
       "       [21., 49., 28.],\n",
       "       [74., 86., 38.]])"
      ]
     },
     "execution_count": 4,
     "metadata": {},
     "output_type": "execute_result"
    }
   ],
   "source": [
    "def matrix_cofactor(matrix):\n",
    "    C = np.zeros(matrix.shape)\n",
    "    nrows, ncols = C.shape\n",
    "    for row in range(nrows):\n",
    "        for col in range(ncols):\n",
    "            minor = matrix[np.array(list(range(row))+list(range(row+1,nrows)))[:,np.newaxis],\n",
    "                           np.array(list(range(col))+list(range(col+1,ncols)))]\n",
    "            C[row, col] = (-1)**(row+col) * np.linalg.det(minor)\n",
    "    return C\n",
    "matrix_cofactor(randM)"
   ]
  },
  {
   "cell_type": "markdown",
   "id": "65f501fb",
   "metadata": {},
   "source": [
    "cách 2:"
   ]
  },
  {
   "cell_type": "code",
   "execution_count": 10,
   "id": "2594096e",
   "metadata": {
    "scrolled": true
   },
   "outputs": [
    {
     "name": "stdout",
     "output_type": "stream",
     "text": [
      "[[56. 70. 14.]\n",
      " [21. 49. 28.]\n",
      " [74. 86. 38.]]\n"
     ]
    }
   ],
   "source": [
    " def matrix_cofactor_with_Minv(matrix):\n",
    "        detM = np.linalg.det(matrix)\n",
    "        if(detM!=0):\n",
    "            cofactor = None\n",
    "            cofactor = np.linalg.inv(matrix).T * detM\n",
    "            return cofactor\n",
    "        else:\n",
    "            raise Exception(\"singular matrix\")\n",
    "   \n",
    "print(matrix_cofactor_with_Minv(randM))"
   ]
  },
  {
   "cell_type": "code",
   "execution_count": 13,
   "id": "71d039c0",
   "metadata": {},
   "outputs": [
    {
     "data": {
      "text/plain": [
       "array([[56., 21., 74.],\n",
       "       [70., 49., 86.],\n",
       "       [14., 28., 38.]])"
      ]
     },
     "execution_count": 13,
     "metadata": {},
     "output_type": "execute_result"
    }
   ],
   "source": [
    "#b)\n",
    "adj_mat= matrix_cofactor_with_Minv(randM).T\n",
    "adj_mat"
   ]
  },
  {
   "cell_type": "markdown",
   "id": "82476eed",
   "metadata": {},
   "source": [
    "Câu 2: xây dựng ma trận tính quỹ đạo của 1  vật thể xoay theo quỹ đạo đường tròn:"
   ]
  },
  {
   "cell_type": "markdown",
   "id": "bf278162",
   "metadata": {},
   "source": [
    "A(4,9),B(-2,-4),C(-1,-5)"
   ]
  },
  {
   "cell_type": "code",
   "execution_count": 14,
   "id": "311c7fc9",
   "metadata": {},
   "outputs": [],
   "source": [
    "x,y=symbols('x,y')"
   ]
  },
  {
   "cell_type": "code",
   "execution_count": 15,
   "id": "dae9f956",
   "metadata": {},
   "outputs": [
    {
     "data": {
      "text/latex": [
       "$\\displaystyle \\left[\\begin{matrix}x^{2} + y^{2} & x & y & 1\\\\97 & 4 & 9 & 1\\\\20 & -2 & -4 & 1\\\\26 & -1 & -5 & 1\\end{matrix}\\right]$"
      ],
      "text/plain": [
       "Matrix([\n",
       "[x**2 + y**2,  x,  y, 1],\n",
       "[         97,  4,  9, 1],\n",
       "[         20, -2, -4, 1],\n",
       "[         26, -1, -5, 1]])"
      ]
     },
     "execution_count": 15,
     "metadata": {},
     "output_type": "execute_result"
    }
   ],
   "source": [
    "circle = Matrix([[x**2+y**2,x,y,1],\n",
    "                 [4**2+9**2,4,9,1],\n",
    "                 [(-2)**2+(-4)**2,-2,-4,1],\n",
    "                 [(-1)**2+(-5)**2,-1,-5,1]])\n",
    "circle"
   ]
  },
  {
   "cell_type": "code",
   "execution_count": 16,
   "id": "4ae9c3fd",
   "metadata": {},
   "outputs": [
    {
     "data": {
      "text/latex": [
       "$\\displaystyle 19 x^{2} - 155 x + 19 y^{2} - 41 y - 854$"
      ],
      "text/plain": [
       "19*x**2 - 155*x + 19*y**2 - 41*y - 854"
      ]
     },
     "execution_count": 16,
     "metadata": {},
     "output_type": "execute_result"
    }
   ],
   "source": [
    "circle.det()"
   ]
  },
  {
   "cell_type": "code",
   "execution_count": null,
   "id": "12a184a4",
   "metadata": {},
   "outputs": [],
   "source": []
  }
 ],
 "metadata": {
  "kernelspec": {
   "display_name": "Python 3 (ipykernel)",
   "language": "python",
   "name": "python3"
  },
  "language_info": {
   "codemirror_mode": {
    "name": "ipython",
    "version": 3
   },
   "file_extension": ".py",
   "mimetype": "text/x-python",
   "name": "python",
   "nbconvert_exporter": "python",
   "pygments_lexer": "ipython3",
   "version": "3.9.7"
  }
 },
 "nbformat": 4,
 "nbformat_minor": 5
}
