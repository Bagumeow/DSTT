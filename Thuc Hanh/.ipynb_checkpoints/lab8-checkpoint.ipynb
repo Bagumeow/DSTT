{
 "cells": [
  {
   "cell_type": "markdown",
   "id": "7b56fbdd",
   "metadata": {},
   "source": [
    "# BÀI 8: KHÔNG GIAN VECTOR VÀ ÁNH XẠ TUYẾN TÍNH (PHẦN 2)"
   ]
  },
  {
   "cell_type": "markdown",
   "id": "15833bf7",
   "metadata": {},
   "source": [
    "## 1. Kiểm lý thuyết về ánh xạ tuyến tính\n",
    "### 1.1.Kiểm tra một ánh xạ là ánh xạ tuyến tính"
   ]
  },
  {
   "cell_type": "code",
   "execution_count": 1,
   "id": "adcd5f94",
   "metadata": {},
   "outputs": [
    {
     "data": {
      "text/latex": [
       "$\\displaystyle a - b + c$"
      ],
      "text/plain": [
       "a - b + c"
      ]
     },
     "execution_count": 1,
     "metadata": {},
     "output_type": "execute_result"
    }
   ],
   "source": [
    "import sympy as sp\n",
    "from sympy import lambdify\n",
    "x1, x2, x3 = sp.symbols('x1 x2 x3')\n",
    "bieuthuc1 = x1 - x2 + x3\n",
    "f1 = lambdify([x1, x2, x3], bieuthuc1, 'numpy')\n",
    "a, b, c = sp.symbols('a b c') # khai báo thêm 3 biến a, b, c giả định X = (a, b, c)\n",
    "d, e, f = sp.symbols('d e f') # khai báo thêm 3 biến d, e, f giả định Y = (e, d, f)\n",
    "f1(a, b, c)"
   ]
  },
  {
   "cell_type": "code",
   "execution_count": 2,
   "id": "edfdc91b",
   "metadata": {},
   "outputs": [
    {
     "data": {
      "text/latex": [
       "$\\displaystyle d - e + f$"
      ],
      "text/plain": [
       "d - e + f"
      ]
     },
     "execution_count": 2,
     "metadata": {},
     "output_type": "execute_result"
    }
   ],
   "source": [
    "f1(d, e, f)\n"
   ]
  },
  {
   "cell_type": "code",
   "execution_count": 3,
   "id": "77893a3d",
   "metadata": {},
   "outputs": [
    {
     "data": {
      "text/latex": [
       "$\\displaystyle a - b + c + d - e + f$"
      ],
      "text/plain": [
       "a - b + c + d - e + f"
      ]
     },
     "execution_count": 3,
     "metadata": {},
     "output_type": "execute_result"
    }
   ],
   "source": [
    "f1(a+d, b+e, c+f)"
   ]
  },
  {
   "cell_type": "code",
   "execution_count": 6,
   "id": "5ee66662",
   "metadata": {},
   "outputs": [
    {
     "data": {
      "text/plain": [
       "True"
      ]
     },
     "execution_count": 6,
     "metadata": {},
     "output_type": "execute_result"
    }
   ],
   "source": [
    "f1(a,b,c) + f1(d,e,f) == f1(a+d, b+e, c+f)"
   ]
  },
  {
   "cell_type": "code",
   "execution_count": 5,
   "id": "c798a4c8",
   "metadata": {},
   "outputs": [
    {
     "data": {
      "text/plain": [
       "True"
      ]
     },
     "execution_count": 5,
     "metadata": {},
     "output_type": "execute_result"
    }
   ],
   "source": [
    "(f1(a,b,c) + f1(d,e,f)).equals( f1(a+d, b+e, c+f))"
   ]
  },
  {
   "cell_type": "code",
   "execution_count": 3,
   "id": "32911792",
   "metadata": {},
   "outputs": [
    {
     "data": {
      "text/plain": [
       "True"
      ]
     },
     "execution_count": 3,
     "metadata": {},
     "output_type": "execute_result"
    }
   ],
   "source": [
    "q = sp.symbols('q')\n",
    "(q*f1(a,b,c) + f1(d,e,f)).equals(f1(q*a+d, q*b+e, q*c+f).expand())"
   ]
  },
  {
   "cell_type": "code",
   "execution_count": 5,
   "id": "d569a9bb",
   "metadata": {},
   "outputs": [
    {
     "data": {
      "text/plain": [
       "True"
      ]
     },
     "execution_count": 5,
     "metadata": {},
     "output_type": "execute_result"
    }
   ],
   "source": [
    "bieuthuc2 = 2*x2 + 3* x3\n",
    "f2 = lambdify([x1, x2, x3], bieuthuc2, 'numpy')\n",
    "(q*f2(a,b,c) + f2(d,e,f)).equals(f2(q*a+d, q*b+e, q*c+f).expand())"
   ]
  },
  {
   "cell_type": "markdown",
   "id": "7fa36b15",
   "metadata": {},
   "source": [
    "### 1.2.Tìm tổ hợp tuyến tính cho một ánh xạ tuyến tính"
   ]
  },
  {
   "cell_type": "markdown",
   "id": "1d0510dd",
   "metadata": {},
   "source": [
    "Để tìm tổ hợp tuyến tính để tính ánh xạ tuyến tính với các giá trị có sẵn, chúng ta giải phương trình \n",
    "để tìm ra các hệ số của tổ hợp tuyến tính, sau đó chúng ta tính ánh xạ tuyến tính đó"
   ]
  },
  {
   "cell_type": "markdown",
   "id": "bfb55a17",
   "metadata": {},
   "source": [
    "Ví dụ: Cho $𝑓:$ $ℝ^2 → ℝ^3$\n",
    "có cơ sở của $ℝ^2$\n",
    "là $𝐵 =$ {$𝑢1 = (1,2); 𝑢2 = (3,5)$} và $𝑓(𝑢1\n",
    ") = (1,1,2)$, \n",
    "$𝑓(𝑢2\n",
    ") = (4,2,1).$ Tìm $𝑓(𝑢3\n",
    ") = 𝑓(4,5)$"
   ]
  },
  {
   "cell_type": "markdown",
   "id": "4e1fbba3",
   "metadata": {},
   "source": [
    "Tìm tổ hợp tuyến tính: 𝑢3 = 𝛼𝑢1 + 𝛽𝑢2, nghĩa là giải ra 𝛼 và 𝛽 "
   ]
  },
  {
   "cell_type": "code",
   "execution_count": 17,
   "id": "f840fdd8",
   "metadata": {
    "scrolled": true
   },
   "outputs": [
    {
     "data": {
      "text/plain": [
       "array([-5.,  3.])"
      ]
     },
     "execution_count": 17,
     "metadata": {},
     "output_type": "execute_result"
    }
   ],
   "source": [
    "from scipy import linalg\n",
    "import numpy as np\n",
    "a,b=sp.symbols('a b')\n",
    "u=np.array([[1,3],[2,5]])\n",
    "x=np.array([4,5])\n",
    "ans=linalg.solve(u,x)\n",
    "ans"
   ]
  },
  {
   "cell_type": "markdown",
   "id": "8d59d5bd",
   "metadata": {},
   "source": [
    "Sau đó, chúng ta tính toán theo công thức 𝑓(𝑢3\n",
    ") = 𝛼𝑓(𝑢1\n",
    ") + 𝛽𝑓(𝑢2). "
   ]
  },
  {
   "cell_type": "code",
   "execution_count": 19,
   "id": "f3198883",
   "metadata": {},
   "outputs": [
    {
     "data": {
      "text/plain": [
       "array([ 7.,  1., -7.])"
      ]
     },
     "execution_count": 19,
     "metadata": {},
     "output_type": "execute_result"
    }
   ],
   "source": [
    "fu1=np.array([1,1,2])\n",
    "fu2=np.array([4,2,1])\n",
    "answer = ans[0]*fu1+ans[1]*fu2\n",
    "answer"
   ]
  },
  {
   "cell_type": "markdown",
   "id": "7d4fde1a",
   "metadata": {},
   "source": [
    "### 1.3.Tìm ánh xạ tuyến tính"
   ]
  },
  {
   "cell_type": "markdown",
   "id": "c90d2804",
   "metadata": {},
   "source": [
    "Để tìm ánh xạ tuyến tính với các giá trị có sẵn, chúng ta giải phương trình để tìm ra các hệ số của ánh xạ."
   ]
  },
  {
   "cell_type": "markdown",
   "id": "706bc4d1",
   "metadata": {},
   "source": [
    "Ví dụ: Tương tự như trên, chúng ta hãy tìm ánh xạ tuyến tính của f khi biết  $𝑓: ℝ^2 \\rightarrow ℝ^3$\n",
    "có cơ sở của $ℝ^2$ là<br> $𝐵 =$ {$𝑢1 = (1,2); 𝑢2 = (3,5)$} và $𝑓(𝑢1) = (1,1,2), 𝑓(𝑢2\n",
    ") = (4,2,1).$"
   ]
  },
  {
   "cell_type": "markdown",
   "id": "331b3f38",
   "metadata": {},
   "source": [
    "Giải hệ với 𝑢 = (𝑥, 𝑦) bất kỳ để tìm ra $\\alpha$ và $\\beta$"
   ]
  },
  {
   "cell_type": "code",
   "execution_count": 21,
   "id": "6f88b702",
   "metadata": {},
   "outputs": [
    {
     "data": {
      "text/plain": [
       "{a: -5*x + 3*y, b: 2*x - y}"
      ]
     },
     "execution_count": 21,
     "metadata": {},
     "output_type": "execute_result"
    }
   ],
   "source": [
    "import sympy as sp \n",
    "a, b = sp.symbols('a b')\n",
    "x, y = sp.symbols('x y')\n",
    "sp.solve([a+3*b-x, 2*a+5*b-y],[a,b])"
   ]
  },
  {
   "cell_type": "markdown",
   "id": "5d18a3a4",
   "metadata": {},
   "source": [
    "Từ công thức $𝑢 = 𝛼𝑢1 + 𝛽𝑢2$, thay thế vào công thức $𝑓(𝑢) = 𝛼𝑓(𝑢1) + 𝛽𝑓(𝑢2)$ để tìm được ánh xạ\n",
    "tuyến tính."
   ]
  },
  {
   "cell_type": "code",
   "execution_count": 25,
   "id": "638e3d38",
   "metadata": {},
   "outputs": [
    {
     "data": {
      "text/plain": [
       "array([a + 4*b, a + 2*b, 2*a + b], dtype=object)"
      ]
     },
     "execution_count": 25,
     "metadata": {},
     "output_type": "execute_result"
    }
   ],
   "source": [
    "fu1 = np.array([1,1,2])\n",
    "fu2 = np.array([4,2,1])\n",
    "fu = a*fu1 + b*fu2\n",
    "fu"
   ]
  },
  {
   "cell_type": "code",
   "execution_count": 26,
   "id": "b999fedc",
   "metadata": {},
   "outputs": [
    {
     "data": {
      "text/plain": [
       "array([3*x - y, -x + y, -8*x + 5*y], dtype=object)"
      ]
     },
     "execution_count": 26,
     "metadata": {},
     "output_type": "execute_result"
    }
   ],
   "source": [
    "fu = a.subs(a, -5*x + 3*y)*fu1 + b.subs(b, 2*x - y)*fu2\n",
    "fu"
   ]
  },
  {
   "cell_type": "markdown",
   "id": "9549b54f",
   "metadata": {},
   "source": [
    " ### 1.4.Tìm nhân của ánh xạ tuyến tính\n"
   ]
  },
  {
   "cell_type": "markdown",
   "id": "03b8ad06",
   "metadata": {},
   "source": [
    "Theo định nghĩa, $𝐾𝑒𝑟(𝑓) =$ {$𝑥 ∈ 𝑉|𝑓(𝑥) = 0$}. Như vậy, tìm $Ker(f)$ là giải phương trình $𝑓(𝑥) = 0.$"
   ]
  },
  {
   "cell_type": "markdown",
   "id": "ce682fa4",
   "metadata": {},
   "source": [
    "Ví dụ: Cho ánh xạ $𝑓$ từ $ℝ^3 \\rightarrow ℝ^3$<br>\n",
    "$$𝑓(𝑥1, 𝑥2, 𝑥3) = (𝑥1 + 𝑥2 − 𝑥3; 2𝑥1 + 3𝑥2 − 𝑥3, 3𝑥1 + 5𝑥2 − 𝑥3)$$"
   ]
  },
  {
   "cell_type": "code",
   "execution_count": 27,
   "id": "c460bdea",
   "metadata": {},
   "outputs": [
    {
     "data": {
      "text/plain": [
       "{x1: 2*x3, x2: -x3}"
      ]
     },
     "execution_count": 27,
     "metadata": {},
     "output_type": "execute_result"
    }
   ],
   "source": [
    "x1, x2, x3 = sp.symbols('x1 x2 x3')\n",
    "sp.solve([x1+x2-x3,2*x1+3*x2-x3,3*x1+5*x2-x3],[x1,x2,x3])"
   ]
  },
  {
   "cell_type": "markdown",
   "id": "7adecc4b",
   "metadata": {},
   "source": [
    "#### 1.5.Tìm ảnh của ánh xạ tuyến tính"
   ]
  },
  {
   "cell_type": "code",
   "execution_count": 30,
   "id": "6943f6bc",
   "metadata": {
    "scrolled": false
   },
   "outputs": [
    {
     "data": {
      "text/plain": [
       "[]"
      ]
     },
     "execution_count": 30,
     "metadata": {},
     "output_type": "execute_result"
    }
   ],
   "source": [
    "x1, x2, x3 = sp.symbols('x1 x2 x3')\n",
    "y1, y2, y3 = sp.symbols('y1 y2 y3')\n",
    "sp.solve([x1+x2-x3-y1,2*x1+3*x2-x3-y2,3*x1+5*x2-x3-y3],[x1,x2,x3])"
   ]
  },
  {
   "cell_type": "markdown",
   "id": "0025a530",
   "metadata": {},
   "source": [
    "#### 1.6. Ma trận của ánh xạ tuyến tính trong cặp cơ sở"
   ]
  },
  {
   "cell_type": "code",
   "execution_count": null,
   "id": "bf9d0330",
   "metadata": {},
   "outputs": [],
   "source": []
  }
 ],
 "metadata": {
  "kernelspec": {
   "display_name": "Python 3 (ipykernel)",
   "language": "python",
   "name": "python3"
  },
  "language_info": {
   "codemirror_mode": {
    "name": "ipython",
    "version": 3
   },
   "file_extension": ".py",
   "mimetype": "text/x-python",
   "name": "python",
   "nbconvert_exporter": "python",
   "pygments_lexer": "ipython3",
   "version": "3.9.7"
  }
 },
 "nbformat": 4,
 "nbformat_minor": 5
}
