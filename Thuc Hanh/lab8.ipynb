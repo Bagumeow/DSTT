{
 "cells": [
  {
   "cell_type": "markdown",
   "id": "7b56fbdd",
   "metadata": {},
   "source": [
    "# BÀI 8: KHÔNG GIAN VECTOR VÀ ÁNH XẠ TUYẾN TÍNH (PHẦN 2)"
   ]
  },
  {
   "cell_type": "markdown",
   "id": "15833bf7",
   "metadata": {},
   "source": [
    "## 1. Kiểm lý thuyết về ánh xạ tuyến tính\n",
    "### 1.1.Kiểm tra một ánh xạ là ánh xạ tuyến tính"
   ]
  },
  {
   "cell_type": "code",
   "execution_count": 1,
   "id": "adcd5f94",
   "metadata": {},
   "outputs": [
    {
     "data": {
      "text/latex": [
       "$\\displaystyle a - b + c$"
      ],
      "text/plain": [
       "a - b + c"
      ]
     },
     "execution_count": 1,
     "metadata": {},
     "output_type": "execute_result"
    }
   ],
   "source": [
    "import sympy as sp\n",
    "from sympy import lambdify\n",
    "x1, x2, x3 = sp.symbols('x1 x2 x3')\n",
    "bieuthuc1 = x1 - x2 + x3\n",
    "f1 = lambdify([x1, x2, x3], bieuthuc1, 'numpy')\n",
    "a, b, c = sp.symbols('a b c') # khai báo thêm 3 biến a, b, c giả định X = (a, b, c)\n",
    "d, e, f = sp.symbols('d e f') # khai báo thêm 3 biến d, e, f giả định Y = (e, d, f)\n",
    "f1(a, b, c)"
   ]
  },
  {
   "cell_type": "code",
   "execution_count": 2,
   "id": "edfdc91b",
   "metadata": {},
   "outputs": [
    {
     "data": {
      "text/latex": [
       "$\\displaystyle d - e + f$"
      ],
      "text/plain": [
       "d - e + f"
      ]
     },
     "execution_count": 2,
     "metadata": {},
     "output_type": "execute_result"
    }
   ],
   "source": [
    "f1(d, e, f)\n"
   ]
  },
  {
   "cell_type": "code",
   "execution_count": 3,
   "id": "77893a3d",
   "metadata": {},
   "outputs": [
    {
     "data": {
      "text/latex": [
       "$\\displaystyle a - b + c + d - e + f$"
      ],
      "text/plain": [
       "a - b + c + d - e + f"
      ]
     },
     "execution_count": 3,
     "metadata": {},
     "output_type": "execute_result"
    }
   ],
   "source": [
    "f1(a+d, b+e, c+f)"
   ]
  },
  {
   "cell_type": "code",
   "execution_count": 6,
   "id": "5ee66662",
   "metadata": {},
   "outputs": [
    {
     "data": {
      "text/plain": [
       "True"
      ]
     },
     "execution_count": 6,
     "metadata": {},
     "output_type": "execute_result"
    }
   ],
   "source": [
    "f1(a,b,c) + f1(d,e,f) == f1(a+d, b+e, c+f)"
   ]
  },
  {
   "cell_type": "code",
   "execution_count": 5,
   "id": "c798a4c8",
   "metadata": {},
   "outputs": [
    {
     "data": {
      "text/plain": [
       "True"
      ]
     },
     "execution_count": 5,
     "metadata": {},
     "output_type": "execute_result"
    }
   ],
   "source": [
    "(f1(a,b,c) + f1(d,e,f)).equals( f1(a+d, b+e, c+f))"
   ]
  },
  {
   "cell_type": "code",
   "execution_count": 3,
   "id": "32911792",
   "metadata": {},
   "outputs": [
    {
     "data": {
      "text/plain": [
       "True"
      ]
     },
     "execution_count": 3,
     "metadata": {},
     "output_type": "execute_result"
    }
   ],
   "source": [
    "q = sp.symbols('q')\n",
    "(q*f1(a,b,c) + f1(d,e,f)).equals(f1(q*a+d, q*b+e, q*c+f).expand())"
   ]
  },
  {
   "cell_type": "code",
   "execution_count": 5,
   "id": "d569a9bb",
   "metadata": {},
   "outputs": [
    {
     "data": {
      "text/plain": [
       "True"
      ]
     },
     "execution_count": 5,
     "metadata": {},
     "output_type": "execute_result"
    }
   ],
   "source": [
    "bieuthuc2 = 2*x2 + 3* x3\n",
    "f2 = lambdify([x1, x2, x3], bieuthuc2, 'numpy')\n",
    "(q*f2(a,b,c) + f2(d,e,f)).equals(f2(q*a+d, q*b+e, q*c+f).expand())"
   ]
  },
  {
   "cell_type": "markdown",
   "id": "7fa36b15",
   "metadata": {},
   "source": [
    "### 1.2.Tìm tổ hợp tuyến tính cho một ánh xạ tuyến tính"
   ]
  },
  {
   "cell_type": "markdown",
   "id": "1d0510dd",
   "metadata": {},
   "source": [
    "Để tìm tổ hợp tuyến tính để tính ánh xạ tuyến tính với các giá trị có sẵn, chúng ta giải phương trình \n",
    "để tìm ra các hệ số của tổ hợp tuyến tính, sau đó chúng ta tính ánh xạ tuyến tính đó"
   ]
  },
  {
   "cell_type": "markdown",
   "id": "bfb55a17",
   "metadata": {},
   "source": [
    "Ví dụ: Cho $𝑓:$ $ℝ^2 → ℝ^3$\n",
    "có cơ sở của $ℝ^2$\n",
    "là $𝐵 =$ {$𝑢1 = (1,2); 𝑢2 = (3,5)$} và $𝑓(𝑢1\n",
    ") = (1,1,2)$, \n",
    "$𝑓(𝑢2\n",
    ") = (4,2,1).$ Tìm $𝑓(𝑢3\n",
    ") = 𝑓(4,5)$"
   ]
  },
  {
   "cell_type": "markdown",
   "id": "4e1fbba3",
   "metadata": {},
   "source": [
    "Tìm tổ hợp tuyến tính: 𝑢3 = 𝛼𝑢1 + 𝛽𝑢2, nghĩa là giải ra 𝛼 và 𝛽 "
   ]
  },
  {
   "cell_type": "code",
   "execution_count": 2,
   "id": "f840fdd8",
   "metadata": {
    "scrolled": true
   },
   "outputs": [
    {
     "data": {
      "text/plain": [
       "array([-5.,  3.])"
      ]
     },
     "execution_count": 2,
     "metadata": {},
     "output_type": "execute_result"
    }
   ],
   "source": [
    "from scipy import linalg\n",
    "import numpy as np\n",
    "a,b=sp.symbols('a b')\n",
    "u=np.array([[1,3],[2,5]])\n",
    "x=np.array([4,5])\n",
    "ans=linalg.solve(u,x)\n",
    "ans"
   ]
  },
  {
   "cell_type": "markdown",
   "id": "8d59d5bd",
   "metadata": {},
   "source": [
    "Sau đó, chúng ta tính toán theo công thức 𝑓(𝑢3\n",
    ") = 𝛼𝑓(𝑢1\n",
    ") + 𝛽𝑓(𝑢2). "
   ]
  },
  {
   "cell_type": "code",
   "execution_count": 19,
   "id": "f3198883",
   "metadata": {},
   "outputs": [
    {
     "data": {
      "text/plain": [
       "array([ 7.,  1., -7.])"
      ]
     },
     "execution_count": 19,
     "metadata": {},
     "output_type": "execute_result"
    }
   ],
   "source": [
    "fu1=np.array([1,1,2])\n",
    "fu2=np.array([4,2,1])\n",
    "answer = ans[0]*fu1+ans[1]*fu2\n",
    "answer"
   ]
  },
  {
   "cell_type": "markdown",
   "id": "7d4fde1a",
   "metadata": {},
   "source": [
    "### 1.3.Tìm ánh xạ tuyến tính"
   ]
  },
  {
   "cell_type": "markdown",
   "id": "c90d2804",
   "metadata": {},
   "source": [
    "Để tìm ánh xạ tuyến tính với các giá trị có sẵn, chúng ta giải phương trình để tìm ra các hệ số của ánh xạ."
   ]
  },
  {
   "cell_type": "markdown",
   "id": "706bc4d1",
   "metadata": {},
   "source": [
    "Ví dụ: Tương tự như trên, chúng ta hãy tìm ánh xạ tuyến tính của f khi biết  $𝑓: ℝ^2 \\rightarrow ℝ^3$\n",
    "có cơ sở của $ℝ^2$ là<br> $𝐵 =$ {$𝑢1 = (1,2); 𝑢2 = (3,5)$} và $𝑓(𝑢1) = (1,1,2), 𝑓(𝑢2\n",
    ") = (4,2,1).$"
   ]
  },
  {
   "cell_type": "markdown",
   "id": "331b3f38",
   "metadata": {},
   "source": [
    "Giải hệ với 𝑢 = (𝑥, 𝑦) bất kỳ để tìm ra $\\alpha$ và $\\beta$"
   ]
  },
  {
   "cell_type": "code",
   "execution_count": 21,
   "id": "6f88b702",
   "metadata": {},
   "outputs": [
    {
     "data": {
      "text/plain": [
       "{a: -5*x + 3*y, b: 2*x - y}"
      ]
     },
     "execution_count": 21,
     "metadata": {},
     "output_type": "execute_result"
    }
   ],
   "source": [
    "import sympy as sp \n",
    "a, b = sp.symbols('a b')\n",
    "x, y = sp.symbols('x y')\n",
    "sp.solve([a+3*b-x, 2*a+5*b-y],[a,b])"
   ]
  },
  {
   "cell_type": "markdown",
   "id": "5d18a3a4",
   "metadata": {},
   "source": [
    "Từ công thức $𝑢 = 𝛼𝑢1 + 𝛽𝑢2$, thay thế vào công thức $𝑓(𝑢) = 𝛼𝑓(𝑢1) + 𝛽𝑓(𝑢2)$ để tìm được ánh xạ\n",
    "tuyến tính."
   ]
  },
  {
   "cell_type": "code",
   "execution_count": 25,
   "id": "638e3d38",
   "metadata": {},
   "outputs": [
    {
     "data": {
      "text/plain": [
       "array([a + 4*b, a + 2*b, 2*a + b], dtype=object)"
      ]
     },
     "execution_count": 25,
     "metadata": {},
     "output_type": "execute_result"
    }
   ],
   "source": [
    "fu1 = np.array([1,1,2])\n",
    "fu2 = np.array([4,2,1])\n",
    "fu = a*fu1 + b*fu2\n",
    "fu"
   ]
  },
  {
   "cell_type": "code",
   "execution_count": 26,
   "id": "b999fedc",
   "metadata": {},
   "outputs": [
    {
     "data": {
      "text/plain": [
       "array([3*x - y, -x + y, -8*x + 5*y], dtype=object)"
      ]
     },
     "execution_count": 26,
     "metadata": {},
     "output_type": "execute_result"
    }
   ],
   "source": [
    "fu = a.subs(a, -5*x + 3*y)*fu1 + b.subs(b, 2*x - y)*fu2\n",
    "fu"
   ]
  },
  {
   "cell_type": "markdown",
   "id": "9549b54f",
   "metadata": {},
   "source": [
    " ### 1.4.Tìm nhân của ánh xạ tuyến tính\n"
   ]
  },
  {
   "cell_type": "markdown",
   "id": "03b8ad06",
   "metadata": {},
   "source": [
    "Theo định nghĩa, $𝐾𝑒𝑟(𝑓) =$ {$𝑥 ∈ 𝑉|𝑓(𝑥) = 0$}. Như vậy, tìm $Ker(f)$ là giải phương trình $𝑓(𝑥) = 0.$"
   ]
  },
  {
   "cell_type": "markdown",
   "id": "ce682fa4",
   "metadata": {},
   "source": [
    "Ví dụ: Cho ánh xạ $𝑓$ từ $ℝ^3 \\rightarrow ℝ^3$<br>\n",
    "$$𝑓(𝑥1, 𝑥2, 𝑥3) = (𝑥1 + 𝑥2 − 𝑥3; 2𝑥1 + 3𝑥2 − 𝑥3, 3𝑥1 + 5𝑥2 − 𝑥3)$$"
   ]
  },
  {
   "cell_type": "code",
   "execution_count": 27,
   "id": "c460bdea",
   "metadata": {},
   "outputs": [
    {
     "data": {
      "text/plain": [
       "{x1: 2*x3, x2: -x3}"
      ]
     },
     "execution_count": 27,
     "metadata": {},
     "output_type": "execute_result"
    }
   ],
   "source": [
    "x1, x2, x3 = sp.symbols('x1 x2 x3')\n",
    "sp.solve([x1+x2-x3,2*x1+3*x2-x3,3*x1+5*x2-x3],[x1,x2,x3])"
   ]
  },
  {
   "cell_type": "markdown",
   "id": "7adecc4b",
   "metadata": {},
   "source": [
    "#### 1.5.Tìm ảnh của ánh xạ tuyến tính"
   ]
  },
  {
   "cell_type": "code",
   "execution_count": 30,
   "id": "6943f6bc",
   "metadata": {
    "scrolled": false
   },
   "outputs": [
    {
     "data": {
      "text/plain": [
       "[]"
      ]
     },
     "execution_count": 30,
     "metadata": {},
     "output_type": "execute_result"
    }
   ],
   "source": [
    "x1, x2, x3 = sp.symbols('x1 x2 x3')\n",
    "y1, y2, y3 = sp.symbols('y1 y2 y3')\n",
    "sp.solve([x1+x2-x3-y1,2*x1+3*x2-x3-y2,3*x1+5*x2-x3-y3],[x1,x2,x3])"
   ]
  },
  {
   "cell_type": "markdown",
   "id": "0025a530",
   "metadata": {},
   "source": [
    "#### 1.6. Ma trận của ánh xạ tuyến tính trong cặp cơ sở"
   ]
  },
  {
   "cell_type": "markdown",
   "id": "1d538c69",
   "metadata": {},
   "source": [
    "Ví dụ: Cho ánh xạ f từ $R^2 → R^2: f(x, y) = (x − y, x) $<br>\n",
    "Với 2 cơ sở $B = ${$u1 = (−1; 1), u2 = (1; 0)$} và $F=$ {$v1 = (1; 2), v2 = (1; 3)$}.<br>\n",
    "tìm Ma trận $A = [f]_B^F$\n",
    "được xác định như sau:"
   ]
  },
  {
   "cell_type": "markdown",
   "id": "4e491b12",
   "metadata": {},
   "source": [
    "B1: Tính các $f(u_i)$"
   ]
  },
  {
   "cell_type": "code",
   "execution_count": 4,
   "id": "42007599",
   "metadata": {},
   "outputs": [
    {
     "data": {
      "text/plain": [
       "(array([-2, -1]), array([1, 1]))"
      ]
     },
     "execution_count": 4,
     "metadata": {},
     "output_type": "execute_result"
    }
   ],
   "source": [
    "def fxy(x,y):\n",
    "    return np.array([x-y,x])\n",
    "fu1 = fxy(-1,1)\n",
    "fu2 = fxy(1,0)\n",
    "fu1,fu2"
   ]
  },
  {
   "cell_type": "markdown",
   "id": "462dcb0a",
   "metadata": {},
   "source": [
    "B2: Bước 2: Xác định các giá trị $[f(u_i)]_F$"
   ]
  },
  {
   "cell_type": "markdown",
   "id": "14c1c773",
   "metadata": {},
   "source": [
    "$[f(ui)]F = [a_i b_i].T \\leftrightarrow f(u_i) = a_iv_1 + b_iv_2 + ... + n_iv_n$"
   ]
  },
  {
   "cell_type": "code",
   "execution_count": 5,
   "id": "8668ca4c",
   "metadata": {},
   "outputs": [
    {
     "data": {
      "text/plain": [
       "{a1: -5, b1: 3}"
      ]
     },
     "execution_count": 5,
     "metadata": {},
     "output_type": "execute_result"
    }
   ],
   "source": [
    "a1,a2,b1,b2 = sp.symbols('a1 a2 b1 b2')\n",
    "fu1f = sp.solve([a1+b1+2, 2*a1+3*b1+1],[a1,b1])\n",
    "fu1f"
   ]
  },
  {
   "cell_type": "code",
   "execution_count": 10,
   "id": "2f411c6a",
   "metadata": {},
   "outputs": [
    {
     "data": {
      "text/plain": [
       "{a1: 2, b1: -1}"
      ]
     },
     "execution_count": 10,
     "metadata": {},
     "output_type": "execute_result"
    }
   ],
   "source": [
    "fu2f = sp.solve([a1+b1-1, 2*a1+3*b1-1],[a1,b1])\n",
    "fu2f"
   ]
  },
  {
   "cell_type": "markdown",
   "id": "a03b5b23",
   "metadata": {},
   "source": [
    "B3 trả về ma trận bằng cách dựng đứng 2 vector vừa tìm được "
   ]
  },
  {
   "cell_type": "code",
   "execution_count": 13,
   "id": "d0e54bb6",
   "metadata": {},
   "outputs": [
    {
     "data": {
      "text/latex": [
       "$\\displaystyle \\left[\\begin{matrix}-5 & 2\\\\3 & -1\\end{matrix}\\right]$"
      ],
      "text/plain": [
       "Matrix([\n",
       "[-5,  2],\n",
       "[ 3, -1]])"
      ]
     },
     "execution_count": 13,
     "metadata": {},
     "output_type": "execute_result"
    }
   ],
   "source": [
    "A = sp.Matrix([[-5,3],[2,-1]])\n",
    "A.T"
   ]
  },
  {
   "cell_type": "code",
   "execution_count": 82,
   "id": "84e5cb8c",
   "metadata": {
    "scrolled": false
   },
   "outputs": [
    {
     "data": {
      "text/plain": [
       "array([[ 0.70710678,  0.70710678],\n",
       "       [ 0.70710678, -0.70710678]])"
      ]
     },
     "execution_count": 82,
     "metadata": {},
     "output_type": "execute_result"
    }
   ],
   "source": [
    "import numpy as np\n",
    "import math\n",
    "from scipy import linalg as LA\n",
    "B = np.matrix([[5,5],\n",
    "                [-1,7]]) # cos(pi/4)\n",
    "\n",
    "LA.orth(B)"
   ]
  },
  {
   "cell_type": "code",
   "execution_count": 3,
   "id": "423d9e34",
   "metadata": {},
   "outputs": [
    {
     "data": {
      "text/plain": [
       "array([[  6,  -5,   5],\n",
       "       [  0, -10,  -7]])"
      ]
     },
     "execution_count": 3,
     "metadata": {},
     "output_type": "execute_result"
    }
   ],
   "source": [
    "A=np.random.randint(-10,10,size=(2,3))\n",
    "A"
   ]
  },
  {
   "cell_type": "code",
   "execution_count": 5,
   "id": "73fdcef8",
   "metadata": {},
   "outputs": [
    {
     "data": {
      "text/plain": [
       "(array([[ 1.,  0.],\n",
       "        [-0.,  1.]]),\n",
       " array([[  6.,  -5.,   5.],\n",
       "        [  0., -10.,  -7.]]))"
      ]
     },
     "execution_count": 5,
     "metadata": {},
     "output_type": "execute_result"
    }
   ],
   "source": [
    "linalg.qr(A)"
   ]
  },
  {
   "cell_type": "markdown",
   "id": "c8dee15e",
   "metadata": {},
   "source": [
    "### 3. [Tham khảo] Ứng dụng 2 – Xếp hạng các trang web với trị riêng và vector riêng"
   ]
  },
  {
   "cell_type": "code",
   "execution_count": 8,
   "id": "fe8e1078",
   "metadata": {},
   "outputs": [],
   "source": [
    "A = np.array([[0,0,1.0/2, 1.0/2],\n",
    "    [1.0/3,0,0,0],\n",
    "    [1.0/3,0,0,1.0/2],\n",
    "    [1.0/3,1.0,1.0/2,0]])\n",
    "x = np.array([1,1,1,1])"
   ]
  },
  {
   "cell_type": "code",
   "execution_count": 9,
   "id": "a9a9bd43",
   "metadata": {},
   "outputs": [
    {
     "data": {
      "text/plain": [
       "array([1.        , 0.33333333, 0.83333333, 1.83333333])"
      ]
     },
     "execution_count": 9,
     "metadata": {},
     "output_type": "execute_result"
    }
   ],
   "source": [
    "A@x"
   ]
  },
  {
   "cell_type": "code",
   "execution_count": 14,
   "id": "56639261",
   "metadata": {},
   "outputs": [
    {
     "name": "stdout",
     "output_type": "stream",
     "text": [
      "0 [1. 1. 1. 1.]\n",
      "1 [1.         0.33333333 0.83333333 1.83333333]\n",
      "2 [1.33333333 0.33333333 1.25       1.08333333]\n",
      "3 [1.16666667 0.44444444 0.98611111 1.40277778]\n",
      "4 [1.19444444 0.38888889 1.09027778 1.32638889]\n",
      "5 [1.20833333 0.39814815 1.06134259 1.33217593]\n",
      "6 [1.19675926 0.40277778 1.06886574 1.33159722]\n",
      "7 [1.20023148 0.39891975 1.06471836 1.3361304 ]\n",
      "8 [1.20042438 0.40007716 1.06814236 1.3313561 ]\n",
      "9 [1.19974923 0.40014146 1.06581951 1.3342898 ]\n",
      "10 [1.20005466 0.39991641 1.06706131 1.33296762]\n"
     ]
    }
   ],
   "source": [
    "x = np.array([1.0, 1.0, 1.0, 1.0])\n",
    "print(0,x)\n",
    "for i in range(10):\n",
    "    x = np.dot(A, x)\n",
    "    print (i+1, x)"
   ]
  },
  {
   "cell_type": "markdown",
   "id": "372c278c",
   "metadata": {},
   "source": [
    "#### 3.2.Xử lý dangling node trong thuật toán Pagerank"
   ]
  },
  {
   "cell_type": "code",
   "execution_count": 16,
   "id": "f1054172",
   "metadata": {},
   "outputs": [
    {
     "name": "stdout",
     "output_type": "stream",
     "text": [
      "1 [0.5        0.33333333 0.33333333 1.83333333]\n",
      "2 [0.16666667 0.16666667 0.16666667 0.66666667]\n",
      "3 [0.08333333 0.05555556 0.05555556 0.30555556]\n",
      "4 [0.02777778 0.02777778 0.02777778 0.11111111]\n",
      "5 [0.01388889 0.00925926 0.00925926 0.05092593]\n"
     ]
    }
   ],
   "source": [
    "A = np.array([[0,0,1.0/2, 0.0],\n",
    "            [1.0/3,0,0,0],\n",
    "            [1.0/3,0,0,0.0],\n",
    "            [1.0/3,1.0,1.0/2,0]])\n",
    "x = np.array([1,1,1,1])\n",
    "for i in range(5):\n",
    "    x = np.dot(A, x)\n",
    "    print (i+1, x)"
   ]
  },
  {
   "cell_type": "code",
   "execution_count": 17,
   "id": "eac2dd7f",
   "metadata": {},
   "outputs": [
    {
     "name": "stdout",
     "output_type": "stream",
     "text": [
      "1 [0.75       0.58333333 0.58333333 2.08333333]\n",
      "2 [0.8125     0.77083333 0.77083333 1.64583333]\n",
      "3 [0.796875   0.68229167 0.68229167 1.83854167]\n",
      "4 [0.80078125 0.72526042 0.72526042 1.74869792]\n",
      "5 [0.79980469 0.70410156 0.70410156 1.79199219]\n",
      "6 [0.80004883 0.71459961 0.71459961 1.77075195]\n",
      "7 [0.79998779 0.70937093 0.70937093 1.78127035]\n"
     ]
    }
   ],
   "source": [
    "x = np.array([1.0, 1.0, 1.0, 1.0])\n",
    "A = np.array([[0,0,1.0/2, 1/4.0],\n",
    "            [1.0/3,0,0,1/4.0],\n",
    "            [1.0/3,0,0,1/4.0],\n",
    "            [1.0/3,1.0,1.0/2,1/4.0]])\n",
    "\n",
    "for i in range(7):\n",
    "    x = np.dot(A, x)\n",
    "    print (i+1, x)"
   ]
  },
  {
   "cell_type": "code",
   "execution_count": 18,
   "id": "814173e6",
   "metadata": {},
   "outputs": [
    {
     "data": {
      "text/plain": [
       "1.781270345052083"
      ]
     },
     "execution_count": 18,
     "metadata": {},
     "output_type": "execute_result"
    }
   ],
   "source": [
    "np.max(x)"
   ]
  },
  {
   "cell_type": "markdown",
   "id": "29c1606e",
   "metadata": {},
   "source": [
    "#### 3.3.Xử lý nhánh web reducible còn gọi là các thành phần không kết nối hoặc thành phần không liên thông (disconnected components)"
   ]
  },
  {
   "cell_type": "code",
   "execution_count": 19,
   "id": "0a33e5f7",
   "metadata": {},
   "outputs": [
    {
     "name": "stdout",
     "output_type": "stream",
     "text": [
      "1 [0.0625     0.10416667 0.04166667 0.16666667 0.125      0.1875\n",
      " 0.25       0.0625    ]\n",
      "2 [0.02083333 0.04166667 0.02083333 0.09375    0.14583333 0.28125\n",
      " 0.23958333 0.09375   ]\n",
      "3 [0.01041667 0.01736111 0.00694444 0.03819444 0.16145833 0.28645833\n",
      " 0.23958333 0.140625  ]\n",
      "4 [0.00347222 0.00694444 0.00347222 0.015625   0.15190972 0.30989583\n",
      " 0.25086806 0.14322917]\n",
      "5 [0.00173611 0.00289352 0.00115741 0.00636574 0.15842014 0.32248264\n",
      " 0.23133681 0.15494792]\n",
      "6 [0.0005787  0.00115741 0.0005787  0.00260417 0.16268808 0.30881076\n",
      " 0.23907697 0.16124132]\n",
      "7 [2.89351852e-04 4.82253086e-04 1.92901235e-04 1.06095679e-03\n",
      " 1.54984086e-01 3.19697627e-01 2.44610822e-01 1.54405382e-01]\n"
     ]
    }
   ],
   "source": [
    "A = np.array([[0.0, 0.0, 1/2.0, 0.0, 0.0, 0.0, 0.0, 0.0],\n",
    "            [1.0/3, 0.0, 1/2.0, 0.0, 0.0, 0.0, 0.0, 0.0],\n",
    "            [1/3.0, 0.0, 0.0, 0.0, 0.0, 0.0, 0.0, 0.0],\n",
    "            [1.0/3,1/2.0,1/2.0, 0.0, 0.0, 0.0, 0.0, 0.0],\n",
    "            [0.0 ,1/2.0, 0.0, 0.0, 0.0,1/2.0, 0.0,0.0],\n",
    "            [0.0, 0.0, 0.0,0.0, 0.0, 0.0, 1.0,1/2.0],\n",
    "            [0.0, 0.0, 0.0,1/2.0, 1.0, 0.0, 0.0, 1/2.0],\n",
    "            [0.0, 0.0, 0.0,0.0, 0.0,1/2.0, 0.0, 0.0]])\n",
    "\n",
    "N = 8\n",
    "x = np.array([1.0/N, 1.0/N, 1.0/N, 1.0/N, 1.0/N, 1.0/N, 1.0/N, 1.0/N])\n",
    "for i in range(7):\n",
    "    x = np.dot(A, x)\n",
    "    print (i+1, x)"
   ]
  },
  {
   "cell_type": "code",
   "execution_count": 22,
   "id": "6881d3ae",
   "metadata": {},
   "outputs": [
    {
     "name": "stdout",
     "output_type": "stream",
     "text": [
      "1 [0.071875   0.10729167 0.05416667 0.16041667 0.125      0.178125\n",
      " 0.23125    0.071875  ]\n",
      "2 [0.04177083 0.06213542 0.03911458 0.10773437 0.14005208 0.24585938\n",
      " 0.22372396 0.09445312]\n",
      "3 [0.03452702 0.04636209 0.02973839 0.07276964 0.14880111 0.24821126\n",
      " 0.22287728 0.12239355]\n",
      "4 [0.02999532 0.03977798 0.02713916 0.05948186 0.14255018 0.25881945\n",
      " 0.2267818  0.12284629]\n",
      "5 [0.02854774 0.03704642 0.02551228 0.05395206 0.14391751 0.26198781\n",
      " 0.21567072 0.12701187]\n",
      "6 [0.02759859 0.03568711 0.0248444  0.05143184 0.14384542 0.25405603\n",
      " 0.21599542 0.12810069]\n",
      "7 [0.02708811 0.03490771 0.02434884 0.05007473 0.13967008 0.25456814\n",
      " 0.21509917 0.12450305]\n"
     ]
    }
   ],
   "source": [
    "d = 0.85\n",
    "N = 8\n",
    "x = np.array([1.0/N, 1.0/N, 1.0/N, 1.0/N, 1.0/N, 1.0/N, 1.0/N, 1.0/N])\n",
    "A = np.array([[0.0, 0.0, 1/2.0, 0.0, 0.0, 0.0, 0.0, 0.0],\n",
    "            [1.0/3, 0.0, 1/2.0, 0.0, 0.0, 0.0, 0.0, 0.0],\n",
    "            [1/3.0, 0.0, 0.0, 0.0, 0.0, 0.0, 0.0, 0.0],\n",
    "            [1.0/3,1/2.0,1/2.0, 0.0, 0.0, 0.0, 0.0, 0.0],\n",
    "            [0.0 ,1/2.0, 0.0, 0.0, 0.0,1/2.0, 0.0,0.0],\n",
    "            [0.0, 0.0, 0.0,0.0, 0.0, 0.0, 1.0,1/2.0],\n",
    "            [0.0, 0.0, 0.0,1/2.0, 1.0, 0.0, 0.0, 1/2.0],\n",
    "            [0.0, 0.0, 0.0,0.0, 0.0,1/2.0, 0.0, 0.0]])\n",
    "M = d*A + ((1-d)/N)* np.ones([N,N])\n",
    "\n",
    "for i in range(7):\n",
    "    x= np.dot(M,x)\n",
    "    print(i+1,x)"
   ]
  },
  {
   "cell_type": "code",
   "execution_count": null,
   "id": "a6e1a0ac",
   "metadata": {},
   "outputs": [],
   "source": []
  }
 ],
 "metadata": {
  "kernelspec": {
   "display_name": "Python 3 (ipykernel)",
   "language": "python",
   "name": "python3"
  },
  "language_info": {
   "codemirror_mode": {
    "name": "ipython",
    "version": 3
   },
   "file_extension": ".py",
   "mimetype": "text/x-python",
   "name": "python",
   "nbconvert_exporter": "python",
   "pygments_lexer": "ipython3",
   "version": "3.9.7"
  }
 },
 "nbformat": 4,
 "nbformat_minor": 5
}
