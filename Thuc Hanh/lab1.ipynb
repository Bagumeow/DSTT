{
 "cells": [
  {
   "cell_type": "markdown",
   "id": "abc7339f",
   "metadata": {},
   "source": [
    "# Giới thiệu python và numpy"
   ]
  },
  {
   "cell_type": "markdown",
   "id": "bc5aca34",
   "metadata": {},
   "source": [
    "## 1. List"
   ]
  },
  {
   "cell_type": "code",
   "execution_count": 1,
   "id": "0974c65a",
   "metadata": {},
   "outputs": [],
   "source": [
    "danhsach1=[1.,3.]"
   ]
  },
  {
   "cell_type": "code",
   "execution_count": 2,
   "id": "1d8730b2",
   "metadata": {},
   "outputs": [],
   "source": [
    "danhsach2=[5.,7.]"
   ]
  },
  {
   "cell_type": "code",
   "execution_count": 5,
   "id": "bd11793f",
   "metadata": {},
   "outputs": [],
   "source": [
    "danhsach=danhsach1+danhsach2"
   ]
  },
  {
   "cell_type": "code",
   "execution_count": 7,
   "id": "a7a0ca84",
   "metadata": {},
   "outputs": [
    {
     "name": "stdout",
     "output_type": "stream",
     "text": [
      "[1.0, 3.0, 5.0, 7.0, 1.0, 3.0, 5.0, 7.0]\n"
     ]
    }
   ],
   "source": [
    "danhsach_gapdoi = 2 * danhsach\n",
    "print(danhsach_gapdoi)"
   ]
  },
  {
   "cell_type": "code",
   "execution_count": 8,
   "id": "299f3062",
   "metadata": {},
   "outputs": [
    {
     "data": {
      "text/plain": [
       "[1.0, 3.0, 5.0, 7.0, 1.0, 3.0, 5.0, 7.0]"
      ]
     },
     "execution_count": 8,
     "metadata": {},
     "output_type": "execute_result"
    }
   ],
   "source": [
    "danhsach*2"
   ]
  },
  {
   "cell_type": "code",
   "execution_count": 9,
   "id": "c833d044",
   "metadata": {},
   "outputs": [
    {
     "ename": "TypeError",
     "evalue": "unsupported operand type(s) for /: 'list' and 'int'",
     "output_type": "error",
     "traceback": [
      "\u001b[1;31m---------------------------------------------------------------------------\u001b[0m",
      "\u001b[1;31mTypeError\u001b[0m                                 Traceback (most recent call last)",
      "\u001b[1;32m~\\AppData\\Local\\Temp/ipykernel_24408/1850197139.py\u001b[0m in \u001b[0;36m<module>\u001b[1;34m\u001b[0m\n\u001b[1;32m----> 1\u001b[1;33m \u001b[0mdanhsach\u001b[0m\u001b[1;33m/\u001b[0m\u001b[1;36m2\u001b[0m\u001b[1;33m\u001b[0m\u001b[1;33m\u001b[0m\u001b[0m\n\u001b[0m",
      "\u001b[1;31mTypeError\u001b[0m: unsupported operand type(s) for /: 'list' and 'int'"
     ]
    }
   ],
   "source": [
    "danhsach/2"
   ]
  },
  {
   "cell_type": "code",
   "execution_count": 10,
   "id": "3a13249f",
   "metadata": {},
   "outputs": [
    {
     "data": {
      "text/plain": [
       "<zip at 0x2134c466980>"
      ]
     },
     "execution_count": 10,
     "metadata": {},
     "output_type": "execute_result"
    }
   ],
   "source": [
    "mon_hoc = [\"ToanCC\", \"DSTT\", \"ToanRR\", \"LaptrinhCB\"]\n",
    "thu_tu = [2, 3, 4, 1]\n",
    "diem_so = [10, 9, 8, 7]\n",
    "anh_xa = zip(thu_tu, mon_hoc, diem_so)\n",
    "anh_xa"
   ]
  },
  {
   "cell_type": "code",
   "execution_count": 11,
   "id": "2fb18d91",
   "metadata": {},
   "outputs": [
    {
     "data": {
      "text/plain": [
       "{(1, 'LaptrinhCB', 7), (2, 'ToanCC', 10), (3, 'DSTT', 9), (4, 'ToanRR', 8)}"
      ]
     },
     "execution_count": 11,
     "metadata": {},
     "output_type": "execute_result"
    }
   ],
   "source": [
    "tap_hop = set(anh_xa)\n",
    "tap_hop"
   ]
  },
  {
   "cell_type": "code",
   "execution_count": 20,
   "id": "ebd8c367",
   "metadata": {},
   "outputs": [
    {
     "data": {
      "text/plain": [
       "<zip at 0x2134e47a140>"
      ]
     },
     "execution_count": 20,
     "metadata": {},
     "output_type": "execute_result"
    }
   ],
   "source": [
    "lay_TT, lay_monhoc , lay_diem = zip(*anh_xa)\n"
   ]
  },
  {
   "cell_type": "code",
   "execution_count": 21,
   "id": "51067dfd",
   "metadata": {},
   "outputs": [
    {
     "data": {
      "text/plain": [
       "[0, 1, 2, 3, 5, 6, 7, 8, 9, 15, 16, 17, 18, 19]"
      ]
     },
     "execution_count": 21,
     "metadata": {},
     "output_type": "execute_result"
    }
   ],
   "source": [
    "import itertools\n",
    "tap_sinh = list (itertools.chain (range (4), range (5,10), range (15, 20) ))\n",
    "tap_sinh"
   ]
  },
  {
   "cell_type": "code",
   "execution_count": 22,
   "id": "f61a5abb",
   "metadata": {},
   "outputs": [
    {
     "data": {
      "text/plain": [
       "[(0, 7, 10), (1, 8, 9), (2, 9, 8), (3, 10, 7)]"
      ]
     },
     "execution_count": 22,
     "metadata": {},
     "output_type": "execute_result"
    }
   ],
   "source": [
    "list(zip(range(4), range(7, 12), reversed(range(11) ) ) )\n"
   ]
  },
  {
   "cell_type": "code",
   "execution_count": 23,
   "id": "6fcefa9b",
   "metadata": {},
   "outputs": [],
   "source": [
    "import math"
   ]
  },
  {
   "cell_type": "code",
   "execution_count": 24,
   "id": "db1588a3",
   "metadata": {},
   "outputs": [
    {
     "data": {
      "text/plain": [
       "inf"
      ]
     },
     "execution_count": 24,
     "metadata": {},
     "output_type": "execute_result"
    }
   ],
   "source": [
    "math.inf"
   ]
  },
  {
   "cell_type": "code",
   "execution_count": 25,
   "id": "f9c7dfc2",
   "metadata": {},
   "outputs": [
    {
     "data": {
      "text/plain": [
       "float"
      ]
     },
     "execution_count": 25,
     "metadata": {},
     "output_type": "execute_result"
    }
   ],
   "source": [
    "type(math.inf)"
   ]
  },
  {
   "cell_type": "code",
   "execution_count": 26,
   "id": "a6095521",
   "metadata": {},
   "outputs": [
    {
     "data": {
      "text/plain": [
       "True"
      ]
     },
     "execution_count": 26,
     "metadata": {},
     "output_type": "execute_result"
    }
   ],
   "source": [
    "x = 1\n",
    "math.expm1(x) == math.exp(x) - 1"
   ]
  },
  {
   "cell_type": "code",
   "execution_count": 29,
   "id": "3af51914",
   "metadata": {},
   "outputs": [
    {
     "name": "stdout",
     "output_type": "stream",
     "text": [
      "1.0000050000166667e-05\n",
      "1.0000050000069649e-05\n"
     ]
    },
    {
     "data": {
      "text/plain": [
       "False"
      ]
     },
     "execution_count": 29,
     "metadata": {},
     "output_type": "execute_result"
    }
   ],
   "source": [
    "x=1e-5\n",
    "print(math.expm1(x))\n",
    "print(math.exp(x)-1)\n",
    "math.expm1(x) == math.exp(x) - 1"
   ]
  },
  {
   "cell_type": "markdown",
   "id": "79a1333f",
   "metadata": {},
   "source": [
    "## 2.Làm quen với numpy"
   ]
  },
  {
   "cell_type": "code",
   "execution_count": 31,
   "id": "56b21a1e",
   "metadata": {},
   "outputs": [],
   "source": [
    "import numpy as np"
   ]
  },
  {
   "cell_type": "code",
   "execution_count": 32,
   "id": "f575aa12",
   "metadata": {},
   "outputs": [
    {
     "data": {
      "text/plain": [
       "array([ 2.,  6., 10.])"
      ]
     },
     "execution_count": 32,
     "metadata": {},
     "output_type": "execute_result"
    }
   ],
   "source": [
    "vec1=np.array([1.,3.,5.])\n",
    "vec1*2"
   ]
  },
  {
   "cell_type": "code",
   "execution_count": 35,
   "id": "cd1afc3e",
   "metadata": {},
   "outputs": [
    {
     "data": {
      "text/plain": [
       "[1.0, 3.0, 5, 1.0, 3.0, 5]"
      ]
     },
     "execution_count": 35,
     "metadata": {},
     "output_type": "execute_result"
    }
   ],
   "source": [
    "a=[1.,3.,5]\n",
    "a*2"
   ]
  },
  {
   "cell_type": "code",
   "execution_count": 36,
   "id": "dd2e04f5",
   "metadata": {},
   "outputs": [
    {
     "data": {
      "text/plain": [
       "array([ 1.,  9., 25.])"
      ]
     },
     "execution_count": 36,
     "metadata": {},
     "output_type": "execute_result"
    }
   ],
   "source": [
    "vec1*vec1"
   ]
  },
  {
   "cell_type": "code",
   "execution_count": 37,
   "id": "e736fc79",
   "metadata": {},
   "outputs": [
    {
     "data": {
      "text/plain": [
       "array([0.5, 1.5, 2.5])"
      ]
     },
     "execution_count": 37,
     "metadata": {},
     "output_type": "execute_result"
    }
   ],
   "source": [
    "vec1/2"
   ]
  },
  {
   "cell_type": "code",
   "execution_count": 38,
   "id": "3090c4b5",
   "metadata": {},
   "outputs": [
    {
     "data": {
      "text/plain": [
       "array([ 2.,  6., 10.])"
      ]
     },
     "execution_count": 38,
     "metadata": {},
     "output_type": "execute_result"
    }
   ],
   "source": [
    "vec1+vec1"
   ]
  },
  {
   "cell_type": "code",
   "execution_count": 41,
   "id": "f258f053",
   "metadata": {},
   "outputs": [
    {
     "ename": "ValueError",
     "evalue": "operands could not be broadcast together with shapes (3,) (2,) ",
     "output_type": "error",
     "traceback": [
      "\u001b[1;31m---------------------------------------------------------------------------\u001b[0m",
      "\u001b[1;31mValueError\u001b[0m                                Traceback (most recent call last)",
      "\u001b[1;32m~\\AppData\\Local\\Temp/ipykernel_24408/3501153557.py\u001b[0m in \u001b[0;36m<module>\u001b[1;34m\u001b[0m\n\u001b[0;32m      1\u001b[0m \u001b[0mvec2\u001b[0m \u001b[1;33m=\u001b[0m \u001b[0mnp\u001b[0m\u001b[1;33m.\u001b[0m\u001b[0marray\u001b[0m\u001b[1;33m(\u001b[0m\u001b[1;33m[\u001b[0m\u001b[1;36m2.\u001b[0m\u001b[1;33m,\u001b[0m\u001b[1;36m4.\u001b[0m\u001b[1;33m]\u001b[0m\u001b[1;33m)\u001b[0m\u001b[1;33m\u001b[0m\u001b[1;33m\u001b[0m\u001b[0m\n\u001b[1;32m----> 2\u001b[1;33m \u001b[0mvec1\u001b[0m\u001b[1;33m+\u001b[0m\u001b[0mvec2\u001b[0m\u001b[1;33m\u001b[0m\u001b[1;33m\u001b[0m\u001b[0m\n\u001b[0m",
      "\u001b[1;31mValueError\u001b[0m: operands could not be broadcast together with shapes (3,) (2,) "
     ]
    }
   ],
   "source": [
    "vec2 = np.array([2.,4.])\n",
    "vec1+vec2"
   ]
  },
  {
   "cell_type": "code",
   "execution_count": 44,
   "id": "b45e2e89",
   "metadata": {},
   "outputs": [
    {
     "data": {
      "text/plain": [
       "array([ 3.,  7., 11.])"
      ]
     },
     "execution_count": 44,
     "metadata": {},
     "output_type": "execute_result"
    }
   ],
   "source": [
    "vec3=np.array([2,4,6],dtype=float)\n",
    "vec1 + vec3"
   ]
  },
  {
   "cell_type": "code",
   "execution_count": 45,
   "id": "3e1a6c86",
   "metadata": {},
   "outputs": [
    {
     "data": {
      "text/plain": [
       "array([0.5       , 0.75      , 0.83333333])"
      ]
     },
     "execution_count": 45,
     "metadata": {},
     "output_type": "execute_result"
    }
   ],
   "source": [
    "vec1/vec3"
   ]
  },
  {
   "cell_type": "code",
   "execution_count": 46,
   "id": "9e47b2d2",
   "metadata": {},
   "outputs": [
    {
     "data": {
      "text/plain": [
       "array([ 2., 12., 30.])"
      ]
     },
     "execution_count": 46,
     "metadata": {},
     "output_type": "execute_result"
    }
   ],
   "source": [
    "vec1*vec3"
   ]
  },
  {
   "cell_type": "code",
   "execution_count": 47,
   "id": "aa15d285",
   "metadata": {},
   "outputs": [
    {
     "data": {
      "text/plain": [
       "array([12., 26., 40.])"
      ]
     },
     "execution_count": 47,
     "metadata": {},
     "output_type": "execute_result"
    }
   ],
   "source": [
    "2* vec1+ 5*vec3"
   ]
  },
  {
   "cell_type": "code",
   "execution_count": 48,
   "id": "696e821f",
   "metadata": {},
   "outputs": [
    {
     "data": {
      "text/plain": [
       "6.0"
      ]
     },
     "execution_count": 48,
     "metadata": {},
     "output_type": "execute_result"
    }
   ],
   "source": [
    "vec3[2]"
   ]
  },
  {
   "cell_type": "code",
   "execution_count": 50,
   "id": "9f963aae",
   "metadata": {},
   "outputs": [
    {
     "data": {
      "text/plain": [
       "array([ 0.,  5., 10., 15., 20.])"
      ]
     },
     "execution_count": 50,
     "metadata": {},
     "output_type": "execute_result"
    }
   ],
   "source": [
    "vec4=np.linspace(0,20,5)\n",
    "vec4"
   ]
  },
  {
   "cell_type": "code",
   "execution_count": 58,
   "id": "68b14773",
   "metadata": {},
   "outputs": [],
   "source": [
    "vec36=np.linspace(0,36,10)"
   ]
  },
  {
   "cell_type": "code",
   "execution_count": 59,
   "id": "133fa6ae",
   "metadata": {},
   "outputs": [
    {
     "data": {
      "text/plain": [
       "array([ 0.,  4.,  8., 12., 16., 20., 24., 28., 32., 36.])"
      ]
     },
     "execution_count": 59,
     "metadata": {},
     "output_type": "execute_result"
    }
   ],
   "source": [
    "vec36"
   ]
  },
  {
   "cell_type": "code",
   "execution_count": 67,
   "id": "9ae16af4",
   "metadata": {},
   "outputs": [
    {
     "data": {
      "text/plain": [
       "array([0., 0., 0., 0., 0.])"
      ]
     },
     "execution_count": 67,
     "metadata": {},
     "output_type": "execute_result"
    }
   ],
   "source": [
    "vec5=np.zeros(5)\n",
    "vec5"
   ]
  },
  {
   "cell_type": "code",
   "execution_count": 69,
   "id": "31289ebf",
   "metadata": {},
   "outputs": [
    {
     "data": {
      "text/plain": [
       "array([1., 1., 1., 1., 1.])"
      ]
     },
     "execution_count": 69,
     "metadata": {},
     "output_type": "execute_result"
    }
   ],
   "source": [
    "vec6=np.ones(5)\n",
    "vec6"
   ]
  },
  {
   "cell_type": "code",
   "execution_count": 80,
   "id": "1e42a86f",
   "metadata": {},
   "outputs": [
    {
     "data": {
      "text/plain": [
       "array([1., 1., 1., 1., 1.])"
      ]
     },
     "execution_count": 80,
     "metadata": {},
     "output_type": "execute_result"
    }
   ],
   "source": [
    "vec7=np.empty(5)\n",
    "vec7"
   ]
  },
  {
   "cell_type": "code",
   "execution_count": 81,
   "id": "e67780df",
   "metadata": {},
   "outputs": [
    {
     "data": {
      "text/plain": [
       "array([0.22286523, 0.1872596 , 0.73387536, 0.79563806, 0.47272866])"
      ]
     },
     "execution_count": 81,
     "metadata": {},
     "output_type": "execute_result"
    }
   ],
   "source": [
    "np.random.random(5)"
   ]
  },
  {
   "cell_type": "code",
   "execution_count": 88,
   "id": "a6143f02",
   "metadata": {},
   "outputs": [
    {
     "data": {
      "text/plain": [
       "array([[6, 4, 1],\n",
       "       [3, 1, 0],\n",
       "       [3, 2, 1],\n",
       "       [0, 0, 5],\n",
       "       [2, 1, 3]])"
      ]
     },
     "execution_count": 88,
     "metadata": {},
     "output_type": "execute_result"
    }
   ],
   "source": [
    "np.random.randint(0,7,size=(5,3))"
   ]
  },
  {
   "cell_type": "code",
   "execution_count": 90,
   "id": "dd7aeae0",
   "metadata": {},
   "outputs": [
    {
     "data": {
      "text/plain": [
       "array([1., 3., 5.])"
      ]
     },
     "execution_count": 90,
     "metadata": {},
     "output_type": "execute_result"
    }
   ],
   "source": [
    "v=np.array([1,3,5],dtype=float)\n",
    "v"
   ]
  },
  {
   "cell_type": "code",
   "execution_count": 91,
   "id": "793500eb",
   "metadata": {},
   "outputs": [
    {
     "data": {
      "text/plain": [
       "9.0"
      ]
     },
     "execution_count": 91,
     "metadata": {},
     "output_type": "execute_result"
    }
   ],
   "source": [
    "np.sum(v)"
   ]
  },
  {
   "cell_type": "code",
   "execution_count": 92,
   "id": "ba364b4d",
   "metadata": {},
   "outputs": [
    {
     "data": {
      "text/plain": [
       "(3,)"
      ]
     },
     "execution_count": 92,
     "metadata": {},
     "output_type": "execute_result"
    }
   ],
   "source": [
    "v.shape"
   ]
  },
  {
   "cell_type": "code",
   "execution_count": 93,
   "id": "cc4591bf",
   "metadata": {},
   "outputs": [
    {
     "data": {
      "text/plain": [
       "array([1., 3., 5.])"
      ]
     },
     "execution_count": 93,
     "metadata": {},
     "output_type": "execute_result"
    }
   ],
   "source": [
    "v.T"
   ]
  },
  {
   "cell_type": "code",
   "execution_count": 94,
   "id": "215caedd",
   "metadata": {},
   "outputs": [
    {
     "data": {
      "text/plain": [
       "array([1., 3., 5.])"
      ]
     },
     "execution_count": 94,
     "metadata": {},
     "output_type": "execute_result"
    }
   ],
   "source": [
    "v.transpose()"
   ]
  },
  {
   "cell_type": "code",
   "execution_count": 95,
   "id": "2eb661db",
   "metadata": {},
   "outputs": [
    {
     "data": {
      "text/plain": [
       "array([1., 3.])"
      ]
     },
     "execution_count": 95,
     "metadata": {},
     "output_type": "execute_result"
    }
   ],
   "source": [
    "v1=v[:2]\n",
    "v1"
   ]
  },
  {
   "cell_type": "code",
   "execution_count": 96,
   "id": "61ae02f9",
   "metadata": {},
   "outputs": [
    {
     "data": {
      "text/plain": [
       "array([5., 3., 5.])"
      ]
     },
     "execution_count": 96,
     "metadata": {},
     "output_type": "execute_result"
    }
   ],
   "source": [
    "v[0]=5\n",
    "v"
   ]
  },
  {
   "cell_type": "code",
   "execution_count": 97,
   "id": "e13d335c",
   "metadata": {},
   "outputs": [
    {
     "data": {
      "text/plain": [
       "array([5., 3.])"
      ]
     },
     "execution_count": 97,
     "metadata": {},
     "output_type": "execute_result"
    }
   ],
   "source": [
    "v1"
   ]
  },
  {
   "cell_type": "code",
   "execution_count": 101,
   "id": "8a7905ee",
   "metadata": {},
   "outputs": [
    {
     "ename": "ValueError",
     "evalue": "could not broadcast input array from shape (3,) into shape (2,)",
     "output_type": "error",
     "traceback": [
      "\u001b[1;31m---------------------------------------------------------------------------\u001b[0m",
      "\u001b[1;31mValueError\u001b[0m                                Traceback (most recent call last)",
      "\u001b[1;32m~\\AppData\\Local\\Temp/ipykernel_24408/1683742159.py\u001b[0m in \u001b[0;36m<module>\u001b[1;34m\u001b[0m\n\u001b[1;32m----> 1\u001b[1;33m \u001b[0mv1\u001b[0m\u001b[1;33m[\u001b[0m\u001b[1;33m:\u001b[0m\u001b[1;36m2\u001b[0m\u001b[1;33m]\u001b[0m \u001b[1;33m=\u001b[0m \u001b[1;33m[\u001b[0m\u001b[1;36m1.\u001b[0m\u001b[1;33m,\u001b[0m\u001b[1;36m2.\u001b[0m\u001b[1;33m,\u001b[0m\u001b[1;36m3.\u001b[0m\u001b[1;33m]\u001b[0m\u001b[1;33m\u001b[0m\u001b[1;33m\u001b[0m\u001b[0m\n\u001b[0m",
      "\u001b[1;31mValueError\u001b[0m: could not broadcast input array from shape (3,) into shape (2,)"
     ]
    }
   ],
   "source": [
    "v1[:2] = [1.,2.,3.]"
   ]
  },
  {
   "cell_type": "code",
   "execution_count": 103,
   "id": "bf994238",
   "metadata": {},
   "outputs": [
    {
     "data": {
      "text/plain": [
       "array([1., 2.])"
      ]
     },
     "execution_count": 103,
     "metadata": {},
     "output_type": "execute_result"
    }
   ],
   "source": [
    "v1[:2]=[1.,2.]\n",
    "v1"
   ]
  },
  {
   "cell_type": "code",
   "execution_count": 104,
   "id": "77d20a01",
   "metadata": {},
   "outputs": [
    {
     "data": {
      "text/plain": [
       "array([ 5., 10.])"
      ]
     },
     "execution_count": 104,
     "metadata": {},
     "output_type": "execute_result"
    }
   ],
   "source": [
    "v3 = 2*v[:2]+v1*3\n",
    "v3"
   ]
  },
  {
   "cell_type": "code",
   "execution_count": 105,
   "id": "5afa4010",
   "metadata": {},
   "outputs": [],
   "source": [
    "v1=[4,6]"
   ]
  },
  {
   "cell_type": "code",
   "execution_count": 106,
   "id": "6d3a3bd0",
   "metadata": {},
   "outputs": [
    {
     "data": {
      "text/plain": [
       "array([ 5., 10.])"
      ]
     },
     "execution_count": 106,
     "metadata": {},
     "output_type": "execute_result"
    }
   ],
   "source": [
    "v3"
   ]
  },
  {
   "cell_type": "code",
   "execution_count": 107,
   "id": "fbe8e9f3",
   "metadata": {},
   "outputs": [
    {
     "data": {
      "text/plain": [
       "array([1., 2., 5.])"
      ]
     },
     "execution_count": 107,
     "metadata": {},
     "output_type": "execute_result"
    }
   ],
   "source": [
    "v"
   ]
  },
  {
   "cell_type": "code",
   "execution_count": 108,
   "id": "ba573b55",
   "metadata": {},
   "outputs": [
    {
     "data": {
      "text/plain": [
       "array([11., 12., 15.])"
      ]
     },
     "execution_count": 108,
     "metadata": {},
     "output_type": "execute_result"
    }
   ],
   "source": [
    "v+10.0"
   ]
  },
  {
   "cell_type": "code",
   "execution_count": 109,
   "id": "7b100be8",
   "metadata": {},
   "outputs": [
    {
     "data": {
      "text/plain": [
       "array([1.        , 1.41421356, 2.23606798])"
      ]
     },
     "execution_count": 109,
     "metadata": {},
     "output_type": "execute_result"
    }
   ],
   "source": [
    "np.sqrt(v)"
   ]
  },
  {
   "cell_type": "code",
   "execution_count": 110,
   "id": "fbf1ff51",
   "metadata": {},
   "outputs": [
    {
     "data": {
      "text/plain": [
       "array([ 0.54030231, -0.41614684,  0.28366219])"
      ]
     },
     "execution_count": 110,
     "metadata": {},
     "output_type": "execute_result"
    }
   ],
   "source": [
    "np.cos(v)"
   ]
  },
  {
   "cell_type": "code",
   "execution_count": 111,
   "id": "ae59d93a",
   "metadata": {},
   "outputs": [
    {
     "data": {
      "text/plain": [
       "array([ 0.84147098,  0.90929743, -0.95892427])"
      ]
     },
     "execution_count": 111,
     "metadata": {},
     "output_type": "execute_result"
    }
   ],
   "source": [
    "np.sin(v)"
   ]
  },
  {
   "cell_type": "code",
   "execution_count": 114,
   "id": "d7897d44",
   "metadata": {},
   "outputs": [
    {
     "data": {
      "text/plain": [
       "0.8414709848078965"
      ]
     },
     "execution_count": 114,
     "metadata": {},
     "output_type": "execute_result"
    }
   ],
   "source": [
    "np.sin(1)"
   ]
  },
  {
   "cell_type": "code",
   "execution_count": 120,
   "id": "97b27c54",
   "metadata": {},
   "outputs": [
    {
     "name": "stdout",
     "output_type": "stream",
     "text": [
      "[4, 6]\n",
      "[ 5. 10.]\n"
     ]
    }
   ],
   "source": [
    "print(v1)\n",
    "print(v3)"
   ]
  },
  {
   "cell_type": "code",
   "execution_count": 115,
   "id": "93f49933",
   "metadata": {},
   "outputs": [
    {
     "data": {
      "text/plain": [
       "80.0"
      ]
     },
     "execution_count": 115,
     "metadata": {},
     "output_type": "execute_result"
    }
   ],
   "source": [
    "np.dot(v1, v3)"
   ]
  },
  {
   "cell_type": "code",
   "execution_count": 121,
   "id": "da8fc35a",
   "metadata": {},
   "outputs": [],
   "source": [
    "v1=np.array([4,6],dtype= float)"
   ]
  },
  {
   "cell_type": "code",
   "execution_count": 122,
   "id": "63798b76",
   "metadata": {},
   "outputs": [
    {
     "data": {
      "text/plain": [
       "80.0"
      ]
     },
     "execution_count": 122,
     "metadata": {},
     "output_type": "execute_result"
    }
   ],
   "source": [
    "v1.dot(v3)"
   ]
  },
  {
   "cell_type": "code",
   "execution_count": 123,
   "id": "b877eacb",
   "metadata": {},
   "outputs": [
    {
     "data": {
      "text/plain": [
       "80.0"
      ]
     },
     "execution_count": 123,
     "metadata": {},
     "output_type": "execute_result"
    }
   ],
   "source": [
    "v3.dot(v1)"
   ]
  },
  {
   "cell_type": "code",
   "execution_count": 124,
   "id": "fb8ca173",
   "metadata": {},
   "outputs": [
    {
     "data": {
      "text/plain": [
       "array([1., 2., 5.])"
      ]
     },
     "execution_count": 124,
     "metadata": {},
     "output_type": "execute_result"
    }
   ],
   "source": [
    "v"
   ]
  },
  {
   "cell_type": "code",
   "execution_count": 125,
   "id": "32426bca",
   "metadata": {},
   "outputs": [
    {
     "data": {
      "text/plain": [
       "5.477225575051661"
      ]
     },
     "execution_count": 125,
     "metadata": {},
     "output_type": "execute_result"
    }
   ],
   "source": [
    "np.linalg.norm(v)"
   ]
  },
  {
   "cell_type": "code",
   "execution_count": 126,
   "id": "7170e139",
   "metadata": {},
   "outputs": [
    {
     "data": {
      "text/plain": [
       "3"
      ]
     },
     "execution_count": 126,
     "metadata": {},
     "output_type": "execute_result"
    }
   ],
   "source": [
    "len(v)"
   ]
  },
  {
   "cell_type": "code",
   "execution_count": 130,
   "id": "1daf478a",
   "metadata": {},
   "outputs": [],
   "source": [
    "v3=np.array([3,5],dtype=float)"
   ]
  },
  {
   "cell_type": "code",
   "execution_count": 131,
   "id": "43deb10c",
   "metadata": {},
   "outputs": [
    {
     "data": {
      "text/plain": [
       "array([1., 2., 5., 3., 5.])"
      ]
     },
     "execution_count": 131,
     "metadata": {},
     "output_type": "execute_result"
    }
   ],
   "source": [
    "np.hstack([v,v3])"
   ]
  },
  {
   "cell_type": "code",
   "execution_count": 132,
   "id": "aad53835",
   "metadata": {},
   "outputs": [
    {
     "data": {
      "text/plain": [
       "array([[4., 6.],\n",
       "       [3., 5.]])"
      ]
     },
     "execution_count": 132,
     "metadata": {},
     "output_type": "execute_result"
    }
   ],
   "source": [
    "np.vstack([v1,v3])"
   ]
  },
  {
   "cell_type": "code",
   "execution_count": 137,
   "id": "6ee82e27",
   "metadata": {},
   "outputs": [],
   "source": [
    "def symp(v):\n",
    "    n = len(v) // 2\n",
    "    return np.hstack([-v[n:], v[:n]])"
   ]
  },
  {
   "cell_type": "code",
   "execution_count": 138,
   "id": "502216f5",
   "metadata": {},
   "outputs": [
    {
     "data": {
      "text/plain": [
       "array([ -7.,  -9., -11.,   1.,   3.,   5.])"
      ]
     },
     "execution_count": 138,
     "metadata": {},
     "output_type": "execute_result"
    }
   ],
   "source": [
    "v6 = np.array([1., 3., 5., 7., 9., 11.])\n",
    "v7 = symp(v6)\n",
    "v7"
   ]
  },
  {
   "cell_type": "markdown",
   "id": "c00eb6ac",
   "metadata": {},
   "source": [
    "### 3.2 thể hiện ma trận với np"
   ]
  },
  {
   "cell_type": "code",
   "execution_count": 140,
   "id": "f269446b",
   "metadata": {},
   "outputs": [
    {
     "data": {
      "text/plain": [
       "array([[ 9, 12],\n",
       "       [23, 30]])"
      ]
     },
     "execution_count": 140,
     "metadata": {},
     "output_type": "execute_result"
    }
   ],
   "source": [
    "M1 = np.array([[9,12],\n",
    "               [23,30]])\n",
    "M1"
   ]
  },
  {
   "cell_type": "code",
   "execution_count": 141,
   "id": "fa62773b",
   "metadata": {},
   "outputs": [],
   "source": [
    "u = np.array([2,1])"
   ]
  },
  {
   "cell_type": "code",
   "execution_count": 142,
   "id": "ddf62d3b",
   "metadata": {},
   "outputs": [
    {
     "data": {
      "text/plain": [
       "array([30, 76])"
      ]
     },
     "execution_count": 142,
     "metadata": {},
     "output_type": "execute_result"
    }
   ],
   "source": [
    "tichM1_u=M1.dot(u)\n",
    "tichM1_u"
   ]
  },
  {
   "cell_type": "code",
   "execution_count": 145,
   "id": "a0ce1da4",
   "metadata": {},
   "outputs": [
    {
     "data": {
      "text/plain": [
       "array([41, 54])"
      ]
     },
     "execution_count": 145,
     "metadata": {},
     "output_type": "execute_result"
    }
   ],
   "source": [
    "u.dot(M1)"
   ]
  },
  {
   "cell_type": "code",
   "execution_count": 148,
   "id": "4c3523dc",
   "metadata": {},
   "outputs": [
    {
     "data": {
      "text/plain": [
       "array([30, 76])"
      ]
     },
     "execution_count": 148,
     "metadata": {},
     "output_type": "execute_result"
    }
   ],
   "source": [
    "np.dot(M1,u)"
   ]
  },
  {
   "cell_type": "code",
   "execution_count": 151,
   "id": "a3218e12",
   "metadata": {},
   "outputs": [
    {
     "data": {
      "text/plain": [
       "array([[0.00000000e+000, 1.58101007e-322, 0.00000000e+000,\n",
       "        0.00000000e+000,             nan],\n",
       "       [4.94065646e-324, 7.76671195e-321, 3.95252517e-323,\n",
       "        1.12740484e-311, 1.12740484e-311],\n",
       "       [0.00000000e+000, 0.00000000e+000, 1.12740484e-311,\n",
       "        7.76671195e-321, 4.94065646e-324],\n",
       "       [1.12740340e-311, 7.76671195e-321, 1.12741793e-311,\n",
       "        1.23516411e-322, 2.12199579e-314]])"
      ]
     },
     "execution_count": 151,
     "metadata": {},
     "output_type": "execute_result"
    }
   ],
   "source": [
    "mat8=np.empty([4,5])\n",
    "mat8\n"
   ]
  },
  {
   "cell_type": "markdown",
   "id": "815c5281",
   "metadata": {},
   "source": [
    "## Sympy"
   ]
  },
  {
   "cell_type": "code",
   "execution_count": 152,
   "id": "916e0f26",
   "metadata": {},
   "outputs": [],
   "source": [
    "import sympy as sp"
   ]
  },
  {
   "cell_type": "code",
   "execution_count": 154,
   "id": "e57b056a",
   "metadata": {},
   "outputs": [
    {
     "data": {
      "text/latex": [
       "$\\displaystyle \\left[\\begin{matrix}1 & 3\\\\2 & 4\\end{matrix}\\right]$"
      ],
      "text/plain": [
       "Matrix([\n",
       "[1, 3],\n",
       "[2, 4]])"
      ]
     },
     "execution_count": 154,
     "metadata": {},
     "output_type": "execute_result"
    }
   ],
   "source": [
    "M = sp.Matrix([[1,3],[2,4]])\n",
    "M"
   ]
  },
  {
   "cell_type": "code",
   "execution_count": 157,
   "id": "819946cf",
   "metadata": {},
   "outputs": [
    {
     "data": {
      "text/latex": [
       "$\\displaystyle -2$"
      ],
      "text/plain": [
       "-2"
      ]
     },
     "execution_count": 157,
     "metadata": {},
     "output_type": "execute_result"
    }
   ],
   "source": [
    "M.det()"
   ]
  },
  {
   "cell_type": "code",
   "execution_count": 161,
   "id": "16f9bb06",
   "metadata": {},
   "outputs": [],
   "source": [
    "v1 = sp.Matrix([[5,7]])\n",
    "v2=v1.T"
   ]
  },
  {
   "cell_type": "code",
   "execution_count": 162,
   "id": "a279c79a",
   "metadata": {},
   "outputs": [
    {
     "data": {
      "text/plain": [
       "[26, 38]"
      ]
     },
     "execution_count": 162,
     "metadata": {},
     "output_type": "execute_result"
    }
   ],
   "source": [
    "M.dot(v2)"
   ]
  },
  {
   "cell_type": "code",
   "execution_count": 170,
   "id": "b4fb0328",
   "metadata": {},
   "outputs": [
    {
     "data": {
      "text/plain": [
       "[26, 38]"
      ]
     },
     "execution_count": 170,
     "metadata": {},
     "output_type": "execute_result"
    }
   ],
   "source": [
    "M.dot(v1)"
   ]
  },
  {
   "cell_type": "code",
   "execution_count": null,
   "id": "5c162416",
   "metadata": {},
   "outputs": [],
   "source": []
  }
 ],
 "metadata": {
  "kernelspec": {
   "display_name": "Python 3 (ipykernel)",
   "language": "python",
   "name": "python3"
  },
  "language_info": {
   "codemirror_mode": {
    "name": "ipython",
    "version": 3
   },
   "file_extension": ".py",
   "mimetype": "text/x-python",
   "name": "python",
   "nbconvert_exporter": "python",
   "pygments_lexer": "ipython3",
   "version": "3.9.7"
  }
 },
 "nbformat": 4,
 "nbformat_minor": 5
}
