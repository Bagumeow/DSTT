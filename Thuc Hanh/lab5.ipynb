{
 "cells": [
  {
   "cell_type": "code",
   "execution_count": 3,
   "id": "6616a1e2",
   "metadata": {},
   "outputs": [
    {
     "data": {
      "text/html": [
       "<style>.container { width:95% !important; }</style>"
      ],
      "text/plain": [
       "<IPython.core.display.HTML object>"
      ]
     },
     "metadata": {},
     "output_type": "display_data"
    }
   ],
   "source": [
    "from IPython.core.display import display, HTML\n",
    "display(HTML(\"<style>.container { width:95% !important; }</style>\"))"
   ]
  },
  {
   "cell_type": "markdown",
   "id": "d619c27c",
   "metadata": {},
   "source": [
    "# BÀI 5: ĐỊNH THỨC, MA TRẬN VÀ ỨNG DỤNG"
   ]
  },
  {
   "cell_type": "markdown",
   "id": "c9e1c933",
   "metadata": {},
   "source": [
    "## 1. Sử dụng array và matrix trong numpy"
   ]
  },
  {
   "cell_type": "markdown",
   "id": "0e1a0ded",
   "metadata": {},
   "source": [
    "### 1.1. Thông tin tóm gọn"
   ]
  },
  {
   "cell_type": "markdown",
   "id": "68c950dd",
   "metadata": {},
   "source": [
    "- Numpy: là thư viện phần mềm hướng đến xây dựng kiểu dữ liệu, hàm xử lý/tính toán trên dữ liệu.<br>\n",
    "- Scipy: hướng đến các thuật toán toán học và các hàm thuận tiện trên nền tảng numpy.<br>\n",
    "- Sympy: hướng đến tính toán hình thức.<br>\n",
    "- Pandas: hướng đến phân tích chuỗi số ().<br>"
   ]
  },
  {
   "cell_type": "code",
   "execution_count": 1,
   "id": "ff2fdf31",
   "metadata": {},
   "outputs": [],
   "source": [
    "import numpy as np\n",
    "from scipy import linalg\n",
    "import sympy as sym\n",
    "import pandas as pd"
   ]
  },
  {
   "cell_type": "code",
   "execution_count": 3,
   "id": "65678827",
   "metadata": {},
   "outputs": [
    {
     "data": {
      "text/plain": [
       "array([[-10,  -3,   1, -10,  -9],\n",
       "       [ -9,   3,  -2,   8,  -8],\n",
       "       [  2,   8,  -7,  -9,   1],\n",
       "       [ -5,   4,  -2,   2,  -5],\n",
       "       [  9,   5,  -4,   3,   4]])"
      ]
     },
     "execution_count": 3,
     "metadata": {},
     "output_type": "execute_result"
    }
   ],
   "source": [
    "a = np.random.randint(-10,10,size=(5,5))\n",
    "a"
   ]
  },
  {
   "cell_type": "code",
   "execution_count": 4,
   "id": "3f8c1a22",
   "metadata": {},
   "outputs": [],
   "source": [
    "b=np.array([[2,4,5]])"
   ]
  },
  {
   "cell_type": "markdown",
   "id": "56324168",
   "metadata": {},
   "source": [
    "**Phần tử cuối** : "
   ]
  },
  {
   "cell_type": "code",
   "execution_count": 5,
   "id": "df9065f6",
   "metadata": {},
   "outputs": [
    {
     "data": {
      "text/plain": [
       "6"
      ]
     },
     "execution_count": 5,
     "metadata": {},
     "output_type": "execute_result"
    }
   ],
   "source": [
    "a[-1][-1]"
   ]
  },
  {
   "cell_type": "code",
   "execution_count": 6,
   "id": "d37f2093",
   "metadata": {},
   "outputs": [
    {
     "data": {
      "text/plain": [
       "4"
      ]
     },
     "execution_count": 6,
     "metadata": {},
     "output_type": "execute_result"
    }
   ],
   "source": [
    "a[1,4]"
   ]
  },
  {
   "cell_type": "code",
   "execution_count": 7,
   "id": "4908f4ec",
   "metadata": {},
   "outputs": [
    {
     "data": {
      "text/plain": [
       "array([-2, -6,  0,  1,  4])"
      ]
     },
     "execution_count": 7,
     "metadata": {},
     "output_type": "execute_result"
    }
   ],
   "source": [
    "a[1]"
   ]
  },
  {
   "cell_type": "code",
   "execution_count": 8,
   "id": "23bf0b26",
   "metadata": {},
   "outputs": [
    {
     "data": {
      "text/plain": [
       "array([[-4, -2,  6, -3,  0],\n",
       "       [-2, -6,  0,  1,  4],\n",
       "       [-5, -1,  5,  7,  0],\n",
       "       [ 9,  0,  4, -3,  5]])"
      ]
     },
     "execution_count": 8,
     "metadata": {},
     "output_type": "execute_result"
    }
   ],
   "source": [
    "a[0:4]"
   ]
  },
  {
   "cell_type": "code",
   "execution_count": 9,
   "id": "75004f3e",
   "metadata": {},
   "outputs": [
    {
     "data": {
      "text/plain": [
       "array([[-4, -2,  6, -3,  0],\n",
       "       [-2, -6,  0,  1,  4],\n",
       "       [-5, -1,  5,  7,  0]])"
      ]
     },
     "execution_count": 9,
     "metadata": {},
     "output_type": "execute_result"
    }
   ],
   "source": [
    "a[:3]"
   ]
  },
  {
   "cell_type": "code",
   "execution_count": 10,
   "id": "5f9d0ffb",
   "metadata": {},
   "outputs": [
    {
     "data": {
      "text/plain": [
       "array([[-4, -2,  6, -3,  0],\n",
       "       [-2, -6,  0,  1,  4],\n",
       "       [-5, -1,  5,  7,  0]])"
      ]
     },
     "execution_count": 10,
     "metadata": {},
     "output_type": "execute_result"
    }
   ],
   "source": [
    "a[0:3]"
   ]
  },
  {
   "cell_type": "code",
   "execution_count": 11,
   "id": "cc0832d7",
   "metadata": {},
   "outputs": [
    {
     "data": {
      "text/plain": [
       "array([[-1,  5],\n",
       "       [ 0,  4]])"
      ]
     },
     "execution_count": 11,
     "metadata": {},
     "output_type": "execute_result"
    }
   ],
   "source": [
    "a[2:4,1:3]"
   ]
  },
  {
   "cell_type": "code",
   "execution_count": 5,
   "id": "26111ed6",
   "metadata": {},
   "outputs": [],
   "source": [
    "D= np.array([[1,2],[3,4]])\n",
    "np.copyto(E, D)"
   ]
  },
  {
   "cell_type": "code",
   "execution_count": 6,
   "id": "7bec44a5",
   "metadata": {},
   "outputs": [
    {
     "data": {
      "text/plain": [
       "array([[1, 2],\n",
       "       [3, 4]])"
      ]
     },
     "execution_count": 6,
     "metadata": {},
     "output_type": "execute_result"
    }
   ],
   "source": [
    "E = np.array([[1,2],[3,5]])\n",
    "np.copyto(E, D)\n",
    "E"
   ]
  },
  {
   "cell_type": "code",
   "execution_count": 40,
   "id": "71f02c77",
   "metadata": {},
   "outputs": [
    {
     "data": {
      "text/plain": [
       "array([[1, 2],\n",
       "       [3, 4]])"
      ]
     },
     "execution_count": 40,
     "metadata": {},
     "output_type": "execute_result"
    }
   ],
   "source": [
    "D"
   ]
  },
  {
   "cell_type": "markdown",
   "id": "03e43f3c",
   "metadata": {},
   "source": [
    "### 1.2 Nên và không nên sử dụng kiểu np.mat()"
   ]
  },
  {
   "cell_type": "code",
   "execution_count": 8,
   "id": "d4d5a152",
   "metadata": {},
   "outputs": [
    {
     "name": "stdout",
     "output_type": "stream",
     "text": [
      "[[array([['a', 'b'],\n",
      "         ['c', 'd']], dtype=object) 'x']\n",
      " [1 2]]\n"
     ]
    }
   ],
   "source": [
    "x = np.array([['a','b'],['c','d']],dtype = object)\n",
    "y = 'x'\n",
    "C = np.matrix([[x,y],[1, 2]] , dtype=object)\n",
    "print(C)"
   ]
  },
  {
   "cell_type": "code",
   "execution_count": 9,
   "id": "e850ee75",
   "metadata": {},
   "outputs": [
    {
     "ename": "ValueError",
     "evalue": "matrix must be 2-dimensional",
     "output_type": "error",
     "traceback": [
      "\u001b[1;31m---------------------------------------------------------------------------\u001b[0m",
      "\u001b[1;31mValueError\u001b[0m                                Traceback (most recent call last)",
      "\u001b[1;32m~\\AppData\\Local\\Temp/ipykernel_10408/499717470.py\u001b[0m in \u001b[0;36m<module>\u001b[1;34m\u001b[0m\n\u001b[1;32m----> 1\u001b[1;33m \u001b[0mA\u001b[0m \u001b[1;33m=\u001b[0m \u001b[0mnp\u001b[0m\u001b[1;33m.\u001b[0m\u001b[0mmatrix\u001b[0m\u001b[1;33m(\u001b[0m\u001b[1;33m[\u001b[0m\u001b[1;33m[\u001b[0m\u001b[1;33m[\u001b[0m\u001b[1;36m1\u001b[0m\u001b[1;33m,\u001b[0m\u001b[1;36m2\u001b[0m\u001b[1;33m]\u001b[0m\u001b[1;33m,\u001b[0m\u001b[1;33m[\u001b[0m\u001b[1;36m3\u001b[0m\u001b[1;33m,\u001b[0m\u001b[1;36m4\u001b[0m\u001b[1;33m]\u001b[0m\u001b[1;33m]\u001b[0m\u001b[1;33m,\u001b[0m\u001b[1;33m[\u001b[0m\u001b[1;33m[\u001b[0m\u001b[1;36m5\u001b[0m\u001b[1;33m,\u001b[0m\u001b[1;36m6\u001b[0m\u001b[1;33m]\u001b[0m\u001b[1;33m,\u001b[0m\u001b[1;33m[\u001b[0m\u001b[1;36m7\u001b[0m\u001b[1;33m,\u001b[0m\u001b[1;36m8\u001b[0m\u001b[1;33m]\u001b[0m\u001b[1;33m]\u001b[0m\u001b[1;33m]\u001b[0m\u001b[1;33m)\u001b[0m\u001b[1;33m\u001b[0m\u001b[1;33m\u001b[0m\u001b[0m\n\u001b[0m",
      "\u001b[1;32m~\\anaconda3\\lib\\site-packages\\numpy\\matrixlib\\defmatrix.py\u001b[0m in \u001b[0;36m__new__\u001b[1;34m(subtype, data, dtype, copy)\u001b[0m\n\u001b[0;32m    147\u001b[0m         \u001b[0mshape\u001b[0m \u001b[1;33m=\u001b[0m \u001b[0marr\u001b[0m\u001b[1;33m.\u001b[0m\u001b[0mshape\u001b[0m\u001b[1;33m\u001b[0m\u001b[1;33m\u001b[0m\u001b[0m\n\u001b[0;32m    148\u001b[0m         \u001b[1;32mif\u001b[0m \u001b[1;33m(\u001b[0m\u001b[0mndim\u001b[0m \u001b[1;33m>\u001b[0m \u001b[1;36m2\u001b[0m\u001b[1;33m)\u001b[0m\u001b[1;33m:\u001b[0m\u001b[1;33m\u001b[0m\u001b[1;33m\u001b[0m\u001b[0m\n\u001b[1;32m--> 149\u001b[1;33m             \u001b[1;32mraise\u001b[0m \u001b[0mValueError\u001b[0m\u001b[1;33m(\u001b[0m\u001b[1;34m\"matrix must be 2-dimensional\"\u001b[0m\u001b[1;33m)\u001b[0m\u001b[1;33m\u001b[0m\u001b[1;33m\u001b[0m\u001b[0m\n\u001b[0m\u001b[0;32m    150\u001b[0m         \u001b[1;32melif\u001b[0m \u001b[0mndim\u001b[0m \u001b[1;33m==\u001b[0m \u001b[1;36m0\u001b[0m\u001b[1;33m:\u001b[0m\u001b[1;33m\u001b[0m\u001b[1;33m\u001b[0m\u001b[0m\n\u001b[0;32m    151\u001b[0m             \u001b[0mshape\u001b[0m \u001b[1;33m=\u001b[0m \u001b[1;33m(\u001b[0m\u001b[1;36m1\u001b[0m\u001b[1;33m,\u001b[0m \u001b[1;36m1\u001b[0m\u001b[1;33m)\u001b[0m\u001b[1;33m\u001b[0m\u001b[1;33m\u001b[0m\u001b[0m\n",
      "\u001b[1;31mValueError\u001b[0m: matrix must be 2-dimensional"
     ]
    }
   ],
   "source": [
    " A = np.matrix([[[1,2],[3,4]],[[5,6],[7,8]]])"
   ]
  },
  {
   "cell_type": "code",
   "execution_count": 10,
   "id": "510e0c22",
   "metadata": {},
   "outputs": [
    {
     "data": {
      "text/plain": [
       "array([[[1, 2],\n",
       "        [3, 4]],\n",
       "\n",
       "       [[5, 6],\n",
       "        [7, 8]]])"
      ]
     },
     "execution_count": 10,
     "metadata": {},
     "output_type": "execute_result"
    }
   ],
   "source": [
    "A = np.array([[[1,2],[3,4]],[[5,6],[7,8]]])\n",
    "A"
   ]
  },
  {
   "cell_type": "markdown",
   "id": "991a8d96",
   "metadata": {},
   "source": [
    "### 1.3. Đối tượng matrix từ các hàm trong gói numpy.matlib"
   ]
  },
  {
   "cell_type": "code",
   "execution_count": 13,
   "id": "5420ab54",
   "metadata": {},
   "outputs": [],
   "source": [
    "from numpy import matlib"
   ]
  },
  {
   "cell_type": "code",
   "execution_count": 14,
   "id": "c27549c7",
   "metadata": {},
   "outputs": [
    {
     "data": {
      "text/plain": [
       "matrix([[1., 0., 0., 0., 0.],\n",
       "        [0., 1., 0., 0., 0.],\n",
       "        [0., 0., 1., 0., 0.],\n",
       "        [0., 0., 0., 1., 0.],\n",
       "        [0., 0., 0., 0., 1.]])"
      ]
     },
     "execution_count": 14,
     "metadata": {},
     "output_type": "execute_result"
    }
   ],
   "source": [
    "G = matlib.identity(5)\n",
    "G"
   ]
  },
  {
   "cell_type": "code",
   "execution_count": 15,
   "id": "bafe242a",
   "metadata": {},
   "outputs": [
    {
     "data": {
      "text/plain": [
       "matrix([[-0.52631922,  0.38590065],\n",
       "        [ 0.01483941, -0.37425706],\n",
       "        [-1.03436674, -0.82146236]])"
      ]
     },
     "execution_count": 15,
     "metadata": {},
     "output_type": "execute_result"
    }
   ],
   "source": [
    "H = matlib.randn(3,2)\n",
    "H"
   ]
  },
  {
   "cell_type": "code",
   "execution_count": 16,
   "id": "98b69104",
   "metadata": {},
   "outputs": [
    {
     "name": "stdout",
     "output_type": "stream",
     "text": [
      "[[0. 0. 0. 0. 0.]\n",
      " [0. 0. 0. 0. 0.]\n",
      " [0. 0. 0. 0. 0.]\n",
      " [0. 0. 0. 0. 0.]]\n"
     ]
    }
   ],
   "source": [
    "K = matlib.zeros([4,5])\n",
    "print(K)"
   ]
  },
  {
   "cell_type": "markdown",
   "id": "1ad955d2",
   "metadata": {},
   "source": [
    "## 2. Ứng dụng 2 –Liên phân số và số 𝝅\n",
    "### 2.1. Liên phân số"
   ]
  },
  {
   "cell_type": "markdown",
   "id": "d2b86c50",
   "metadata": {},
   "source": [
    "###  2.2. Liên phân số biểu diễn số 𝝅"
   ]
  },
  {
   "cell_type": "code",
   "execution_count": 22,
   "id": "dc33b13d",
   "metadata": {},
   "outputs": [
    {
     "name": "stdout",
     "output_type": "stream",
     "text": [
      "[[165707065  80143857]\n",
      " [ 52746197  25510582]]\n",
      "3.1415926535897936\n"
     ]
    }
   ],
   "source": [
    "import numpy as np\n",
    "c = [3, 7, 15, 1, 292, 1, 1, 1, 2, 1, 3, 1, 14, 2]\n",
    "M = np.random.randint(5,size=(2,2)) # khởi tạo ma trận 2x2\n",
    "for i in range(len(c)):\n",
    "    ci = np.mat([[1,1],[1,0]])\n",
    "    ci[0, 0] = c[i] \n",
    "    if (i==0):\n",
    "        M = ci\n",
    "    else:\n",
    "        M = M.dot(ci)\n",
    "print(M)\n",
    "print (M[0,0]/M[1,0]) # in số Pi theo dãy số biểu diễn liên phân số."
   ]
  },
  {
   "cell_type": "code",
   "execution_count": 46,
   "id": "d8b31f2b",
   "metadata": {
    "scrolled": true
   },
   "outputs": [
    {
     "data": {
      "text/plain": [
       "matrix([[165707065,  80143857],\n",
       "        [ 52746197,  25510582]])"
      ]
     },
     "execution_count": 46,
     "metadata": {},
     "output_type": "execute_result"
    }
   ],
   "source": [
    "M"
   ]
  },
  {
   "cell_type": "code",
   "execution_count": 45,
   "id": "768c2344",
   "metadata": {
    "scrolled": true
   },
   "outputs": [
    {
     "name": "stdout",
     "output_type": "stream",
     "text": [
      "[[3 1]\n",
      " [1 0]]\n",
      "[[22  3]\n",
      " [ 7  1]]\n",
      "[[333  22]\n",
      " [106   7]]\n",
      "[[355 333]\n",
      " [113 106]]\n",
      "[[103993    355]\n",
      " [ 33102    113]]\n",
      "[[104348 103993]\n",
      " [ 33215  33102]]\n",
      "[[208341 104348]\n",
      " [ 66317  33215]]\n",
      "[[312689 208341]\n",
      " [ 99532  66317]]\n",
      "[[833719 312689]\n",
      " [265381  99532]]\n",
      "[[1146408  833719]\n",
      " [ 364913  265381]]\n",
      "[[4272943 1146408]\n",
      " [1360120  364913]]\n",
      "[[5419351 4272943]\n",
      " [1725033 1360120]]\n",
      "[[80143857  5419351]\n",
      " [25510582  1725033]]\n",
      "[[165707065  80143857]\n",
      " [ 52746197  25510582]]\n",
      "3.1415926535897936\n"
     ]
    }
   ],
   "source": [
    "result= np.mat([[1,0],[0,1]])#biến để lưu khết quả\n",
    "for i in range(len(c)):\n",
    "    temp= np.mat([[c[i],1],[1,0]])\n",
    "    result = result.dot(temp)\n",
    "    print(result)\n",
    "print(result[0,0]/result[1,0])"
   ]
  },
  {
   "cell_type": "markdown",
   "id": "8f6e667b",
   "metadata": {},
   "source": [
    "## 3. Về phân tích hồi quy tuyến tính\n",
    "### 3.1. Dẫn nhập: khái niệm về sai số\n",
    "### 3.2. Phương pháp bình phương cực tiểu (mô hình tuyến tính)"
   ]
  },
  {
   "cell_type": "code",
   "execution_count": 6,
   "id": "ee0d0ba9",
   "metadata": {},
   "outputs": [
    {
     "data": {
      "text/plain": [
       "array([-0.2,  1.2])"
      ]
     },
     "execution_count": 6,
     "metadata": {},
     "output_type": "execute_result"
    }
   ],
   "source": [
    "A1=linalg.inv(XT@X)\n",
    "A2=XT@Y\n",
    "A=A1@A2\n",
    "A"
   ]
  },
  {
   "cell_type": "markdown",
   "id": "ab6ff179",
   "metadata": {},
   "source": [
    "Cho các điểm $(0, 3), (2, 3), (4, 4), (−1, 2)$. Chúng ta tìm một lời giải có dạng $αx + β = y,$ nghĩa là <br>\n",
    "${\\displaystyle {\\begin{pmatrix}x&1\\end{pmatrix}}{\\begin{pmatrix}\\alpha \\\\\\beta \\end{pmatrix}}=y}$"
   ]
  },
  {
   "cell_type": "markdown",
   "id": "dac3627b",
   "metadata": {},
   "source": [
    "lập ma trận ${A =\\displaystyle {\\begin{pmatrix}x&1\\end{pmatrix}}}$ <br>\n",
    "b = vector cột chứa giá trị y"
   ]
  },
  {
   "cell_type": "code",
   "execution_count": 39,
   "id": "27669139",
   "metadata": {},
   "outputs": [],
   "source": [
    "A= np.array([[0,1],\n",
    "            [2,1],\n",
    "            [4,1],\n",
    "            [-1,1]])\n",
    "b=np.array([3,3,4,2])"
   ]
  },
  {
   "cell_type": "markdown",
   "id": "3b985d51",
   "metadata": {},
   "source": [
    "* Tìm ma trận giả nghịch đảo $(A^TA)^{-1}A^T$"
   ]
  },
  {
   "cell_type": "code",
   "execution_count": 8,
   "id": "bbfe035b",
   "metadata": {
    "scrolled": true
   },
   "outputs": [
    {
     "data": {
      "text/plain": [
       "array([[21,  5],\n",
       "       [ 5,  4]])"
      ]
     },
     "execution_count": 8,
     "metadata": {},
     "output_type": "execute_result"
    }
   ],
   "source": [
    "AT_A = A.T@A\n",
    "AT_A"
   ]
  },
  {
   "cell_type": "code",
   "execution_count": 9,
   "id": "4aaa1b07",
   "metadata": {},
   "outputs": [
    {
     "data": {
      "text/plain": [
       "array([[ 0.06779661, -0.08474576],\n",
       "       [-0.08474576,  0.3559322 ]])"
      ]
     },
     "execution_count": 9,
     "metadata": {},
     "output_type": "execute_result"
    }
   ],
   "source": [
    "AT_A_inv=linalg.inv(AT_A)\n",
    "AT_A_inv "
   ]
  },
  {
   "cell_type": "code",
   "execution_count": 27,
   "id": "7d45f570",
   "metadata": {
    "scrolled": true
   },
   "outputs": [
    {
     "data": {
      "text/plain": [
       "array([[-0.08474576,  0.05084746,  0.18644068, -0.15254237],\n",
       "       [ 0.3559322 ,  0.18644068,  0.01694915,  0.44067797]])"
      ]
     },
     "execution_count": 27,
     "metadata": {},
     "output_type": "execute_result"
    }
   ],
   "source": [
    "gianghich = AT_A_inv @ A.T\n",
    "gianghich"
   ]
  },
  {
   "cell_type": "code",
   "execution_count": 28,
   "id": "5a35894f",
   "metadata": {},
   "outputs": [
    {
     "data": {
      "text/plain": [
       "array([[-0.08474576,  0.05084746,  0.18644068, -0.15254237],\n",
       "       [ 0.3559322 ,  0.18644068,  0.01694915,  0.44067797]])"
      ]
     },
     "execution_count": 28,
     "metadata": {},
     "output_type": "execute_result"
    }
   ],
   "source": [
    "linalg.pinv(A) # ma trận giả đảo - giả nghịch đảo của A"
   ]
  },
  {
   "cell_type": "code",
   "execution_count": 29,
   "id": "9c280158",
   "metadata": {},
   "outputs": [
    {
     "data": {
      "text/plain": [
       "array([[-1, -2],\n",
       "       [-3, -2],\n",
       "       [-5, -2],\n",
       "       [ 0, -2]], dtype=int32)"
      ]
     },
     "execution_count": 29,
     "metadata": {},
     "output_type": "execute_result"
    }
   ],
   "source": [
    "np.invert(A)"
   ]
  },
  {
   "cell_type": "code",
   "execution_count": 19,
   "id": "f2539c57",
   "metadata": {},
   "outputs": [
    {
     "data": {
      "text/plain": [
       "array([0.33898305, 2.57627119])"
      ]
     },
     "execution_count": 19,
     "metadata": {},
     "output_type": "execute_result"
    }
   ],
   "source": [
    "X=gianghich@b\n",
    "X"
   ]
  },
  {
   "cell_type": "code",
   "execution_count": 30,
   "id": "55b6ac69",
   "metadata": {},
   "outputs": [
    {
     "data": {
      "text/plain": [
       "array([0.33898305, 2.57627119])"
      ]
     },
     "execution_count": 30,
     "metadata": {},
     "output_type": "execute_result"
    }
   ],
   "source": [
    "X = linalg.pinv(A)@b #ma trận giả nghịch đảo \n",
    "X"
   ]
  },
  {
   "cell_type": "code",
   "execution_count": 40,
   "id": "5a94cf26",
   "metadata": {},
   "outputs": [
    {
     "data": {
      "text/plain": [
       "(array([0.33898305, 2.57627119]),\n",
       " 0.30508474576271283,\n",
       " 2,\n",
       " array([4.72879916, 1.62433326]))"
      ]
     },
     "execution_count": 40,
     "metadata": {},
     "output_type": "execute_result"
    }
   ],
   "source": [
    "X= linalg.lstsq(A,b)\n",
    "X"
   ]
  },
  {
   "cell_type": "code",
   "execution_count": 41,
   "id": "5a1b30b6",
   "metadata": {
    "scrolled": true
   },
   "outputs": [
    {
     "data": {
      "image/png": "[encoded data removed]",
      "text/plain": [
       "<Figure size 576x396 with 1 Axes>"
      ]
     },
     "metadata": {},
     "output_type": "display_data"
    }
   ],
   "source": [
    "import matplotlib.pyplot as plt\n",
    "plt.style.use('seaborn')\n",
    "x=[0,2,4,-1]\n",
    "y=[3,3,4,2]\n",
    "fig,ax = plt.subplots()\n",
    "ax.axhline(y=0,color='black',alpha=0.5)\n",
    "ax.axvline(x=0,color='black',alpha=0.5)\n",
    "a=np.linspace(-5,5,100)\n",
    "bb=X[0][0]*a+X[0][1]# y=ax+b\n",
    "ax.plot(a,bb,color='g',linewidth=3,label='Fitted line',alpha=0.85)\n",
    "ax.plot(x,y,'o',c='red',lw=3,alpha=0.85,label='Data dot')\n",
    "ax.set_xlim(-5,5)\n",
    "ax.set_ylim(-5,5)\n",
    "ax.set_title('Y=20/59X + 152/59')\n",
    "ax.legend(loc='upper left');"
   ]
  },
  {
   "cell_type": "markdown",
   "id": "a0f92960",
   "metadata": {},
   "source": [
    "# Bài tập"
   ]
  },
  {
   "cell_type": "markdown",
   "id": "6bac52dc",
   "metadata": {},
   "source": [
    "Bài 1:"
   ]
  },
  {
   "cell_type": "markdown",
   "id": "bd4204c5",
   "metadata": {},
   "source": [
    "$(𝑥, 𝑦) = {(0, 10), (1, 8), (2, 7), (3, 5), (4, 2)}$<br>\n",
    "[Kết quả tham khảo để kiểm chứng: Phương trình tuyến tính là: 𝑦 = 12.1 − 1.9𝑥]"
   ]
  },
  {
   "cell_type": "code",
   "execution_count": 42,
   "id": "78336474",
   "metadata": {},
   "outputs": [
    {
     "data": {
      "text/plain": [
       "(array([-1.9, 10.2]), 1.0999999999999992, 2, array([5.78859314, 1.22155205]))"
      ]
     },
     "execution_count": 42,
     "metadata": {},
     "output_type": "execute_result"
    }
   ],
   "source": [
    "A=np.array([[0,1],[1,1],[2,1],[3,1],[4,1]])\n",
    "b=np.array([10,8,7,5,2])\n",
    "linalg.lstsq(A,b)"
   ]
  },
  {
   "cell_type": "code",
   "execution_count": 43,
   "id": "b6172de5",
   "metadata": {},
   "outputs": [
    {
     "data": {
      "text/plain": [
       "array([-1.9, 10.2])"
      ]
     },
     "execution_count": 43,
     "metadata": {},
     "output_type": "execute_result"
    }
   ],
   "source": [
    "X=linalg.pinv(A)@b\n",
    "X"
   ]
  },
  {
   "cell_type": "code",
   "execution_count": 44,
   "id": "e0030be1",
   "metadata": {},
   "outputs": [
    {
     "data": {
      "image/png": "[encoded data removed]",
      "text/plain": [
       "<Figure size 576x396 with 1 Axes>"
      ]
     },
     "metadata": {},
     "output_type": "display_data"
    }
   ],
   "source": [
    "x=[0,1,2,3,4]\n",
    "y=[10,8,7,5,2]\n",
    "fig,ax = plt.subplots()\n",
    "ax.axhline(y=0,color='black',alpha=0.5)\n",
    "ax.axvline(x=0,color='black',alpha=0.5)\n",
    "a=np.linspace(-6,6,100)\n",
    "bb=X[0]*a+X[1]\n",
    "ax.plot(a,bb,color='g',linewidth=3,label='Fitted line',alpha=0.85)\n",
    "ax.plot(x,y,'o',c='red',lw=3,alpha=0.85,label='Data dot')\n",
    "# ax.set_xlim(-5,5)\n",
    "# ax.set_ylim(-15,15)\n",
    "ax.axis([-5,5,-15,15])\n",
    "ax.set_title('Fitted Line')\n",
    "ax.legend(loc='upper left');"
   ]
  },
  {
   "cell_type": "markdown",
   "id": "86d48bea",
   "metadata": {},
   "source": [
    "**Bài 2)**\n",
    "a) Cho mô hình $y = a_o + a_1x + a_2x^2$. Tìm các tham số ao, a, và a2 để mô hình phù hợp với từng bộ dữ liệu sau.<br>\n",
    "$(2,0),(3,-10),(5,-48),(6,-76)$"
   ]
  },
  {
   "cell_type": "code",
   "execution_count": 45,
   "id": "b64e5207",
   "metadata": {},
   "outputs": [],
   "source": [
    "A=np.array([[1,2,4],[1,3,9],[1,5,5*5],[1,6,6*6]])\n",
    "b=np.array([0,-10,-48,-76])"
   ]
  },
  {
   "cell_type": "code",
   "execution_count": 46,
   "id": "358a67d5",
   "metadata": {},
   "outputs": [
    {
     "data": {
      "text/plain": [
       "array([ 2.,  5., -3.])"
      ]
     },
     "execution_count": 46,
     "metadata": {},
     "output_type": "execute_result"
    }
   ],
   "source": [
    "X= linalg.lstsq(A,b)[0]\n",
    "X"
   ]
  },
  {
   "cell_type": "code",
   "execution_count": 47,
   "id": "94a0d38f",
   "metadata": {
    "scrolled": false
   },
   "outputs": [
    {
     "data": {
      "image/png": "[encoded data removed]",
      "text/plain": [
       "<Figure size 576x396 with 1 Axes>"
      ]
     },
     "metadata": {},
     "output_type": "display_data"
    }
   ],
   "source": [
    "x=np.array([2,3,5,6])\n",
    "y=np.array([0,-10,-48,-76])\n",
    "fig,ax = plt.subplots()\n",
    "ax.axhline(y=0,color='black',alpha=0.5)\n",
    "ax.axvline(x=0,color='black',alpha=0.5)\n",
    "a=np.linspace(-10,11,100)\n",
    "bb=X[0]+X[1]*a+X[2]*a*a# y=ax+b\n",
    "ax.plot(a,bb,color='g',linewidth=3,label='Fitted Parapol',alpha=0.85)\n",
    "ax.plot(x,y,'o',c='red',lw=3,alpha=0.85,label='Data dot')\n",
    "ax.set_xlim(x.min()-5,x.max()+5)\n",
    "ax.set_ylim(y.min()-5,y.max()+5)\n",
    "# ax.axis('tight')\n",
    "ax.set_title('Fitted Parapol')\n",
    "ax.legend(loc='upper left');"
   ]
  },
  {
   "cell_type": "markdown",
   "id": "6ca433d4",
   "metadata": {},
   "source": [
    "b)Cho mô hình $y = a_o + a_1x + a_2x^2$. Tìm các tham số ao, a, và a2 để mô hình phù hợp với từng bộ dữ liệu sau.<br>\n",
    "$(1,-2),(0,−1),(1,0),(2,4)$"
   ]
  },
  {
   "cell_type": "code",
   "execution_count": 48,
   "id": "8827b4fd",
   "metadata": {},
   "outputs": [
    {
     "data": {
      "text/plain": [
       "array([-1. , -2.5,  2.5])"
      ]
     },
     "execution_count": 48,
     "metadata": {},
     "output_type": "execute_result"
    }
   ],
   "source": [
    "x=np.array([1,0,1,2])\n",
    "y=np.array([-2,-1,0,4])\n",
    "x_x = x*x\n",
    "A= np.array([[1,1,1],[1,0,0],[1,1,1],[1,2,4]])\n",
    "X=linalg.lstsq(A,y)[0]\n",
    "X"
   ]
  },
  {
   "cell_type": "code",
   "execution_count": 49,
   "id": "ec879ad5",
   "metadata": {},
   "outputs": [
    {
     "data": {
      "image/png": "[encoded data removed]",
      "text/plain": [
       "<Figure size 576x396 with 1 Axes>"
      ]
     },
     "metadata": {},
     "output_type": "display_data"
    }
   ],
   "source": [
    "fig,ax = plt.subplots()\n",
    "ax.axhline(y=0,color='black',alpha=0.5)\n",
    "ax.axvline(x=0,color='black',alpha=0.5)\n",
    "a=np.linspace(-10,11,100)\n",
    "bb=X[0]+X[1]*a+X[2]*a*a# y=ax+b\n",
    "ax.plot(a,bb,color='g',linewidth=3,label='Fitted Parapol',alpha=0.85)\n",
    "ax.plot(x,y,'o',c='red',lw=3,alpha=0.85,label='Data dot')\n",
    "ax.set_xlim(x.min()-1,x.max()+1)\n",
    "ax.set_ylim(y.min()-1,y.max()+1)\n",
    "# ax.axis('tight')\n",
    "ax.set_title('Fitted Parapol')\n",
    "ax.legend(loc='upper left');"
   ]
  },
  {
   "cell_type": "markdown",
   "id": "48039504",
   "metadata": {},
   "source": [
    "**Bài 3)** Cho mô hình $y = a +\\frac{b}{x}$. Tìm các tham số a và b để mô hình phù hợp với bộ dữ liệu sau:<br>\n",
    "$(1,7)(3,3)(6,1)$"
   ]
  },
  {
   "cell_type": "code",
   "execution_count": 50,
   "id": "5f026ca5",
   "metadata": {},
   "outputs": [
    {
     "data": {
      "text/plain": [
       "array([0.23809524, 6.85714286])"
      ]
     },
     "execution_count": 50,
     "metadata": {},
     "output_type": "execute_result"
    }
   ],
   "source": [
    "A=np.array([[1,1],[1,1/3],[1,1/6]])\n",
    "b=np.array([7,3,1])\n",
    "X=linalg.lstsq(A,b)[0]\n",
    "X"
   ]
  },
  {
   "cell_type": "code",
   "execution_count": 57,
   "id": "c69a0688",
   "metadata": {},
   "outputs": [
    {
     "data": {
      "image/png": "[encoded data removed]",
      "text/plain": [
       "<Figure size 576x396 with 1 Axes>"
      ]
     },
     "metadata": {},
     "output_type": "display_data"
    }
   ],
   "source": [
    "x=np.array([1,3,6])\n",
    "y=np.array([7,3,1])\n",
    "fig,ax = plt.subplots()\n",
    "ax.axhline(y=0,color='black',alpha=0.5)\n",
    "ax.axvline(x=0,color='black',alpha=0.5)\n",
    "a=np.linspace(0.1,11,100)\n",
    "bb=X[0]+X[1]/a# y=ax+b\n",
    "ax.plot(a,bb,color='g',linewidth=3,label='Fitted Parapol',alpha=0.85)\n",
    "ax.plot(x,y,'o',c='red',lw=3,alpha=0.85,label='Data dot')\n",
    "ax.set_xlim(x.min()-1,x.max()+1)\n",
    "ax.set_ylim(y.min()-1,y.max()+1)\n",
    "# ax.axis('tight')\n",
    "ax.set_title('Fitted Parapol')\n",
    "ax.legend();"
   ]
  },
  {
   "cell_type": "markdown",
   "id": "5931cdf7",
   "metadata": {},
   "source": [
    "**Bài 4)** Cho mô hình $y = a + b\\sqrt{x}.$ Tìm các tham số a và b để mô hình phù hợp với bộ dữ liệu sau:<br>\n",
    "$(3,0.5),(7,2.5),(10,3)$"
   ]
  },
  {
   "cell_type": "code",
   "execution_count": 58,
   "id": "3f750dcf",
   "metadata": {},
   "outputs": [
    {
     "data": {
      "text/plain": [
       "array([-2.52107454,  1.79881699])"
      ]
     },
     "execution_count": 58,
     "metadata": {},
     "output_type": "execute_result"
    }
   ],
   "source": [
    "A=np.array([[1,np.sqrt(3)],[1,np.sqrt(7)],[1,np.sqrt(10)]])\n",
    "b=np.array([0.5,2.5,3])\n",
    "X=linalg.lstsq(A,b)[0]\n",
    "X"
   ]
  },
  {
   "cell_type": "code",
   "execution_count": 59,
   "id": "832224b2",
   "metadata": {},
   "outputs": [
    {
     "data": {
      "image/png": "[encoded data removed]",
      "text/plain": [
       "<Figure size 576x396 with 1 Axes>"
      ]
     },
     "metadata": {},
     "output_type": "display_data"
    }
   ],
   "source": [
    "x=[3,7,10]\n",
    "y=[0.5,2.5,3]\n",
    "fig,ax = plt.subplots()\n",
    "ax.axhline(y=0,color='black',alpha=0.5)\n",
    "ax.axvline(x=0,color='black',alpha=0.5)\n",
    "a=np.linspace(0.1,11,100)\n",
    "bb=X[0]+X[1]*np.sqrt(a)# y=a+b*sqrt(x)\n",
    "ax.plot(a,bb,color='g',linewidth=3,label='Fitted Parapol',alpha=0.85)\n",
    "ax.plot(x,y,'o',c='red',lw=3,alpha=0.85,label='Data dot')\n",
    "# ax.set_xlim(-10,11)\n",
    "# ax.set_ylim(-250,10)\n",
    "ax.axis('tight')\n",
    "ax.set_title('Fitted Parapol')\n",
    "ax.legend();"
   ]
  }
 ],
 "metadata": {
  "kernelspec": {
   "display_name": "Python 3 (ipykernel)",
   "language": "python",
   "name": "python3"
  },
  "language_info": {
   "codemirror_mode": {
    "name": "ipython",
    "version": 3
   },
   "file_extension": ".py",
   "mimetype": "text/x-python",
   "name": "python",
   "nbconvert_exporter": "python",
   "pygments_lexer": "ipython3",
   "version": "3.9.7"
  }
 },
 "nbformat": 4,
 "nbformat_minor": 5
}
