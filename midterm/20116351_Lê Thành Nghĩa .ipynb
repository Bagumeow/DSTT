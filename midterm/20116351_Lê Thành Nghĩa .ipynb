{
 "cells": [
  {
   "cell_type": "markdown",
   "id": "eb070b3a",
   "metadata": {},
   "source": [
    "# Đề thi Giữa kỳ Đại số tuyến tính cho Khoa học dữ liệu\n",
    "## Khoa CNTT - trường ĐH Công nghiệp.\n",
    "### Nhóm thực hành 1 & 2. Ngày 01/04/2022. Thời gian làm bài: 15h30' - 17h15'."
   ]
  },
  {
   "cell_type": "code",
   "execution_count": 1,
   "id": "f2979515",
   "metadata": {},
   "outputs": [],
   "source": [
    "import numpy as np\n",
    "from scipy import linalg\n",
    "from sympy import *"
   ]
  },
  {
   "cell_type": "markdown",
   "id": "78d2f691",
   "metadata": {},
   "source": [
    "## Bài 1. (4 điểm)\n",
    "Cho hai ma trận sau đây"
   ]
  },
  {
   "cell_type": "markdown",
   "id": "90b0be55",
   "metadata": {},
   "source": [
    "# MSSV : 20116351"
   ]
  },
  {
   "cell_type": "markdown",
   "id": "fe5d7cfc",
   "metadata": {},
   "source": [
    "$$A=\\left( \\begin{matrix}\n",
    "   1 & 0 & 2 & a  \\\\\n",
    "   1 & 2 & 4 & b  \\\\\n",
    "   -1 & 2 & 0 & c  \\\\\n",
    "   3 & -1 & 3 & d  \\\\\n",
    "\\end{matrix} \\right), B=\\left( \\begin{matrix}\n",
    "   4 & 5 & 1 & -2  \\\\\n",
    "   0 & 1 & 2 & 1  \\\\\n",
    "   0 & -2 & -3 & 1  \\\\\n",
    "   a & b & c & d  \\\\\n",
    "\\end{matrix} \\right)$$\n",
    "trong đó $a,b,c,d$ là $4$ số cuối trong $MSSV$ (viết theo thứ tự từ trái sang phải). Khi làm bài, $SV$ chủ động thay các mã số đó vào đề bài trên."
   ]
  },
  {
   "cell_type": "markdown",
   "id": "ab775503",
   "metadata": {},
   "source": [
    "Bằng cách dùng các thư viện có hỗ trợ sẵn của Python, hãy thực hiện các yêu cầu sau:\n",
    "* a) Tính $B+A$, $B{{A}^{T}}$, $2A-3B$.\n",
    "* b) Tính $\\det (A)$ , $\\det ({{B}^{T}}+2I)$, $rank(AB).$ \n",
    "* c) Tính norm của vector hàng $1$ của $A,$ tính norm của vector cột $3$ của $B,$ tính tổng các phần tử trên đường chéo của $A.$\n",
    "* d) Kiểm tra công thức ${{(AB)}^{T}}={{B}^{T}}{{A}^{T}}$ dựa trên hai ma trận đã cho.\n",
    "* e) Kiểm tra công thức $det(AB) = det(A)det(B)$ dựa trên hai ma trận đã cho.\n",
    "* f) Sinh ngẫu nhiên một ma trận $C$ có kích thước $4\\times 4$ với các phần tử là số nguyên trong miền từ $-9\\to 9$, từ đó in ra các phần tử nằm phía dưới đường chéo của $A+BC.$ "
   ]
  },
  {
   "cell_type": "markdown",
   "id": "7823bbf9",
   "metadata": {},
   "source": [
    "*Bài Làm*"
   ]
  },
  {
   "cell_type": "code",
   "execution_count": 2,
   "id": "470a35ca",
   "metadata": {},
   "outputs": [],
   "source": [
    "A=np.array([[1,0,2,6],\n",
    "            [1,2,4,3],\n",
    "            [-1,2,0,5],\n",
    "            [3,-1,3,1]])\n",
    "B=np.array([[4,5,1,-2],\n",
    "            [0,1,2,1],\n",
    "            [0,-2,-3,1],\n",
    "            [6,3,5,1]])"
   ]
  },
  {
   "cell_type": "markdown",
   "id": "fc12ca25",
   "metadata": {},
   "source": [
    "**Câu a) Tính $B+A$, $B{{A}^{T}}$, $2A-3B$.**"
   ]
  },
  {
   "cell_type": "code",
   "execution_count": 3,
   "id": "9122440a",
   "metadata": {
    "scrolled": false
   },
   "outputs": [
    {
     "name": "stdout",
     "output_type": "stream",
     "text": [
      "A+B là: \n",
      " [[ 5  5  3  4]\n",
      " [ 1  3  6  4]\n",
      " [-1  0 -3  6]\n",
      " [ 9  2  8  2]]\n"
     ]
    }
   ],
   "source": [
    "pl=B+A\n",
    "print('A+B là: \\n',pl)"
   ]
  },
  {
   "cell_type": "code",
   "execution_count": 4,
   "id": "40de50b0",
   "metadata": {
    "scrolled": false
   },
   "outputs": [
    {
     "name": "stdout",
     "output_type": "stream",
     "text": [
      "B dot A.Transpose là :\n",
      " [[ -6  12  -4   8]\n",
      " [ 10  13   7   6]\n",
      " [  0 -13   1  -6]\n",
      " [ 22  35   5  31]]\n"
     ]
    }
   ],
   "source": [
    "mul=B@A.T\n",
    "print('B dot A.Transpose là :\\n',mul)"
   ]
  },
  {
   "cell_type": "code",
   "execution_count": 5,
   "id": "6e4253c5",
   "metadata": {},
   "outputs": [
    {
     "name": "stdout",
     "output_type": "stream",
     "text": [
      "2A-3B là:\n",
      " [[-10 -15   1  18]\n",
      " [  2   1   2   3]\n",
      " [ -2  10   9   7]\n",
      " [-12 -11  -9  -1]]\n"
     ]
    }
   ],
   "source": [
    "singAB=2*A-3*B\n",
    "print('2A-3B là:\\n',singAB)"
   ]
  },
  {
   "cell_type": "markdown",
   "id": "a07d11fe",
   "metadata": {},
   "source": [
    "**b) Tính $\\det (A)$ , $\\det ({{B}^{T}}+2I)$, $rank(AB).$**"
   ]
  },
  {
   "cell_type": "code",
   "execution_count": 6,
   "id": "49855597",
   "metadata": {},
   "outputs": [
    {
     "name": "stdout",
     "output_type": "stream",
     "text": [
      "det(A) = 56.0\n"
     ]
    }
   ],
   "source": [
    "detA=linalg.det(A)\n",
    "print('det(A) =',round(detA,4))"
   ]
  },
  {
   "cell_type": "code",
   "execution_count": 7,
   "id": "63cb4fbc",
   "metadata": {},
   "outputs": [
    {
     "name": "stdout",
     "output_type": "stream",
     "text": [
      "det(B.T + 2I)= -126.0\n"
     ]
    }
   ],
   "source": [
    "det_B_2I = linalg.det(B.T+2*np.identity(4))\n",
    "print('det(B.T + 2I)=',det_B_2I)"
   ]
  },
  {
   "cell_type": "code",
   "execution_count": 8,
   "id": "0ec2f0d7",
   "metadata": {
    "scrolled": true
   },
   "outputs": [
    {
     "name": "stdout",
     "output_type": "stream",
     "text": [
      "Rank của AB là: 4\n"
     ]
    }
   ],
   "source": [
    "mulAB=A@B\n",
    "rank_AB=np.linalg.matrix_rank(mulAB)\n",
    "print('Rank của AB là:',rank_AB)"
   ]
  },
  {
   "cell_type": "markdown",
   "id": "f3cfcaf2",
   "metadata": {},
   "source": [
    "**c) Tính norm của vector hàng $1$ của $A,$ tính norm của vector cột $3$ của $B,$ tính tổng các phần tử trên đường chéo của $A.$**"
   ]
  },
  {
   "cell_type": "code",
   "execution_count": 9,
   "id": "d426a233",
   "metadata": {},
   "outputs": [
    {
     "name": "stdout",
     "output_type": "stream",
     "text": [
      "Độ dài của vector hàng 1 của A là: 6.4031\n"
     ]
    }
   ],
   "source": [
    "norm_A=linalg.norm(A[0])\n",
    "print('Độ dài của vector hàng 1 của A là:',round(norm_A,4))"
   ]
  },
  {
   "cell_type": "code",
   "execution_count": 10,
   "id": "9ff4858d",
   "metadata": {},
   "outputs": [
    {
     "name": "stdout",
     "output_type": "stream",
     "text": [
      "Độ dài của vector cột 3 của B là: 6.245\n"
     ]
    }
   ],
   "source": [
    "norm_b=linalg.norm(B[:,2])\n",
    "print('Độ dài của vector cột 3 của B là:',round(norm_b,4))"
   ]
  },
  {
   "cell_type": "code",
   "execution_count": 11,
   "id": "d6b77bb6",
   "metadata": {
    "scrolled": true
   },
   "outputs": [
    {
     "name": "stdout",
     "output_type": "stream",
     "text": [
      "Tổng các phần tử trên đường chéo của A = 4\n"
     ]
    }
   ],
   "source": [
    "traceA=np.trace(A)\n",
    "print('Tổng các phần tử trên đường chéo của A =',traceA)"
   ]
  },
  {
   "cell_type": "markdown",
   "id": "0014921f",
   "metadata": {},
   "source": [
    " **d) Kiểm tra công thức ${{(AB)}^{T}}={{B}^{T}}{{A}^{T}}$ dựa trên hai ma trận đã cho.**"
   ]
  },
  {
   "cell_type": "code",
   "execution_count": 12,
   "id": "15ad837a",
   "metadata": {
    "scrolled": true
   },
   "outputs": [
    {
     "data": {
      "text/plain": [
       "array([[40, 22, 26, 18],\n",
       "       [19,  8, 12, 11],\n",
       "       [25,  8, 28, -3],\n",
       "       [ 6,  7,  9, -3]])"
      ]
     },
     "execution_count": 12,
     "metadata": {},
     "output_type": "execute_result"
    }
   ],
   "source": [
    "mat1=mulAB.T\n",
    "mat1"
   ]
  },
  {
   "cell_type": "code",
   "execution_count": 13,
   "id": "c3120e98",
   "metadata": {
    "scrolled": true
   },
   "outputs": [
    {
     "data": {
      "text/plain": [
       "array([[40, 22, 26, 18],\n",
       "       [19,  8, 12, 11],\n",
       "       [25,  8, 28, -3],\n",
       "       [ 6,  7,  9, -3]])"
      ]
     },
     "execution_count": 13,
     "metadata": {},
     "output_type": "execute_result"
    }
   ],
   "source": [
    "mat2=B.T@A.T\n",
    "mat2"
   ]
  },
  {
   "cell_type": "code",
   "execution_count": 14,
   "id": "cb4e237f",
   "metadata": {
    "scrolled": true
   },
   "outputs": [
    {
     "data": {
      "text/plain": [
       "True"
      ]
     },
     "execution_count": 14,
     "metadata": {},
     "output_type": "execute_result"
    }
   ],
   "source": [
    "np.allclose(mat1,mat2)"
   ]
  },
  {
   "cell_type": "markdown",
   "id": "5f3a1f95",
   "metadata": {},
   "source": [
    "*Ta thấy mat1 = mat2*"
   ]
  },
  {
   "cell_type": "markdown",
   "id": "f7a3069c",
   "metadata": {},
   "source": [
    "**e) Kiểm tra công thức $det(AB) = det(A)det(B)$ dựa trên hai ma trận đã cho.**"
   ]
  },
  {
   "cell_type": "code",
   "execution_count": 15,
   "id": "62268ea5",
   "metadata": {},
   "outputs": [
    {
     "data": {
      "text/plain": [
       "-6495.999999999993"
      ]
     },
     "execution_count": 15,
     "metadata": {},
     "output_type": "execute_result"
    }
   ],
   "source": [
    "det_AB=linalg.det(mulAB)\n",
    "det_AB"
   ]
  },
  {
   "cell_type": "code",
   "execution_count": 16,
   "id": "712ee08b",
   "metadata": {
    "scrolled": false
   },
   "outputs": [
    {
     "data": {
      "text/plain": [
       "-6496.000000000004"
      ]
     },
     "execution_count": 16,
     "metadata": {},
     "output_type": "execute_result"
    }
   ],
   "source": [
    "detA_B = linalg.det(A)*linalg.det(B)\n",
    "detA_B"
   ]
  },
  {
   "cell_type": "markdown",
   "id": "4ad81d94",
   "metadata": {},
   "source": [
    "Ta thấy $det(AB) \\approx det(A)det(B)$"
   ]
  },
  {
   "cell_type": "markdown",
   "id": "d686473d",
   "metadata": {},
   "source": [
    "**f) Sinh ngẫu nhiên một ma trận $C$ có kích thước $4\\times 4$ với các phần tử là số nguyên trong miền từ $-9\\to 9$, từ đó in ra các phần tử nằm phía dưới đường chéo của $A+BC.$**"
   ]
  },
  {
   "cell_type": "code",
   "execution_count": 17,
   "id": "064adae2",
   "metadata": {},
   "outputs": [
    {
     "data": {
      "text/plain": [
       "array([[-7, -3, -5,  1],\n",
       "       [-7,  7, -6, -8],\n",
       "       [-2,  5, -1,  8],\n",
       "       [ 6,  1, -9,  0]])"
      ]
     },
     "execution_count": 17,
     "metadata": {},
     "output_type": "execute_result"
    }
   ],
   "source": [
    "C= np.random.randint(-9,9,size=(4,4))\n",
    "C"
   ]
  },
  {
   "cell_type": "code",
   "execution_count": 18,
   "id": "e3b8e8a2",
   "metadata": {
    "scrolled": true
   },
   "outputs": [
    {
     "name": "stdout",
     "output_type": "stream",
     "text": [
      "Các phần từ nằm dưới đường chéo chính của A+BC là:\n",
      " [[-76   0   0   0]\n",
      " [ -4  20   0   0]\n",
      " [ 25 -26   6   0]\n",
      " [-64  28 -59  23]]\n"
     ]
    }
   ],
   "source": [
    "A_BC= A+B@C\n",
    "tril_A_BC=np.tril(A_BC)\n",
    "print('Các phần từ nằm dưới đường chéo chính của A+BC là:\\n',tril_A_BC)"
   ]
  },
  {
   "cell_type": "markdown",
   "id": "040c6d1b",
   "metadata": {},
   "source": [
    "## Bài 2. (2 điểm)\n",
    "Kết quả học tập của một nhóm sinh viên ở môn Đại số tuyến tính cho Khoa học dữ liệu được cho trong bảng bên dưới. Sinh viên chỉ qua môn nếu điểm tổng kết không dưới $5.0$."
   ]
  },
  {
   "cell_type": "markdown",
   "id": "2e5a706f",
   "metadata": {},
   "source": [
    "|Sinh viên | BT cá nhân  | Báo cáo   | Giữa kỳ   | Cuối kỳ   |\n",
    "|----------|-------------|-----------|-----------|-----------|\n",
    "|  A       |     8       |    7      |    6      |    4      |\n",
    "|  B       |     0       |    7      |    5      |    6      |\n",
    "|  C       |     3       |    9      |    4      |    5      |\n",
    "|  D       |     7       |    8      |    3      |    5      |\n",
    "|  E       |     10      |    10     |    10     |    9      |\n",
    "|  F       |     6       |    0      |    6      |    5      |"
   ]
  },
  {
   "cell_type": "markdown",
   "id": "7541935b",
   "metadata": {},
   "source": [
    "Giảng viên đang cân nhắc cho các điểm theo trọng số nào để có lợi cho các sinh viên nhất (ít người rớt nhất), có $3$ phương án:\n",
    "* $0.2, 0.2, 0.2, 0.4$.\n",
    "* $0.1, 0.1, 0.3, 0.5.$\n",
    "* $0.1, 0.2, 0.3, 0.4.$\n",
    "\n",
    "Hãy giúp giảng viên lựa chọn phương án thích hợp."
   ]
  },
  {
   "cell_type": "markdown",
   "id": "0f05d44c",
   "metadata": {},
   "source": [
    "**Bài làm:**"
   ]
  },
  {
   "cell_type": "code",
   "execution_count": 19,
   "id": "17145ba7",
   "metadata": {
    "scrolled": true
   },
   "outputs": [],
   "source": [
    "student=np.array([[8,7,6,4],\n",
    "                 [0,7,5,6],\n",
    "                 [3,9,4,5],\n",
    "                 [7,8,3,5],\n",
    "                 [10,10,10,9],\n",
    "                 [6,0,6,5]])\n",
    "ts1=np.array([[0.2,0.2,0.2,0.4]]).reshape(4,-1)\n",
    "ts2=np.array([[0.1,0.1,0.3,0.5]]).reshape(4,-1)\n",
    "ts3=np.array([[0.1,0.2,0.3,0.4]]).reshape(4,-1)"
   ]
  },
  {
   "cell_type": "code",
   "execution_count": 20,
   "id": "8c062734",
   "metadata": {},
   "outputs": [
    {
     "name": "stdout",
     "output_type": "stream",
     "text": [
      "score1:\n",
      " [[5.8]\n",
      " [4.8]\n",
      " [5.2]\n",
      " [5.6]\n",
      " [9.6]\n",
      " [4.4]] \n",
      " score2:\n",
      " [[5.3]\n",
      " [5.2]\n",
      " [4.9]\n",
      " [4.9]\n",
      " [9.5]\n",
      " [4.9]] \n",
      " score3:\n",
      " [[5.6]\n",
      " [5.3]\n",
      " [5.3]\n",
      " [5.2]\n",
      " [9.6]\n",
      " [4.4]]\n"
     ]
    }
   ],
   "source": [
    "score1=student@ts1\n",
    "score2=student@ts2\n",
    "score3=student@ts3\n",
    "print('score1:\\n',score1,'\\n score2:\\n',score2,'\\n score3:\\n',score3)"
   ]
  },
  {
   "cell_type": "code",
   "execution_count": 21,
   "id": "569b3234",
   "metadata": {},
   "outputs": [
    {
     "name": "stdout",
     "output_type": "stream",
     "text": [
      "Số lượng sinh viên pass khi cho điểm theo ts1 là: 4\n",
      "Số lượng sinh viên pass khi cho điểm theo ts2 là: 3\n",
      "Số lượng sinh viên pass khi cho điểm theo ts3 là: 5\n"
     ]
    }
   ],
   "source": [
    "sv_pass1=(np.select([score1 >=5.0, score1 < 5.0],['p', 'f']) == \"p\").sum()\n",
    "sv_pass2=(np.select([score2 >=5.0, score2 < 5.0],['p', 'f']) == \"p\").sum()\n",
    "sv_pass3=(np.select([score3 >=5.0, score3 < 5.0],['p', 'f']) == \"p\").sum()\n",
    "print('Số lượng sinh viên pass khi cho điểm theo ts1 là:',sv_pass1)\n",
    "print('Số lượng sinh viên pass khi cho điểm theo ts2 là:',sv_pass2)\n",
    "print('Số lượng sinh viên pass khi cho điểm theo ts3 là:',sv_pass3)"
   ]
  },
  {
   "cell_type": "markdown",
   "id": "62f8055c",
   "metadata": {},
   "source": [
    "* Vậy giảng viên cho điểm theo trọng số thứ 3 sẽ có lợi cho sinh viên nhất"
   ]
  },
  {
   "cell_type": "markdown",
   "id": "df5c6b91",
   "metadata": {},
   "source": [
    "## Bài 3. (2  điểm)\n",
    "Cho bài toán sau, hãy bằng cách lập hệ phương trình thích hợp và giải bằng Python theo **ít nhất $2$ cách khác nhau**: <br>\n",
    "\n",
    "Trong đợt dịch cúm Covid-19, sinh viên của một trường Đại học có nhận được trợ cấp từ nhà trường, từ địa phương và từ hội cựu sinh viên. Khảo sát trong một lớp học có ba nhóm: đang ở quê, đang ở trọ tại TPHCM và đang ở KTX trường. Biết rằng mức tiền hỗ trợ tiền:\n",
    "* Của trường cho các nhóm trên lần lượt là: $200k, 600k, 400k$; \n",
    "* Của địa phương là: $500k, 500k, 500k$; \n",
    "* Của hội cựu sinh viên là: $0k, 700k, 300k.$\n",
    "\n",
    "Biết rằng tổng tiền mà sinh viên được từ nhà trường là $37$ triệu, từ địa phương là $50$ triệu và từ hội cựu sinh viên là $29$ triệu. Tính tổng sinh viên của lớp."
   ]
  },
  {
   "cell_type": "markdown",
   "id": "c2d43bf9",
   "metadata": {},
   "source": [
    "**Bài làm:**"
   ]
  },
  {
   "cell_type": "markdown",
   "id": "62087a25",
   "metadata": {},
   "source": [
    "Ta có HPT: $\\left\\{\\begin{matrix}\n",
    "200x &+600y  &+400z  &=37000 \\\\ \n",
    " 500x&  +500y&  +500z& =50000 \\\\ \n",
    " & 700y & +300z & =29000\n",
    "\\end{matrix}\\right.$"
   ]
  },
  {
   "cell_type": "markdown",
   "id": "53ae4ca0",
   "metadata": {},
   "source": [
    "Cách 1: giải bằng công thức : $x=A^{-1}b$"
   ]
  },
  {
   "cell_type": "code",
   "execution_count": 22,
   "id": "e1e35e06",
   "metadata": {
    "scrolled": true
   },
   "outputs": [
    {
     "data": {
      "text/plain": [
       "array([[50.],\n",
       "       [35.],\n",
       "       [15.]])"
      ]
     },
     "execution_count": 22,
     "metadata": {},
     "output_type": "execute_result"
    }
   ],
   "source": [
    "A=np.array([[200,600,400],\n",
    "            [500,500,500],\n",
    "            [0,700,300]])\n",
    "b=np.array([[37000,50000,29000]]).reshape(3,-1)\n",
    "x=linalg.inv(A)@b\n",
    "x"
   ]
  },
  {
   "cell_type": "code",
   "execution_count": 23,
   "id": "7acbf2db",
   "metadata": {},
   "outputs": [
    {
     "name": "stdout",
     "output_type": "stream",
     "text": [
      "Tổng số sinh viên của lớp là 100.0\n"
     ]
    }
   ],
   "source": [
    "print('Tổng số sinh viên của lớp là',round(x.sum(),3))"
   ]
  },
  {
   "cell_type": "markdown",
   "id": "abee6ac1",
   "metadata": {},
   "source": [
    "Cách 2: giải bằng hàm solve của scipy "
   ]
  },
  {
   "cell_type": "code",
   "execution_count": 24,
   "id": "5add1f45",
   "metadata": {
    "scrolled": true
   },
   "outputs": [
    {
     "data": {
      "text/plain": [
       "array([[50.],\n",
       "       [35.],\n",
       "       [15.]])"
      ]
     },
     "execution_count": 24,
     "metadata": {},
     "output_type": "execute_result"
    }
   ],
   "source": [
    "x= linalg.solve(A,b)\n",
    "x"
   ]
  },
  {
   "cell_type": "code",
   "execution_count": 25,
   "id": "504a3bdc",
   "metadata": {},
   "outputs": [
    {
     "name": "stdout",
     "output_type": "stream",
     "text": [
      "Tổng số sinh viên của lớp là 100.0\n"
     ]
    }
   ],
   "source": [
    "print('Tổng số sinh viên của lớp là',round(x.sum(),3))"
   ]
  },
  {
   "cell_type": "markdown",
   "id": "7a468310",
   "metadata": {},
   "source": [
    "Cách 3: giải bằng thư viện Sympy"
   ]
  },
  {
   "cell_type": "code",
   "execution_count": 26,
   "id": "64f38697",
   "metadata": {},
   "outputs": [
    {
     "data": {
      "text/plain": [
       "{x: 50, y: 35, z: 15}"
      ]
     },
     "execution_count": 26,
     "metadata": {},
     "output_type": "execute_result"
    }
   ],
   "source": [
    "x=Symbol('x')\n",
    "y=Symbol('y')\n",
    "z=Symbol('z')\n",
    "kq=solve([200*x+600*y+400*z-37000, 500*x+500*y+500*z-50000, 0*x+700*y+300*z-29000],[x,y,z])\n",
    "kq"
   ]
  },
  {
   "cell_type": "code",
   "execution_count": 27,
   "id": "07ae91ee",
   "metadata": {
    "scrolled": true
   },
   "outputs": [
    {
     "name": "stdout",
     "output_type": "stream",
     "text": [
      "Tổng số sinh viên của lớp là: 100\n"
     ]
    }
   ],
   "source": [
    "print('Tổng số sinh viên của lớp là:',kq[x]+kq[y]+kq[z])"
   ]
  },
  {
   "cell_type": "markdown",
   "id": "0fd82635",
   "metadata": {},
   "source": [
    "## Bài 4. (2 điểm)\n",
    "Cho ma trận: $M=\\left( \\begin{matrix}\n",
    "   2 & a & -2  \\\\\n",
    "   0 & 3 & 0  \\\\\n",
    "   0 & 0 & 3  \\\\\n",
    "\\end{matrix} \\right)$ trong đó $a$ là tham số thực.\n",
    "* a) Cho $a=1,$ hãy chéo hóa ma trận này để thu được ma trận $D$ bằng cách dùng thư viện của Python và kiểm chứng lại bằng việc tính toán từng bước để tìm đa thức đặc trưng và các giá trị riêng của $M$. Từ đó hãy nêu cách tính ${{M}^{99}}$.\n",
    "* b) Ma trận chéo hóa $D$ của $M$ luôn không đổi với mọi giá trị $a$ tùy ý, hãy kiểm chứng với vài giá trị cụ thể của $a$ và giải thích lý do.\n"
   ]
  },
  {
   "cell_type": "markdown",
   "id": "1268b722",
   "metadata": {},
   "source": [
    "**Bài làm**"
   ]
  },
  {
   "cell_type": "markdown",
   "id": "cb432fc0",
   "metadata": {},
   "source": [
    "Câu a) Cho $a=1,$ hãy chéo hóa ma trận này để thu được ma trận $D$ bằng cách dùng thư viện của Python và kiểm chứng lại bằng việc tính toán từng bước để tìm đa thức đặc trưng và các giá trị riêng của $M$. Từ đó hãy nêu cách tính ${{M}^{99}}$."
   ]
  },
  {
   "cell_type": "code",
   "execution_count": 28,
   "id": "e3742aa9",
   "metadata": {
    "scrolled": true
   },
   "outputs": [
    {
     "data": {
      "text/latex": [
       "$\\displaystyle \\left[\\begin{matrix}2 & 0 & 0\\\\0 & 3 & 0\\\\0 & 0 & 3\\end{matrix}\\right]$"
      ],
      "text/plain": [
       "Matrix([\n",
       "[2, 0, 0],\n",
       "[0, 3, 0],\n",
       "[0, 0, 3]])"
      ]
     },
     "execution_count": 28,
     "metadata": {},
     "output_type": "execute_result"
    }
   ],
   "source": [
    "M= Matrix([[2,1,-2],\n",
    "           [0,3,0],\n",
    "           [0,0,3]])\n",
    "I = np.identity(3)\n",
    "P,D = M.diagonalize()\n",
    "D"
   ]
  },
  {
   "cell_type": "markdown",
   "id": "2b2e5722",
   "metadata": {},
   "source": [
    "Tìm phương trình đặc trưng và trị riêng"
   ]
  },
  {
   "cell_type": "code",
   "execution_count": 29,
   "id": "f9b7d365",
   "metadata": {
    "scrolled": true
   },
   "outputs": [
    {
     "data": {
      "text/latex": [
       "$\\displaystyle - 1.0 x^{3} + 8.0 x^{2} - 21.0 x + 18$"
      ],
      "text/plain": [
       "-1.0*x**3 + 8.0*x**2 - 21.0*x + 18"
      ]
     },
     "execution_count": 29,
     "metadata": {},
     "output_type": "execute_result"
    }
   ],
   "source": [
    "x=Symbol('x')\n",
    "det(M-x*I)"
   ]
  },
  {
   "cell_type": "markdown",
   "id": "80d9a587",
   "metadata": {},
   "source": [
    "Vậy phương trình đặc trưng là:$\\displaystyle - 1.0 x^{3} + 8.0 x^{2} - 21.0 x + 18$"
   ]
  },
  {
   "cell_type": "code",
   "execution_count": 30,
   "id": "c7c808d7",
   "metadata": {
    "scrolled": true
   },
   "outputs": [
    {
     "data": {
      "text/plain": [
       "[(2.00000000000000,), (3.00000000000000,)]"
      ]
     },
     "execution_count": 30,
     "metadata": {},
     "output_type": "execute_result"
    }
   ],
   "source": [
    "f=solve([det(M-x*I)],[x])\n",
    "f"
   ]
  },
  {
   "cell_type": "markdown",
   "id": "51ccf6ab",
   "metadata": {},
   "source": [
    "Vậy ta có 2 trị riêng là $$\\lambda_1 =2, \\lambda_2=3$$"
   ]
  },
  {
   "cell_type": "markdown",
   "id": "3d6e86ae",
   "metadata": {},
   "source": [
    "Để tính $M^{99}$: <BR>\n",
    "Ta lấy: $$M=PDP^{-1}\\rightarrow M^{99}=PD^{99}P^{-1}$$ <br>\n"
   ]
  },
  {
   "cell_type": "markdown",
   "id": "c379988a",
   "metadata": {},
   "source": [
    "Câu b) Ma trận chéo hóa $D$ của $M$ luôn không đổi với mọi giá trị $a$ tùy ý, hãy kiểm chứng với vài giá trị cụ thể của $a$ và giải thích lý do."
   ]
  },
  {
   "cell_type": "code",
   "execution_count": 31,
   "id": "02009d03",
   "metadata": {},
   "outputs": [],
   "source": [
    "import random"
   ]
  },
  {
   "cell_type": "code",
   "execution_count": 32,
   "id": "5b6df2f8",
   "metadata": {
    "scrolled": true
   },
   "outputs": [
    {
     "name": "stdout",
     "output_type": "stream",
     "text": [
      "a = 3\n"
     ]
    },
    {
     "data": {
      "text/latex": [
       "$\\displaystyle \\left[\\begin{matrix}2 & 0 & 0\\\\0 & 3 & 0\\\\0 & 0 & 3\\end{matrix}\\right]$"
      ],
      "text/plain": [
       "Matrix([\n",
       "[2, 0, 0],\n",
       "[0, 3, 0],\n",
       "[0, 0, 3]])"
      ]
     },
     "execution_count": 32,
     "metadata": {},
     "output_type": "execute_result"
    }
   ],
   "source": [
    "a=random.randint(0,9)\n",
    "print('a =',a)\n",
    "N= Matrix([[2,a,-2],\n",
    "           [0,3,0],\n",
    "           [0,0,3]])\n",
    "P,D=N.diagonalize()\n",
    "D"
   ]
  },
  {
   "cell_type": "markdown",
   "id": "adbafc4c",
   "metadata": {},
   "source": [
    "Vì M là ma trận tam giác trên nên khi chéo hóa D sẽ bằng các phần tử trên đường chéo chính "
   ]
  },
  {
   "cell_type": "code",
   "execution_count": null,
   "id": "dc729bf4",
   "metadata": {},
   "outputs": [],
   "source": []
  }
 ],
 "metadata": {
  "kernelspec": {
   "display_name": "Python 3 (ipykernel)",
   "language": "python",
   "name": "python3"
  },
  "language_info": {
   "codemirror_mode": {
    "name": "ipython",
    "version": 3
   },
   "file_extension": ".py",
   "mimetype": "text/x-python",
   "name": "python",
   "nbconvert_exporter": "python",
   "pygments_lexer": "ipython3",
   "version": "3.9.7"
  }
 },
 "nbformat": 4,
 "nbformat_minor": 5
}
