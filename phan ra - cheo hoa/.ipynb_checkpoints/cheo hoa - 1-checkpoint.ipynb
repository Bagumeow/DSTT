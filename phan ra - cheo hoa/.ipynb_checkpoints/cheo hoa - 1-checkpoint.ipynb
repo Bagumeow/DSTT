{
 "cells": [
  {
   "cell_type": "code",
   "execution_count": 1,
   "id": "e7cf4bc9",
   "metadata": {},
   "outputs": [],
   "source": [
    "from sympy import Matrix\n",
    "import sympy\n",
    "sympy.init_printing()"
   ]
  },
  {
   "cell_type": "markdown",
   "id": "cf9291aa",
   "metadata": {},
   "source": [
    "Dùng thuật giải Gram-Schmidt trực giao hóa họ 3 vector sau:\n",
    "$$\n",
    "\\boldsymbol{u}_1 = (-1, 1, -1, 1), \\boldsymbol{u}_2 = (-1, 3, -1, 3), \\boldsymbol{u}_3 = (-2, 4, -2, 4)\n",
    "$$"
   ]
  },
  {
   "cell_type": "code",
   "execution_count": 2,
   "id": "f2c7efbd",
   "metadata": {},
   "outputs": [
    {
     "data": {
      "image/png": "[encoded data removed]",
      "text/latex": [
       "$\\displaystyle \\left[ \\left[\\begin{matrix}-1\\\\1\\\\-1\\\\1\\end{matrix}\\right], \\  \\left[\\begin{matrix}1\\\\1\\\\1\\\\1\\end{matrix}\\right]\\right]$"
      ],
      "text/plain": [
       "⎡⎡-1⎤  ⎡1⎤⎤\n",
       "⎢⎢  ⎥  ⎢ ⎥⎥\n",
       "⎢⎢1 ⎥  ⎢1⎥⎥\n",
       "⎢⎢  ⎥, ⎢ ⎥⎥\n",
       "⎢⎢-1⎥  ⎢1⎥⎥\n",
       "⎢⎢  ⎥  ⎢ ⎥⎥\n",
       "⎣⎣1 ⎦  ⎣1⎦⎦"
      ]
     },
     "execution_count": 2,
     "metadata": {},
     "output_type": "execute_result"
    }
   ],
   "source": [
    "# Minh họa thuật giải Gram-Schmidt\n",
    "# Ví dụ slide 5\n",
    "u1 = [-1, 1, -1, 1]\n",
    "u2 = [-1, 3, -1, 3]\n",
    "u3 = [-2, 4, -2, 4]\n",
    "#Trực giao\n",
    "Matrix.orthogonalize(Matrix(u1), Matrix(u2), Matrix(u3))"
   ]
  },
  {
   "cell_type": "code",
   "execution_count": 3,
   "id": "b9f48f21",
   "metadata": {},
   "outputs": [
    {
     "data": {
      "image/png": "[encoded data removed]",
      "text/latex": [
       "$\\displaystyle \\left[ \\left[\\begin{matrix}- \\frac{1}{2}\\\\\\frac{1}{2}\\\\- \\frac{1}{2}\\\\\\frac{1}{2}\\end{matrix}\\right], \\  \\left[\\begin{matrix}\\frac{1}{2}\\\\\\frac{1}{2}\\\\\\frac{1}{2}\\\\\\frac{1}{2}\\end{matrix}\\right]\\right]$"
      ],
      "text/plain": [
       "⎡⎡-1/2⎤  ⎡1/2⎤⎤\n",
       "⎢⎢    ⎥  ⎢   ⎥⎥\n",
       "⎢⎢1/2 ⎥  ⎢1/2⎥⎥\n",
       "⎢⎢    ⎥, ⎢   ⎥⎥\n",
       "⎢⎢-1/2⎥  ⎢1/2⎥⎥\n",
       "⎢⎢    ⎥  ⎢   ⎥⎥\n",
       "⎣⎣1/2 ⎦  ⎣1/2⎦⎦"
      ]
     },
     "execution_count": 3,
     "metadata": {},
     "output_type": "execute_result"
    }
   ],
   "source": [
    "# Trực chuẩn\n",
    "Matrix.orthogonalize(Matrix(u1), Matrix(u2), Matrix(u3), normalize=True)"
   ]
  },
  {
   "cell_type": "markdown",
   "id": "ae094c33",
   "metadata": {},
   "source": [
    "$$\n",
    "\\boldsymbol{u}_1 = (1, 1, 1), \\boldsymbol{u}_2 = (0, 2, 1), \\boldsymbol{u}_3 = (0, 0, 3)\n",
    "$$"
   ]
  },
  {
   "cell_type": "code",
   "execution_count": 4,
   "id": "8ce77414",
   "metadata": {},
   "outputs": [
    {
     "data": {
      "image/png": "[encoded data removed]",
      "text/latex": [
       "$\\displaystyle \\left[ \\left[\\begin{matrix}1\\\\1\\\\1\\end{matrix}\\right], \\  \\left[\\begin{matrix}-1\\\\1\\\\0\\end{matrix}\\right], \\  \\left[\\begin{matrix}-1\\\\-1\\\\2\\end{matrix}\\right]\\right]$"
      ],
      "text/plain": [
       "⎡⎡1⎤  ⎡-1⎤  ⎡-1⎤⎤\n",
       "⎢⎢ ⎥  ⎢  ⎥  ⎢  ⎥⎥\n",
       "⎢⎢1⎥, ⎢1 ⎥, ⎢-1⎥⎥\n",
       "⎢⎢ ⎥  ⎢  ⎥  ⎢  ⎥⎥\n",
       "⎣⎣1⎦  ⎣0 ⎦  ⎣2 ⎦⎦"
      ]
     },
     "execution_count": 4,
     "metadata": {},
     "output_type": "execute_result"
    }
   ],
   "source": [
    "# Minh họa thuật giải Gram-Schmidt\n",
    "u1 = [1, 1, 1]\n",
    "u2 = [0, 2, 1]\n",
    "u3 = [0, 0, 3]\n",
    "#Trực giao\n",
    "Matrix.orthogonalize(Matrix(u1), Matrix(u2), Matrix(u3))"
   ]
  },
  {
   "cell_type": "code",
   "execution_count": 5,
   "id": "dfd3249a",
   "metadata": {},
   "outputs": [
    {
     "data": {
      "image/png": "[encoded data removed]",
      "text/latex": [
       "$\\displaystyle \\left[ \\left[\\begin{matrix}\\frac{\\sqrt{3}}{3}\\\\\\frac{\\sqrt{3}}{3}\\\\\\frac{\\sqrt{3}}{3}\\end{matrix}\\right], \\  \\left[\\begin{matrix}- \\frac{\\sqrt{2}}{2}\\\\\\frac{\\sqrt{2}}{2}\\\\0\\end{matrix}\\right], \\  \\left[\\begin{matrix}- \\frac{\\sqrt{6}}{6}\\\\- \\frac{\\sqrt{6}}{6}\\\\\\frac{\\sqrt{6}}{3}\\end{matrix}\\right]\\right]$"
      ],
      "text/plain": [
       "⎡⎡√3⎤          ⎡-√6 ⎤⎤\n",
       "⎢⎢──⎥  ⎡-√2 ⎤  ⎢────⎥⎥\n",
       "⎢⎢3 ⎥  ⎢────⎥  ⎢ 6  ⎥⎥\n",
       "⎢⎢  ⎥  ⎢ 2  ⎥  ⎢    ⎥⎥\n",
       "⎢⎢√3⎥  ⎢    ⎥  ⎢-√6 ⎥⎥\n",
       "⎢⎢──⎥, ⎢ √2 ⎥, ⎢────⎥⎥\n",
       "⎢⎢3 ⎥  ⎢ ── ⎥  ⎢ 6  ⎥⎥\n",
       "⎢⎢  ⎥  ⎢ 2  ⎥  ⎢    ⎥⎥\n",
       "⎢⎢√3⎥  ⎢    ⎥  ⎢ √6 ⎥⎥\n",
       "⎢⎢──⎥  ⎣ 0  ⎦  ⎢ ── ⎥⎥\n",
       "⎣⎣3 ⎦          ⎣ 3  ⎦⎦"
      ]
     },
     "execution_count": 5,
     "metadata": {},
     "output_type": "execute_result"
    }
   ],
   "source": [
    "# Trực chuẩn\n",
    "Matrix.orthogonalize(Matrix(u1), Matrix(u2), Matrix(u3), normalize=True)"
   ]
  },
  {
   "cell_type": "markdown",
   "id": "7746f19e",
   "metadata": {},
   "source": [
    "### Phân rã QR\n",
    "- Ví dụ 1\n",
    "$$\n",
    "A =\n",
    "\\begin{bmatrix}\n",
    "0 & 0 &  4 \\\\\n",
    "0 & 1 & 3 \\\\\n",
    "1 & 2 & 0 \\\\ \n",
    "1 & 0 & 0 \\\\\n",
    "\\end{bmatrix}\n",
    "$$"
   ]
  },
  {
   "cell_type": "code",
   "execution_count": 6,
   "id": "793ec270",
   "metadata": {},
   "outputs": [],
   "source": [
    "# Ví dụ 1\n",
    "A = Matrix([[0,0,4], [0,1,3], [1,2,0], [1,0,0]])\n",
    "Q,R = A.QRdecomposition()"
   ]
  },
  {
   "cell_type": "code",
   "execution_count": 7,
   "id": "1a7b3f8d",
   "metadata": {},
   "outputs": [
    {
     "data": {
      "image/png": "[encoded data removed]",
      "text/latex": [
       "$\\displaystyle \\left[\\begin{matrix}0 & 0 & \\frac{2 \\sqrt{22}}{11}\\\\0 & \\frac{\\sqrt{3}}{3} & \\frac{\\sqrt{22}}{11}\\\\\\frac{\\sqrt{2}}{2} & \\frac{\\sqrt{3}}{3} & - \\frac{\\sqrt{22}}{22}\\\\\\frac{\\sqrt{2}}{2} & - \\frac{\\sqrt{3}}{3} & \\frac{\\sqrt{22}}{22}\\end{matrix}\\right]$"
      ],
      "text/plain": [
       "⎡          2⋅√22⎤\n",
       "⎢0    0    ─────⎥\n",
       "⎢            11 ⎥\n",
       "⎢               ⎥\n",
       "⎢     √3    √22 ⎥\n",
       "⎢0    ──    ─── ⎥\n",
       "⎢     3      11 ⎥\n",
       "⎢               ⎥\n",
       "⎢√2   √3   -√22 ⎥\n",
       "⎢──   ──   ─────⎥\n",
       "⎢2    3      22 ⎥\n",
       "⎢               ⎥\n",
       "⎢√2  -√3    √22 ⎥\n",
       "⎢──  ────   ─── ⎥\n",
       "⎣2    3      22 ⎦"
      ]
     },
     "execution_count": 7,
     "metadata": {},
     "output_type": "execute_result"
    }
   ],
   "source": [
    "Q"
   ]
  },
  {
   "cell_type": "code",
   "execution_count": 8,
   "id": "0b8dbbac",
   "metadata": {},
   "outputs": [
    {
     "data": {
      "image/png": "[encoded data removed]",
      "text/latex": [
       "$\\displaystyle \\left[\\begin{matrix}\\sqrt{2} & \\sqrt{2} & 0\\\\0 & \\sqrt{3} & \\sqrt{3}\\\\0 & 0 & \\sqrt{22}\\end{matrix}\\right]$"
      ],
      "text/plain": [
       "⎡√2  √2   0 ⎤\n",
       "⎢           ⎥\n",
       "⎢0   √3  √3 ⎥\n",
       "⎢           ⎥\n",
       "⎣0   0   √22⎦"
      ]
     },
     "execution_count": 8,
     "metadata": {},
     "output_type": "execute_result"
    }
   ],
   "source": [
    "R"
   ]
  },
  {
   "cell_type": "markdown",
   "id": "d18bece0",
   "metadata": {},
   "source": [
    "- Ví dụ 2\n",
    "$$\n",
    "A =\n",
    "\\begin{bmatrix}\n",
    "0 & 0 & 4 & 0 \\\\\n",
    "0 & 0 & 3 & 1 \\\\\n",
    "1 & 2 & 0 & 2 \\\\ \n",
    "1 & 2 & 0 & 0\\\\\n",
    "\\end{bmatrix}\n",
    "$$"
   ]
  },
  {
   "cell_type": "code",
   "execution_count": 9,
   "id": "27fd4352",
   "metadata": {},
   "outputs": [],
   "source": [
    "# Ví dụ 2\n",
    "A = Matrix([[0,0,4,0], [0,0,3,1], [1,2,0,2],[1,2,0,0]])\n",
    "Q,R = A.QRdecomposition()"
   ]
  },
  {
   "cell_type": "code",
   "execution_count": 10,
   "id": "001c115c",
   "metadata": {},
   "outputs": [
    {
     "data": {
      "image/png": "[encoded data removed]",
      "text/latex": [
       "$\\displaystyle \\left[\\begin{matrix}0 & \\frac{4}{5} & - \\frac{2 \\sqrt{66}}{55}\\\\0 & \\frac{3}{5} & \\frac{8 \\sqrt{66}}{165}\\\\\\frac{\\sqrt{2}}{2} & 0 & \\frac{5 \\sqrt{66}}{66}\\\\\\frac{\\sqrt{2}}{2} & 0 & - \\frac{5 \\sqrt{66}}{66}\\end{matrix}\\right]$"
      ],
      "text/plain": [
       "⎡         -2⋅√66 ⎤\n",
       "⎢0   4/5  ───────⎥\n",
       "⎢            55  ⎥\n",
       "⎢                ⎥\n",
       "⎢          8⋅√66 ⎥\n",
       "⎢0   3/5   ───── ⎥\n",
       "⎢           165  ⎥\n",
       "⎢                ⎥\n",
       "⎢√2        5⋅√66 ⎥\n",
       "⎢──   0    ───── ⎥\n",
       "⎢2           66  ⎥\n",
       "⎢                ⎥\n",
       "⎢√2       -5⋅√66 ⎥\n",
       "⎢──   0   ───────⎥\n",
       "⎣2           66  ⎦"
      ]
     },
     "execution_count": 10,
     "metadata": {},
     "output_type": "execute_result"
    }
   ],
   "source": [
    "Q"
   ]
  },
  {
   "cell_type": "code",
   "execution_count": 11,
   "id": "01e0f3f5",
   "metadata": {},
   "outputs": [
    {
     "data": {
      "image/png": "[encoded data removed]",
      "text/latex": [
       "$\\displaystyle \\left[\\begin{matrix}\\sqrt{2} & 2 \\sqrt{2} & 0 & \\sqrt{2}\\\\0 & 0 & 5 & \\frac{3}{5}\\\\0 & 0 & 0 & \\frac{\\sqrt{66}}{5}\\end{matrix}\\right]$"
      ],
      "text/plain": [
       "⎡√2  2⋅√2  0  √2 ⎤\n",
       "⎢                ⎥\n",
       "⎢0    0    5  3/5⎥\n",
       "⎢                ⎥\n",
       "⎢             √66⎥\n",
       "⎢0    0    0  ───⎥\n",
       "⎣              5 ⎦"
      ]
     },
     "execution_count": 11,
     "metadata": {},
     "output_type": "execute_result"
    }
   ],
   "source": [
    "R"
   ]
  },
  {
   "cell_type": "markdown",
   "id": "ab29dd7c",
   "metadata": {},
   "source": [
    "- Ví dụ 3\n",
    "$$\n",
    "A =\n",
    "\\begin{bmatrix}\n",
    "0 & 2 & -5 \\\\\n",
    "-1 & 2 & 4 \\\\\n",
    "2 & 1 & 2 \\\\ \n",
    "\\end{bmatrix}\n",
    "$$"
   ]
  },
  {
   "cell_type": "code",
   "execution_count": 12,
   "id": "de9dc1e4",
   "metadata": {},
   "outputs": [],
   "source": [
    "# Ví dụ 3\n",
    "A = Matrix([[0,2,-5], [-1,2,4], [2,1,2]])\n",
    "\n",
    "Q,R = A.QRdecomposition()"
   ]
  },
  {
   "cell_type": "code",
   "execution_count": 13,
   "id": "827959cd",
   "metadata": {},
   "outputs": [
    {
     "data": {
      "image/png": "[encoded data removed]",
      "text/latex": [
       "$\\displaystyle \\left[\\begin{matrix}0 & \\frac{2}{3} & - \\frac{\\sqrt{5}}{3}\\\\- \\frac{\\sqrt{5}}{5} & \\frac{2}{3} & \\frac{4 \\sqrt{5}}{15}\\\\\\frac{2 \\sqrt{5}}{5} & \\frac{1}{3} & \\frac{2 \\sqrt{5}}{15}\\end{matrix}\\right]$"
      ],
      "text/plain": [
       "⎡           -√5 ⎤\n",
       "⎢ 0    2/3  ────⎥\n",
       "⎢            3  ⎥\n",
       "⎢               ⎥\n",
       "⎢-√5        4⋅√5⎥\n",
       "⎢────  2/3  ────⎥\n",
       "⎢ 5          15 ⎥\n",
       "⎢               ⎥\n",
       "⎢2⋅√5       2⋅√5⎥\n",
       "⎢────  1/3  ────⎥\n",
       "⎣ 5          15 ⎦"
      ]
     },
     "execution_count": 13,
     "metadata": {},
     "output_type": "execute_result"
    }
   ],
   "source": [
    "Q"
   ]
  },
  {
   "cell_type": "code",
   "execution_count": 14,
   "id": "376aa8c2",
   "metadata": {},
   "outputs": [
    {
     "data": {
      "image/png": "[encoded data removed]",
      "text/latex": [
       "$\\displaystyle \\left[\\begin{matrix}\\sqrt{5} & 0 & 0\\\\0 & 3 & 0\\\\0 & 0 & 3 \\sqrt{5}\\end{matrix}\\right]$"
      ],
      "text/plain": [
       "⎡√5  0   0  ⎤\n",
       "⎢           ⎥\n",
       "⎢0   3   0  ⎥\n",
       "⎢           ⎥\n",
       "⎣0   0  3⋅√5⎦"
      ]
     },
     "execution_count": 14,
     "metadata": {},
     "output_type": "execute_result"
    }
   ],
   "source": [
    "R"
   ]
  },
  {
   "cell_type": "markdown",
   "id": "7cbd816f",
   "metadata": {},
   "source": [
    "### Chéo hóa ma trận\n",
    "- Ví dụ 4\n",
    "$$\n",
    "A =\n",
    "\\begin{bmatrix}\n",
    "1 & 2 &  2 \\\\\n",
    "0 & -1 & 0 \\\\\n",
    "0 & 0 & 2 \\\\ \n",
    "\\end{bmatrix}\n",
    "$$"
   ]
  },
  {
   "cell_type": "code",
   "execution_count": 15,
   "id": "e9cdb254",
   "metadata": {},
   "outputs": [],
   "source": [
    "# Ví dụ 4\n",
    "A = Matrix([[1,2,2], [0,-1,0], [0,0,2]])\n",
    "P, D = A.diagonalize()"
   ]
  },
  {
   "cell_type": "code",
   "execution_count": 16,
   "id": "03277a77",
   "metadata": {},
   "outputs": [
    {
     "data": {
      "image/png": "[encoded data removed]",
      "text/latex": [
       "$\\displaystyle \\left[\\begin{matrix}-1 & 1 & 2\\\\1 & 0 & 0\\\\0 & 0 & 1\\end{matrix}\\right]$"
      ],
      "text/plain": [
       "⎡-1  1  2⎤\n",
       "⎢        ⎥\n",
       "⎢1   0  0⎥\n",
       "⎢        ⎥\n",
       "⎣0   0  1⎦"
      ]
     },
     "execution_count": 16,
     "metadata": {},
     "output_type": "execute_result"
    }
   ],
   "source": [
    "P"
   ]
  },
  {
   "cell_type": "code",
   "execution_count": 18,
   "id": "5dbc2ab1",
   "metadata": {},
   "outputs": [
    {
     "data": {
      "image/png": "[encoded data removed]",
      "text/latex": [
       "$\\displaystyle \\left[\\begin{matrix}-1 & 0 & 0\\\\0 & 1 & 0\\\\0 & 0 & 2\\end{matrix}\\right]$"
      ],
      "text/plain": [
       "⎡-1  0  0⎤\n",
       "⎢        ⎥\n",
       "⎢0   1  0⎥\n",
       "⎢        ⎥\n",
       "⎣0   0  2⎦"
      ]
     },
     "execution_count": 18,
     "metadata": {},
     "output_type": "execute_result"
    }
   ],
   "source": [
    "D"
   ]
  },
  {
   "cell_type": "markdown",
   "id": "8d86c774",
   "metadata": {},
   "source": [
    "- Ví dụ 5\n",
    "$$\n",
    "A =\n",
    "\\begin{bmatrix}\n",
    "-2 & 0 & 0 & 0 \\\\\n",
    "0 & -2 & 0 & 0 \\\\\n",
    "24 & -12 & 2 & 0 \\\\ \n",
    "0 & 0 & 0 & 2\n",
    "\\end{bmatrix}\n",
    "$$"
   ]
  },
  {
   "cell_type": "code",
   "execution_count": 19,
   "id": "b1b64efc",
   "metadata": {},
   "outputs": [],
   "source": [
    "# Ví dụ 5\n",
    "A = Matrix([[-2, 0, 0, 0], [0, -2, 0, 0], [24, -12, 2, 0], [0, 0, 0, 2]])\n",
    "P, D = A.diagonalize()"
   ]
  },
  {
   "cell_type": "code",
   "execution_count": 24,
   "id": "1c69eec0",
   "metadata": {
    "scrolled": true
   },
   "outputs": [
    {
     "data": {
      "image/png": "[encoded data removed]",
      "text/latex": [
       "$\\displaystyle \\left[\\begin{matrix}1 & -1 & 0 & 0\\\\2 & 0 & 0 & 0\\\\0 & 6 & 1 & 0\\\\0 & 0 & 0 & 1\\end{matrix}\\right]$"
      ],
      "text/plain": [
       "⎡1  -1  0  0⎤\n",
       "⎢           ⎥\n",
       "⎢2  0   0  0⎥\n",
       "⎢           ⎥\n",
       "⎢0  6   1  0⎥\n",
       "⎢           ⎥\n",
       "⎣0  0   0  1⎦"
      ]
     },
     "execution_count": 24,
     "metadata": {},
     "output_type": "execute_result"
    }
   ],
   "source": [
    "P"
   ]
  },
  {
   "cell_type": "code",
   "execution_count": 21,
   "id": "dd83e2a7",
   "metadata": {},
   "outputs": [
    {
     "data": {
      "image/png": "[encoded data removed]",
      "text/latex": [
       "$\\displaystyle \\left[\\begin{matrix}-2 & 0 & 0 & 0\\\\0 & -2 & 0 & 0\\\\0 & 0 & 2 & 0\\\\0 & 0 & 0 & 2\\end{matrix}\\right]$"
      ],
      "text/plain": [
       "⎡-2  0   0  0⎤\n",
       "⎢            ⎥\n",
       "⎢0   -2  0  0⎥\n",
       "⎢            ⎥\n",
       "⎢0   0   2  0⎥\n",
       "⎢            ⎥\n",
       "⎣0   0   0  2⎦"
      ]
     },
     "execution_count": 21,
     "metadata": {},
     "output_type": "execute_result"
    }
   ],
   "source": [
    "D"
   ]
  },
  {
   "cell_type": "code",
   "execution_count": 22,
   "id": "144f22cd",
   "metadata": {},
   "outputs": [
    {
     "data": {
      "image/png": "[encoded data removed]",
      "text/latex": [
       "$\\displaystyle \\left[\\begin{matrix}0 & \\frac{1}{2} & 0 & 0\\\\-1 & \\frac{1}{2} & 0 & 0\\\\6 & -3 & 1 & 0\\\\0 & 0 & 0 & 1\\end{matrix}\\right]$"
      ],
      "text/plain": [
       "⎡0   1/2  0  0⎤\n",
       "⎢             ⎥\n",
       "⎢-1  1/2  0  0⎥\n",
       "⎢             ⎥\n",
       "⎢6   -3   1  0⎥\n",
       "⎢             ⎥\n",
       "⎣0    0   0  1⎦"
      ]
     },
     "execution_count": 22,
     "metadata": {},
     "output_type": "execute_result"
    }
   ],
   "source": [
    "# P^-1\n",
    "P.inv()"
   ]
  },
  {
   "cell_type": "markdown",
   "id": "0172cb5a",
   "metadata": {},
   "source": [
    "#### Ma trận không chéo hóa được\n",
    "- Ví dụ 6\n",
    "$$\n",
    "A =\n",
    "\\begin{bmatrix}\n",
    "1 & 0 & 0 & 0 \\\\\n",
    "0 & -1 & 0 & 0 \\\\\n",
    "2 & 1 & 3 & 0 \\\\ \n",
    "1 & 1 & 2 & 1\n",
    "\\end{bmatrix}\n",
    "$$"
   ]
  },
  {
   "cell_type": "code",
   "execution_count": 25,
   "id": "a2b0f206",
   "metadata": {},
   "outputs": [
    {
     "ename": "MatrixError",
     "evalue": "Matrix is not diagonalizable",
     "output_type": "error",
     "traceback": [
      "\u001b[1;31m---------------------------------------------------------------------------\u001b[0m",
      "\u001b[1;31mMatrixError\u001b[0m                               Traceback (most recent call last)",
      "\u001b[1;32m<ipython-input-25-6fda76110f30>\u001b[0m in \u001b[0;36m<module>\u001b[1;34m\u001b[0m\n\u001b[0;32m      1\u001b[0m \u001b[1;31m# Ví dụ 6\u001b[0m\u001b[1;33m\u001b[0m\u001b[1;33m\u001b[0m\u001b[1;33m\u001b[0m\u001b[0m\n\u001b[0;32m      2\u001b[0m \u001b[0mA\u001b[0m \u001b[1;33m=\u001b[0m \u001b[0mMatrix\u001b[0m\u001b[1;33m(\u001b[0m\u001b[1;33m[\u001b[0m\u001b[1;33m[\u001b[0m\u001b[1;36m1\u001b[0m\u001b[1;33m,\u001b[0m\u001b[1;36m0\u001b[0m\u001b[1;33m,\u001b[0m\u001b[1;36m0\u001b[0m\u001b[1;33m,\u001b[0m\u001b[1;36m0\u001b[0m\u001b[1;33m]\u001b[0m\u001b[1;33m,\u001b[0m \u001b[1;33m[\u001b[0m\u001b[1;36m0\u001b[0m\u001b[1;33m,\u001b[0m\u001b[1;33m-\u001b[0m\u001b[1;36m1\u001b[0m\u001b[1;33m,\u001b[0m\u001b[1;36m0\u001b[0m\u001b[1;33m,\u001b[0m\u001b[1;36m0\u001b[0m\u001b[1;33m]\u001b[0m\u001b[1;33m,\u001b[0m \u001b[1;33m[\u001b[0m\u001b[1;36m2\u001b[0m\u001b[1;33m,\u001b[0m\u001b[1;36m1\u001b[0m\u001b[1;33m,\u001b[0m\u001b[1;36m3\u001b[0m\u001b[1;33m,\u001b[0m\u001b[1;36m0\u001b[0m\u001b[1;33m]\u001b[0m\u001b[1;33m,\u001b[0m \u001b[1;33m[\u001b[0m\u001b[1;36m1\u001b[0m\u001b[1;33m,\u001b[0m\u001b[1;36m1\u001b[0m\u001b[1;33m,\u001b[0m\u001b[1;36m2\u001b[0m\u001b[1;33m,\u001b[0m\u001b[1;36m1\u001b[0m\u001b[1;33m]\u001b[0m\u001b[1;33m]\u001b[0m\u001b[1;33m)\u001b[0m\u001b[1;33m\u001b[0m\u001b[1;33m\u001b[0m\u001b[0m\n\u001b[1;32m----> 3\u001b[1;33m \u001b[0mP\u001b[0m\u001b[1;33m,\u001b[0m \u001b[0mD\u001b[0m \u001b[1;33m=\u001b[0m \u001b[0mA\u001b[0m\u001b[1;33m.\u001b[0m\u001b[0mdiagonalize\u001b[0m\u001b[1;33m(\u001b[0m\u001b[1;33m)\u001b[0m\u001b[1;33m\u001b[0m\u001b[1;33m\u001b[0m\u001b[0m\n\u001b[0m",
      "\u001b[1;32mC:\\ProgramData\\Anaconda3\\lib\\site-packages\\sympy\\matrices\\matrices.py\u001b[0m in \u001b[0;36mdiagonalize\u001b[1;34m(self, reals_only, sort, normalize)\u001b[0m\n\u001b[0;32m    382\u001b[0m \u001b[1;33m\u001b[0m\u001b[0m\n\u001b[0;32m    383\u001b[0m     \u001b[1;32mdef\u001b[0m \u001b[0mdiagonalize\u001b[0m\u001b[1;33m(\u001b[0m\u001b[0mself\u001b[0m\u001b[1;33m,\u001b[0m \u001b[0mreals_only\u001b[0m\u001b[1;33m=\u001b[0m\u001b[1;32mFalse\u001b[0m\u001b[1;33m,\u001b[0m \u001b[0msort\u001b[0m\u001b[1;33m=\u001b[0m\u001b[1;32mFalse\u001b[0m\u001b[1;33m,\u001b[0m \u001b[0mnormalize\u001b[0m\u001b[1;33m=\u001b[0m\u001b[1;32mFalse\u001b[0m\u001b[1;33m)\u001b[0m\u001b[1;33m:\u001b[0m\u001b[1;33m\u001b[0m\u001b[1;33m\u001b[0m\u001b[0m\n\u001b[1;32m--> 384\u001b[1;33m         return _diagonalize(self, reals_only=reals_only, sort=sort,\n\u001b[0m\u001b[0;32m    385\u001b[0m                 normalize=normalize)\n\u001b[0;32m    386\u001b[0m \u001b[1;33m\u001b[0m\u001b[0m\n",
      "\u001b[1;32mC:\\ProgramData\\Anaconda3\\lib\\site-packages\\sympy\\matrices\\eigen.py\u001b[0m in \u001b[0;36m_diagonalize\u001b[1;34m(M, reals_only, sort, normalize)\u001b[0m\n\u001b[0;32m    702\u001b[0m \u001b[1;33m\u001b[0m\u001b[0m\n\u001b[0;32m    703\u001b[0m     \u001b[1;32mif\u001b[0m \u001b[1;32mnot\u001b[0m \u001b[0mis_diagonalizable\u001b[0m\u001b[1;33m:\u001b[0m\u001b[1;33m\u001b[0m\u001b[1;33m\u001b[0m\u001b[0m\n\u001b[1;32m--> 704\u001b[1;33m         \u001b[1;32mraise\u001b[0m \u001b[0mMatrixError\u001b[0m\u001b[1;33m(\u001b[0m\u001b[1;34m\"Matrix is not diagonalizable\"\u001b[0m\u001b[1;33m)\u001b[0m\u001b[1;33m\u001b[0m\u001b[1;33m\u001b[0m\u001b[0m\n\u001b[0m\u001b[0;32m    705\u001b[0m \u001b[1;33m\u001b[0m\u001b[0m\n\u001b[0;32m    706\u001b[0m     \u001b[1;32mif\u001b[0m \u001b[0msort\u001b[0m\u001b[1;33m:\u001b[0m\u001b[1;33m\u001b[0m\u001b[1;33m\u001b[0m\u001b[0m\n",
      "\u001b[1;31mMatrixError\u001b[0m: Matrix is not diagonalizable"
     ]
    }
   ],
   "source": [
    "# Ví dụ 6\n",
    "A = Matrix([[1,0,0,0], [0,-1,0,0], [2,1,3,0], [1,1,2,1]])\n",
    "P, D = A.diagonalize()"
   ]
  },
  {
   "cell_type": "markdown",
   "id": "b7458e6c",
   "metadata": {},
   "source": [
    "### Chéo hóa ma trận để tính lũy thừa\n",
    "- Ví dụ 7\n",
    "$$\n",
    "A =\n",
    "\\begin{bmatrix}\n",
    "4 & 0 &  0 \\\\\n",
    "0 & -2 & 0 \\\\\n",
    "2 & 1 & 2 \\\\ \n",
    "\\end{bmatrix}\n",
    "$$"
   ]
  },
  {
   "cell_type": "code",
   "execution_count": 5,
   "id": "41af713e",
   "metadata": {},
   "outputs": [
    {
     "data": {
      "text/latex": [
       "$\\displaystyle \\left[\\begin{matrix}1048576 & 0 & 0\\\\0 & 1024 & 0\\\\1047552 & 0 & 1024\\end{matrix}\\right]$"
      ],
      "text/plain": [
       "⎡1048576   0     0  ⎤\n",
       "⎢                   ⎥\n",
       "⎢   0     1024   0  ⎥\n",
       "⎢                   ⎥\n",
       "⎣1047552   0    1024⎦"
      ]
     },
     "execution_count": 5,
     "metadata": {},
     "output_type": "execute_result"
    }
   ],
   "source": [
    "# Ví dụ 7\n",
    "A = Matrix([[4,0,0], [0,-2,0], [2,1,2]])\n",
    "P, D = A.diagonalize()\n",
    "# Tính lũy thừa bằng phương pháp thông thường\n",
    "A**10"
   ]
  },
  {
   "cell_type": "code",
   "execution_count": 3,
   "id": "ab294f37",
   "metadata": {},
   "outputs": [
    {
     "data": {
      "text/latex": [
       "$\\displaystyle \\left[\\begin{matrix}1048576 & 0 & 0\\\\0 & 1024 & 0\\\\1047552 & 0 & 1024\\end{matrix}\\right]$"
      ],
      "text/plain": [
       "⎡1048576   0     0  ⎤\n",
       "⎢                   ⎥\n",
       "⎢   0     1024   0  ⎥\n",
       "⎢                   ⎥\n",
       "⎣1047552   0    1024⎦"
      ]
     },
     "execution_count": 3,
     "metadata": {},
     "output_type": "execute_result"
    }
   ],
   "source": [
    "# Dùng chéo hóa ma trận\n",
    "P @ D**10 @ P.inv()"
   ]
  },
  {
   "cell_type": "code",
   "execution_count": null,
   "id": "e9591659",
   "metadata": {},
   "outputs": [],
   "source": []
  }
 ],
 "metadata": {
  "kernelspec": {
   "display_name": "Python 3 (ipykernel)",
   "language": "python",
   "name": "python3"
  },
  "language_info": {
   "codemirror_mode": {
    "name": "ipython",
    "version": 3
   },
   "file_extension": ".py",
   "mimetype": "text/x-python",
   "name": "python",
   "nbconvert_exporter": "python",
   "pygments_lexer": "ipython3",
   "version": "3.9.7"
  }
 },
 "nbformat": 4,
 "nbformat_minor": 5
}
