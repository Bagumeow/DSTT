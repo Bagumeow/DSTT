{
 "cells": [
  {
   "cell_type": "markdown",
   "id": "0b68b532",
   "metadata": {},
   "source": [
    "Find the SVD of $A$, $UΣV^T$\n",
    ", where $A =\\begin{pmatrix}\n",
    "3 &2  &2 \\\\ \n",
    " 2&3  &-2 \n",
    "\\end{pmatrix}$"
   ]
  },
  {
   "cell_type": "code",
   "execution_count": 1,
   "id": "58486e19",
   "metadata": {},
   "outputs": [],
   "source": [
    "import numpy as np\n",
    "from scipy import linalg\n",
    "import sympy as sp"
   ]
  },
  {
   "cell_type": "code",
   "execution_count": null,
   "id": "ecb6e0ff",
   "metadata": {},
   "outputs": [],
   "source": []
  },
  {
   "cell_type": "code",
   "execution_count": 2,
   "id": "36a756d1",
   "metadata": {
    "scrolled": true
   },
   "outputs": [
    {
     "data": {
      "text/plain": [
       "(array([[17,  8],\n",
       "        [ 8, 17]]),\n",
       " array([[13, 12,  2],\n",
       "        [12, 13, -2],\n",
       "        [ 2, -2,  8]]))"
      ]
     },
     "execution_count": 2,
     "metadata": {},
     "output_type": "execute_result"
    }
   ],
   "source": [
    "A= np.array([[3,2,2],\n",
    "             [2,3,-2]])\n",
    "AAT=A@A.T\n",
    "ATA=A.T@A\n",
    "AAT,ATA"
   ]
  },
  {
   "cell_type": "code",
   "execution_count": null,
   "id": "604c9e5b",
   "metadata": {},
   "outputs": [],
   "source": []
  },
  {
   "cell_type": "code",
   "execution_count": 3,
   "id": "3084d192",
   "metadata": {},
   "outputs": [
    {
     "data": {
      "text/plain": [
       "(array([25.,  9.]),\n",
       " array([[ 0.70710678, -0.70710678],\n",
       "        [ 0.70710678,  0.70710678]]))"
      ]
     },
     "execution_count": 3,
     "metadata": {},
     "output_type": "execute_result"
    }
   ],
   "source": [
    "a,b = np.linalg.eig(AAT) \n",
    "a,b"
   ]
  },
  {
   "cell_type": "code",
   "execution_count": 6,
   "id": "2ddb212d",
   "metadata": {},
   "outputs": [
    {
     "data": {
      "text/plain": [
       "array([[13, 12,  2],\n",
       "       [12, 13, -2],\n",
       "       [ 2, -2,  8]])"
      ]
     },
     "execution_count": 6,
     "metadata": {},
     "output_type": "execute_result"
    }
   ],
   "source": [
    "ATA"
   ]
  },
  {
   "cell_type": "code",
   "execution_count": 4,
   "id": "8a192f25",
   "metadata": {},
   "outputs": [
    {
     "data": {
      "text/plain": [
       "(array([2.50000000e+01, 3.52669283e-15, 9.00000000e+00]),\n",
       " array([[-7.07106781e-01, -6.66666667e-01,  2.35702260e-01],\n",
       "        [-7.07106781e-01,  6.66666667e-01, -2.35702260e-01],\n",
       "        [-4.33680869e-17,  3.33333333e-01,  9.42809042e-01]]))"
      ]
     },
     "execution_count": 4,
     "metadata": {},
     "output_type": "execute_result"
    }
   ],
   "source": [
    "np.linalg.eig(ATA)"
   ]
  },
  {
   "cell_type": "code",
   "execution_count": 7,
   "id": "c79529b7",
   "metadata": {},
   "outputs": [
    {
     "data": {
      "text/plain": [
       "(array([[ 0.70710678, -0.70710678],\n",
       "        [ 0.70710678,  0.70710678]]),\n",
       " array([5., 3.]),\n",
       " array([[ 7.07106781e-01,  7.07106781e-01,  3.88578059e-16],\n",
       "        [-2.35702260e-01,  2.35702260e-01, -9.42809042e-01],\n",
       "        [-6.66666667e-01,  6.66666667e-01,  3.33333333e-01]]))"
      ]
     },
     "execution_count": 7,
     "metadata": {},
     "output_type": "execute_result"
    }
   ],
   "source": [
    "U,S,V=linalg.svd(A)\n",
    "U,S,V"
   ]
  },
  {
   "cell_type": "code",
   "execution_count": 22,
   "id": "4a508d23",
   "metadata": {},
   "outputs": [
    {
     "data": {
      "text/plain": [
       "array([[ 3.,  2.,  2.],\n",
       "       [ 2.,  3., -2.]])"
      ]
     },
     "execution_count": 22,
     "metadata": {},
     "output_type": "execute_result"
    }
   ],
   "source": [
    "U@linalg.diagsvd(S,2,3)@V"
   ]
  },
  {
   "cell_type": "code",
   "execution_count": null,
   "id": "7848e5d9",
   "metadata": {},
   "outputs": [],
   "source": [
    "from sympy.abc import x,y,z\n",
    "A=sp.Matrix([[-12*x,12*y,2*z],\n",
    "             [12*x,-12*y,-2*z],\n",
    "             [2*x,]])"
   ]
  }
 ],
 "metadata": {
  "kernelspec": {
   "display_name": "Python 3 (ipykernel)",
   "language": "python",
   "name": "python3"
  },
  "language_info": {
   "codemirror_mode": {
    "name": "ipython",
    "version": 3
   },
   "file_extension": ".py",
   "mimetype": "text/x-python",
   "name": "python",
   "nbconvert_exporter": "python",
   "pygments_lexer": "ipython3",
   "version": "3.9.7"
  }
 },
 "nbformat": 4,
 "nbformat_minor": 5
}
