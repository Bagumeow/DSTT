{
 "cells": [
  {
   "cell_type": "markdown",
   "id": "0b68b532",
   "metadata": {},
   "source": [
    "Find the SVD of $A$, $UΣV^T$\n",
    ", where $A =\\begin{pmatrix}\n",
    "3 &2  &2 \\\\ \n",
    " 2&3  &-2 \n",
    "\\end{pmatrix}$"
   ]
  },
  {
   "cell_type": "code",
   "execution_count": 2,
   "id": "58486e19",
   "metadata": {},
   "outputs": [],
   "source": [
    "import numpy as np\n",
    "from scipy import linalg\n",
    "import sympy as sp"
   ]
  },
  {
   "cell_type": "code",
   "execution_count": 9,
   "id": "36a756d1",
   "metadata": {
    "scrolled": true
   },
   "outputs": [
    {
     "data": {
      "text/plain": [
       "(array([[17,  8],\n",
       "        [ 8, 17]]),\n",
       " array([[13, 12,  2],\n",
       "        [12, 13, -2],\n",
       "        [ 2, -2,  8]]))"
      ]
     },
     "execution_count": 9,
     "metadata": {},
     "output_type": "execute_result"
    }
   ],
   "source": [
    "A= np.array([[3,2,2],\n",
    "             [2,3,-2]])\n",
    "AAT=A@A.T\n",
    "ATA=A.T@A\n",
    "AAT,ATA"
   ]
  },
  {
   "cell_type": "code",
   "execution_count": 13,
   "id": "0b81859a",
   "metadata": {},
   "outputs": [
    {
     "data": {
      "text/plain": [
       "(Matrix([\n",
       " [17,  8],\n",
       " [ 8, 17]]),\n",
       " Matrix([\n",
       " [13, 12,  2],\n",
       " [12, 13, -2],\n",
       " [ 2, -2,  8]]))"
      ]
     },
     "execution_count": 13,
     "metadata": {},
     "output_type": "execute_result"
    }
   ],
   "source": [
    "a=sp.Matrix([[3,2,2],\n",
    "             [2,3,-2]])\n",
    "aat=a@a.T\n",
    "ata = a.T@a\n",
    "aat,ata"
   ]
  },
  {
   "cell_type": "code",
   "execution_count": 14,
   "id": "69ac8888",
   "metadata": {},
   "outputs": [
    {
     "data": {
      "text/plain": [
       "(Matrix([\n",
       " [-1, 1],\n",
       " [ 1, 1]]),\n",
       " Matrix([\n",
       " [9,  0],\n",
       " [0, 25]]))"
      ]
     },
     "execution_count": 14,
     "metadata": {},
     "output_type": "execute_result"
    }
   ],
   "source": [
    "aat.diagonalize()"
   ]
  },
  {
   "cell_type": "code",
   "execution_count": 16,
   "id": "9a1e22c2",
   "metadata": {},
   "outputs": [
    {
     "data": {
      "text/plain": [
       "(Matrix([\n",
       " [-2,  1, 1],\n",
       " [ 2, -1, 1],\n",
       " [ 1,  4, 0]]),\n",
       " Matrix([\n",
       " [0, 0,  0],\n",
       " [0, 9,  0],\n",
       " [0, 0, 25]]))"
      ]
     },
     "execution_count": 16,
     "metadata": {},
     "output_type": "execute_result"
    }
   ],
   "source": [
    "ata.diagonalize()"
   ]
  },
  {
   "cell_type": "code",
   "execution_count": 23,
   "id": "c79529b7",
   "metadata": {},
   "outputs": [
    {
     "data": {
      "text/plain": [
       "(array([[ 0.70710678, -0.70710678],\n",
       "        [ 0.70710678,  0.70710678]]),\n",
       " array([5., 3.]),\n",
       " array([[ 7.07106781e-01,  7.07106781e-01,  3.88578059e-16],\n",
       "        [-2.35702260e-01,  2.35702260e-01, -9.42809042e-01],\n",
       "        [-6.66666667e-01,  6.66666667e-01,  3.33333333e-01]]),\n",
       " array([[ 7.07106781e-01, -2.35702260e-01, -6.66666667e-01],\n",
       "        [ 7.07106781e-01,  2.35702260e-01,  6.66666667e-01],\n",
       "        [ 3.88578059e-16, -9.42809042e-01,  3.33333333e-01]]))"
      ]
     },
     "execution_count": 23,
     "metadata": {},
     "output_type": "execute_result"
    }
   ],
   "source": [
    "U,S,V=linalg.svd(A)\n",
    "U,S,V,V.T"
   ]
  },
  {
   "cell_type": "code",
   "execution_count": 22,
   "id": "4a508d23",
   "metadata": {},
   "outputs": [
    {
     "data": {
      "text/plain": [
       "array([[ 3.,  2.,  2.],\n",
       "       [ 2.,  3., -2.]])"
      ]
     },
     "execution_count": 22,
     "metadata": {},
     "output_type": "execute_result"
    }
   ],
   "source": [
    "U@linalg.diagsvd(S,2,3)@V"
   ]
  },
  {
   "cell_type": "code",
   "execution_count": null,
   "id": "7848e5d9",
   "metadata": {},
   "outputs": [],
   "source": []
  }
 ],
 "metadata": {
  "kernelspec": {
   "display_name": "Python 3 (ipykernel)",
   "language": "python",
   "name": "python3"
  },
  "language_info": {
   "codemirror_mode": {
    "name": "ipython",
    "version": 3
   },
   "file_extension": ".py",
   "mimetype": "text/x-python",
   "name": "python",
   "nbconvert_exporter": "python",
   "pygments_lexer": "ipython3",
   "version": "3.9.7"
  }
 },
 "nbformat": 4,
 "nbformat_minor": 5
}
