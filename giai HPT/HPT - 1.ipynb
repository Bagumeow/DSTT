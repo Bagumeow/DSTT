{
 "cells": [
  {
   "cell_type": "markdown",
   "id": "84796e1d",
   "metadata": {},
   "source": [
    "# <center>Giải hệ phương trình tuyến tính và thuật giải Gauss</center> "
   ]
  },
  {
   "cell_type": "markdown",
   "id": "52fe72e3",
   "metadata": {},
   "source": [
    "## Giải hệ phương trình tuyến tính"
   ]
  },
  {
   "cell_type": "markdown",
   "id": "bc061fcb",
   "metadata": {},
   "source": [
    "### Giải hệ Cramer"
   ]
  },
  {
   "cell_type": "markdown",
   "id": "78aac64e",
   "metadata": {},
   "source": [
    "Ví dụ: Giải hệ phương trình:\n",
    "$$2x−y−z=4$$\n",
    "$$3x+4y−2z=11$$\n",
    "$$3x−2y+4z=11$$"
   ]
  },
  {
   "cell_type": "markdown",
   "id": "59798b1e",
   "metadata": {},
   "source": [
    "### Dùng phương trình ma trận để tìm X:\n",
    "$$AX = b \\Leftrightarrow X=A^{−1} b$$"
   ]
  },
  {
   "cell_type": "code",
   "execution_count": 1,
   "id": "199bae0d",
   "metadata": {},
   "outputs": [
    {
     "name": "stdout",
     "output_type": "stream",
     "text": [
      "[[3.]\n",
      " [1.]\n",
      " [1.]]\n"
     ]
    },
    {
     "data": {
      "text/plain": [
       "array([[ 4],\n",
       "       [11],\n",
       "       [11]])"
      ]
     },
     "execution_count": 1,
     "metadata": {},
     "output_type": "execute_result"
    }
   ],
   "source": [
    "import numpy as np\n",
    "import math\n",
    "from scipy.linalg import lu\n",
    "\n",
    "A = np.array([[2, -1, -1], # Ma trận A\n",
    "             [3, 4, -2],\n",
    "             [3, -2, 4]])\n",
    "b = np.array([4, 11, 11]).reshape(-1, 1) # Ma trận b\n",
    "x = np.linalg.inv(A) @ b # Ma trận x tính bằng công thức x = A^(−1) b\n",
    "print(x) # Kết quả nghiệm X\n",
    "b"
   ]
  },
  {
   "cell_type": "markdown",
   "id": "736d0cbe",
   "metadata": {},
   "source": [
    "Vậy, nghiệm của hệ phương trình: $$x_1=3; x_2=1; x_3=1$$"
   ]
  },
  {
   "cell_type": "markdown",
   "id": "7e977b05",
   "metadata": {},
   "source": [
    "### Dùng định thức:\n",
    "Nghiệm của hệ Cramer có dạng: $$x_{j}=\\frac{det(A_{j})}{det(A)}$$\n",
    "<br>$$2x−y−z=4$$\n",
    "$$3x+4y−2z=11$$\n",
    "$$3x−2y+4z=11$$"
   ]
  },
  {
   "cell_type": "code",
   "execution_count": 10,
   "id": "4dd8c476",
   "metadata": {
    "scrolled": true
   },
   "outputs": [
    {
     "name": "stdout",
     "output_type": "stream",
     "text": [
      "[[ 4 -1 -1]\n",
      " [11  4 -2]\n",
      " [11 -2  4]]\n",
      "[[ 2  4 -1]\n",
      " [ 3 11 -2]\n",
      " [ 3 11  4]]\n",
      "[[ 2 -1  4]\n",
      " [ 3  4 11]\n",
      " [ 3 -2 11]]\n",
      "x1 =  2.9999999999999982\n",
      "x2 =  1.0000000000000009\n",
      "x3 =  1.0\n"
     ]
    }
   ],
   "source": [
    "A = np.array([[2, -1, -1], # Ma trận A\n",
    "             [3, 4, -2],\n",
    "             [3, -2, 4]])\n",
    "b = np.array([4, 11, 11]).reshape(-1, 1) # Ma trận b\n",
    "\n",
    "A1 = np.hstack((b, A[:, 1:])) # Ma trận A1\n",
    "A2 = np.hstack((A[:, :1], b, A[:, 2:])) # Ma trận A2\n",
    "A3 = np.hstack((A[:, :2], b)) # Ma trận A3\n",
    "print(A1),print(A2),print(A3)\n",
    "\n",
    "print('x1 = ', np.linalg.det(A1) / np.linalg.det(A))\n",
    "print('x2 = ', np.linalg.det(A2) / np.linalg.det(A))\n",
    "print('x3 = ', np.linalg.det(A3) / np.linalg.det(A))"
   ]
  },
  {
   "cell_type": "code",
   "execution_count": 8,
   "id": "abf41ce6",
   "metadata": {
    "scrolled": true
   },
   "outputs": [
    {
     "data": {
      "text/plain": [
       "array([[ 4],\n",
       "       [11],\n",
       "       [11]])"
      ]
     },
     "execution_count": 8,
     "metadata": {},
     "output_type": "execute_result"
    }
   ],
   "source": [
    "b"
   ]
  },
  {
   "cell_type": "markdown",
   "id": "6ebabbfc",
   "metadata": {},
   "source": [
    "Vậy, nghiệm của hệ phương trình: $$x_1=3; x_2=1; x_3=1$$"
   ]
  },
  {
   "cell_type": "markdown",
   "id": "2dcca2c3",
   "metadata": {},
   "source": [
    "## Thuật giải Gauss <a class=\"anchor\" id=\"c1\"></a>"
   ]
  },
  {
   "cell_type": "markdown",
   "id": "0eefd7fa",
   "metadata": {},
   "source": [
    "###  Các bước thực hiện:\n",
    "* Viết ma trận mở rộng.\n",
    "* Sử dụng các phép biến đổi sơ cấp trên dòng để biến ma trận này về dạng ma trận bậc thang.\n",
    "* Xét xem hệ này rơi vào trường hợp nào (vô nghiệm, vô số nghiệm, nghiệm duy nhất).\n",
    "* Lập hệ phương trình tương ứng với ma trận bậc thang vừa tìm được.\n",
    "* Giải hệ ngược từ dưới lên trên."
   ]
  },
  {
   "cell_type": "code",
   "execution_count": 3,
   "id": "e38b5e4d",
   "metadata": {},
   "outputs": [],
   "source": [
    "def Gaussian_elimination(matrix): # Khai báo hàm thực hiện khử Gauss\n",
    "    zero_pos = []\n",
    "    for i in range(0, len(matrix)): # Tìm số lượng chữ số '0' từ trái sang phải của từng dòng\n",
    "        tmp_arr = []\n",
    "        if matrix[i][0] == 0:\n",
    "            tmp_arr.append(0)\n",
    "            j = 1\n",
    "            while j < len(matrix[i]) and matrix[i][j] == 0:\n",
    "                tmp_arr.append(j)\n",
    "                j += 1\n",
    "            zero_pos.append(len(tmp_arr))\n",
    "        else:\n",
    "            zero_pos.append(0)   \n",
    "\n",
    "    for i in range(0, len(matrix)):             # Các dòng được sắp xếp theo thứ tự: dòng nào có số lượng chữ số '0' từ trái sang phải\n",
    "        for j in range(i + 1, len(matrix)):     # nhiều nhất sẽ là dòng nằm cuối cùng của ma trận, giảm dần từ dưới lên trên\n",
    "            if zero_pos[i] > zero_pos[j]:       \n",
    "                matrix[i], matrix[j] = matrix[j], matrix[i]\n",
    "                zero_pos[i], zero_pos[j] = zero_pos[j], zero_pos[i]\n",
    "\n",
    "    for i in range(1, len(matrix)):\n",
    "        if zero_pos[i] > zero_pos[i - 1]:  # Dòng hiện tại phải có số lượng chữ số '0' từ trái sang phải lớn hơn dòng trước đó\n",
    "            continue                      \n",
    "        else: # Khử Gauss                            \n",
    "            for j in range(zero_pos[i], i):         \n",
    "                k = matrix[i][j] / matrix[j][j]\n",
    "                row = []\n",
    "                for m in matrix[j]:\n",
    "                    row.append(m * k)\n",
    "                for n in range(0, len(matrix[i])):\n",
    "                    matrix[i][n] -= row[n]"
   ]
  },
  {
   "cell_type": "markdown",
   "id": "7aff2436",
   "metadata": {},
   "source": [
    "### Ví dụ 1: Giải hệ phương trình:\n",
    "$$x_{1}+x_{2}+2x_{3}+3x_{4}=1$$\n",
    "$$3x_{1}-x_{2}-x_{3}-2x_{4}=-4$$\n",
    "$$2x_{1}+3x_{2}-x_{3}-x_{4}=-6$$\n",
    "$$x_{1}+2x_{2}+3x_{3}-x_{4}=-4$$"
   ]
  },
  {
   "cell_type": "code",
   "execution_count": 4,
   "id": "365a1fe2",
   "metadata": {},
   "outputs": [
    {
     "data": {
      "text/plain": [
       "array([[  1,   1,   2,   3,   1],\n",
       "       [  0,  -4,  -7, -11,  -7],\n",
       "       [  0,   0,  -6,  -9,  -9],\n",
       "       [  0,   0,   0,  -6,  -6]])"
      ]
     },
     "execution_count": 4,
     "metadata": {},
     "output_type": "execute_result"
    }
   ],
   "source": [
    "A = np.array([[1, 1, 2, 3], # Ma trận A\n",
    "             [3, -1, -1, -2],\n",
    "             [2, 3, -1, -1],\n",
    "             [1, 2, 3, -1]])\n",
    "b = np.array([1, -4, -6, -4]).reshape(-1, 1) # Ma trận b\n",
    "\n",
    "A_comma = np.hstack((A, b))\n",
    "\n",
    "Gaussian_elimination(A_comma)\n",
    "A_comma"
   ]
  },
  {
   "cell_type": "markdown",
   "id": "bda149a0",
   "metadata": {},
   "source": [
    "Ta có: rank(𝐴) = rank(𝐴’) = 4 nên hệ phương trình có nghiệm duy nhất.\n",
    "\n",
    "Từ ma trận trên, ta lập được hệ phương trình tương ứng:\n",
    "$$x_{1}+x_{2}+2x_{3}+3x_{4}=1$$\n",
    "$$4x_{2}+7x_{3}+11x_{4}=7$$\n",
    "$$6x_{3}+9x_{4}=9$$\n",
    "$$6x_{4}=6$$\n",
    "Vậy nghiệm của hệ phương trình là:\n",
    "$$x_{1}=-1$$\n",
    "$$x_{2}=-1$$\n",
    "$$x_{3}=0$$\n",
    "$$x_{4}=1$$"
   ]
  },
  {
   "cell_type": "markdown",
   "id": "af91e89b",
   "metadata": {},
   "source": [
    "### Ví dụ 2: Giải hệ phương trình:\n",
    "$$x+y-z=0$$\n",
    "$$2x+3y+z=1$$\n",
    "$$3x+y-9z=2$$"
   ]
  },
  {
   "cell_type": "code",
   "execution_count": 5,
   "id": "3fb3f819",
   "metadata": {},
   "outputs": [
    {
     "data": {
      "text/plain": [
       "array([[ 1,  1, -1,  0],\n",
       "       [ 0,  1,  3,  1],\n",
       "       [ 0,  0,  0,  4]])"
      ]
     },
     "execution_count": 5,
     "metadata": {},
     "output_type": "execute_result"
    }
   ],
   "source": [
    "A = np.array([[1, 1, -1], # Ma trận A\n",
    "             [2, 3, 1],\n",
    "             [3, 1, -9]])\n",
    "b = np.array([0, 1, 2]).reshape(-1, 1) # Ma trận b\n",
    "\n",
    "A_comma = np.hstack((A, b))\n",
    "\n",
    "Gaussian_elimination(A_comma)\n",
    "A_comma"
   ]
  },
  {
   "cell_type": "markdown",
   "id": "25a21849",
   "metadata": {},
   "source": [
    "Ta có rank(𝐴) = 2 < rank(𝐴’) = 3 nên hệ phương trình vô nghiệm"
   ]
  },
  {
   "cell_type": "markdown",
   "id": "782f5eae",
   "metadata": {},
   "source": [
    "### Ví dụ 3: Giải hệ phương trình:\n",
    "$$x+y-3z=1$$\n",
    "$$2x+y-5z=1$$\n",
    "$$x-3y+z=-3$$"
   ]
  },
  {
   "cell_type": "code",
   "execution_count": 6,
   "id": "aac2aa31",
   "metadata": {},
   "outputs": [
    {
     "data": {
      "text/plain": [
       "array([[ 1,  1, -3,  1],\n",
       "       [ 0, -1,  1, -1],\n",
       "       [ 0,  0,  0,  0]])"
      ]
     },
     "execution_count": 6,
     "metadata": {},
     "output_type": "execute_result"
    }
   ],
   "source": [
    "A = np.array([[1, 1, -3], # Ma trận A\n",
    "             [2, 1, -5],\n",
    "             [1, -3, 1]])\n",
    "b = np.array([1, 1, -3]).reshape(-1, 1) # Ma trận b\n",
    "\n",
    "A_comma = np.hstack((A, b))\n",
    "\n",
    "Gaussian_elimination(A_comma)\n",
    "A_comma"
   ]
  },
  {
   "cell_type": "markdown",
   "id": "e5023e90",
   "metadata": {},
   "source": [
    "Ta có rank(𝐴) = rank(𝐴′) = 2 < 3 nên hệ phương trình có vô số nghiệm phụ thuộc vào 3 – 2 = 1 tham số.\n",
    "\n",
    "Từ ma trận trên, ta lập được hệ phương trình tương ứng:\n",
    "$$x+y-3z=1$$\n",
    "$$y-z=1$$\n",
    "Vậy nghiệm của hệ phương trình là:\n",
    "$$x=2\\alpha$$\n",
    "$$y=1+\\alpha$$\n",
    "$$z=\\alpha, \\alpha\\in\\mathbb{R}$$"
   ]
  }
 ],
 "metadata": {
  "kernelspec": {
   "display_name": "Python 3 (ipykernel)",
   "language": "python",
   "name": "python3"
  },
  "language_info": {
   "codemirror_mode": {
    "name": "ipython",
    "version": 3
   },
   "file_extension": ".py",
   "mimetype": "text/x-python",
   "name": "python",
   "nbconvert_exporter": "python",
   "pygments_lexer": "ipython3",
   "version": "3.9.7"
  }
 },
 "nbformat": 4,
 "nbformat_minor": 5
}
