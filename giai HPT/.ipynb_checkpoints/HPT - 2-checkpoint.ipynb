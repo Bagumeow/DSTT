{
 "cells": [
  {
   "cell_type": "markdown",
   "id": "a453cc2f",
   "metadata": {},
   "source": [
    "# <center>Bài 1: Hệ Phương Trình Tuyến Tính Và Thuật Giải Gauss </center>"
   ]
  },
  {
   "cell_type": "markdown",
   "id": "b8c5a01c",
   "metadata": {},
   "source": [
    "## Mục lục\n",
    "* [Hệ phương trình tuyến tính](#c3)\n",
    "    * [Hệ phương trình tuyến tính tổng quát](#c3)\n",
    "    * [Định lý Kronecker Capelli](#c9)\n",
    "    * [Hệ phương trình tuyến tình thuần nhất](#c13)\n",
    "         * [Định lý 1](#c18)\n",
    "         * [Định lý 2](#c24)\n",
    "* [Giải thuật Gauss](#c28)\n",
    "    * [Các phép biển đổi sơ cấp trên dòng](#c28)\n",
    "    * [Phương pháp ma trận bậc thang](#c38)"
   ]
  },
  {
   "cell_type": "markdown",
   "id": "3ab40348",
   "metadata": {},
   "source": [
    "### Hệ phương trình tuyến tính có dạng tổng quát <a class=\"anchor\" id=\"c3\"></a>"
   ]
  },
  {
   "cell_type": "markdown",
   "id": "ba13cc0b",
   "metadata": {},
   "source": [
    "Ví dụ: Ta xét hệ phương trình:\n",
    "\n",
    "    3x1 + x2 + x3 =12\n",
    "    x1 + x3 = 16\n",
    "    2x1 + 5x2 = 20\n",
    "\n",
    "Chuyển đổi hệ phương trình trên về dạng AX=B"
   ]
  },
  {
   "cell_type": "code",
   "execution_count": 2,
   "id": "635565f5",
   "metadata": {},
   "outputs": [
    {
     "name": "stdout",
     "output_type": "stream",
     "text": [
      "[[3 1 1]\n",
      " [1 0 1]\n",
      " [2 5 0]]\n"
     ]
    }
   ],
   "source": [
    "import numpy as np\n",
    "A=np.array([[3, 1, 1],\n",
    "            [1, 0, 1],\n",
    "            [2, 5, 0]])\n",
    "print(A)"
   ]
  },
  {
   "cell_type": "code",
   "execution_count": 3,
   "id": "f8693590",
   "metadata": {},
   "outputs": [
    {
     "name": "stdout",
     "output_type": "stream",
     "text": [
      "[[12]\n",
      " [16]\n",
      " [20]]\n"
     ]
    }
   ],
   "source": [
    "B=np.array([12,16,20]).reshape(-1, 1)\n",
    "print(B)"
   ]
  },
  {
   "cell_type": "code",
   "execution_count": 4,
   "id": "a4788126",
   "metadata": {},
   "outputs": [
    {
     "name": "stdout",
     "output_type": "stream",
     "text": [
      "[['x1']\n",
      " ['x2']\n",
      " ['x3']]\n"
     ]
    }
   ],
   "source": [
    "X = np.array(['x1', 'x2', 'x3']).reshape(-1, 1)\n",
    "print(X)"
   ]
  },
  {
   "cell_type": "markdown",
   "id": "44ba18c6",
   "metadata": {},
   "source": [
    "Nếu ta chuyển đổi hệ phương trình ban đầu về dạng AX=B, vậy điều đó có hợp lý không?"
   ]
  },
  {
   "cell_type": "code",
   "execution_count": 5,
   "id": "a7880eb5",
   "metadata": {},
   "outputs": [
    {
     "name": "stdout",
     "output_type": "stream",
     "text": [
      "[[-5.]\n",
      " [ 6.]\n",
      " [21.]]\n"
     ]
    }
   ],
   "source": [
    "#Giả sử tập nghiệm X = [-5, 6, 21], ta có được tập X trên thông qua việc xài hàm solve, chưa áp dụng Gauss để giải.\n",
    "# Cập nhật tập X.\n",
    "X = np.linalg.solve(A, B)\n",
    "print(X)"
   ]
  },
  {
   "cell_type": "markdown",
   "id": "ba0cdd18",
   "metadata": {},
   "source": [
    "Ta sẽ sử dụng phép nhân ma trận để kiểm chứng đáp án trên bằng các tính AX, nếu AX = B, việc biến đổi là hợp lý."
   ]
  },
  {
   "cell_type": "code",
   "execution_count": 6,
   "id": "37aa5c92",
   "metadata": {
    "scrolled": true
   },
   "outputs": [
    {
     "name": "stdout",
     "output_type": "stream",
     "text": [
      "[[12.]\n",
      " [16.]\n",
      " [20.]]\n",
      "True\n"
     ]
    }
   ],
   "source": [
    "#Sử dụng phép nhân 2 ma trận có sẵn trong numpy thông qua toán tử @\n",
    "result = A@X\n",
    "print(result)\n",
    "if (result == B).all(): # kiểm tra xem 2 ma trận có giống nhau không thông qua .all\n",
    "    print('True')"
   ]
  },
  {
   "cell_type": "markdown",
   "id": "ca3a3a4b",
   "metadata": {},
   "source": [
    "$\\Rightarrow$ Việc biến đổi hệ phương trình về dạng ma trận AX=B là hợp lý."
   ]
  },
  {
   "cell_type": "markdown",
   "id": "52598feb",
   "metadata": {},
   "source": [
    "### Kronecker Capelli <a class=\"anchor\" id=\"c9\"></a>"
   ]
  },
  {
   "cell_type": "markdown",
   "id": "e69502e0",
   "metadata": {},
   "source": [
    "$AX=B$, có nghiệm khi vào chỉ khi $r(A) = r(A-)$, với $A- = A|B$ là ma trận bổ sung: <br>\n",
    "$r(A)=n$, với $n$ là số ẩn $\\rightarrow$ Nghiệm duy nhất. <br>\n",
    "$r(A)<n$, với $n$ là số ẩn $\\rightarrow$ Vô số nghiệm. <br>\n",
    "Không tồn tại trường hợp $r(A)>n$."
   ]
  },
  {
   "cell_type": "markdown",
   "id": "1e1ac195",
   "metadata": {},
   "source": [
    "Lấy tiếp tục ma trận A ở ví dụ trước để xem ma trận A có nghiệm hay không, và nếu có thì là vô sô nghiệm hay nghiệp duy nhất"
   ]
  },
  {
   "cell_type": "code",
   "execution_count": 30,
   "id": "90afe802",
   "metadata": {},
   "outputs": [],
   "source": [
    "#Ví dụ 1: Lấy sẵn ma trận ở ví dụ trước. \n",
    "#Bước đầu: Ta cần kiểm tra xem r(A) == r(A-) ??\n",
    "A_ = np.append(A, B, axis = 1)\n",
    "rank_A = np.linalg.matrix_rank(A)\n",
    "rank_A_ = np.linalg.matrix_rank(A_)\n",
    "\n",
    "# ví dụ 2:\n",
    "A1 = np.array([[1, 1, 1],\n",
    "             [2, 3, -10],\n",
    "             [3, 4, -9]])\n",
    "B1 = np.array([-10, -20, -30]).reshape(-1, 1)\n",
    "rank_A1 = np.linalg.matrix_rank(A1)\n",
    "A1_ = np.append(A1, B1, axis = 1)\n",
    "rank_A1_ = np.linalg.matrix_rank(A1_)"
   ]
  },
  {
   "cell_type": "code",
   "execution_count": 31,
   "id": "e59a196a",
   "metadata": {},
   "outputs": [],
   "source": [
    "# hàm kiểm tra xem có tồn tại tập nghiệm X hay không.\n",
    "def check_exist_test(rank_A, rank_A_, X):\n",
    "    if rank_A_ == rank_A: # nếu có nghiệm sẽ kiểm tra tiếp xem là vô số nghiệm hay nghiệm duy nhất\n",
    "        print('Hệ phương trình có nghiệm')\n",
    "\n",
    "        #lấy số ẩn thông qua độ dài của m trận X.\n",
    "        n = len(X)\n",
    "\n",
    "        #kiểm tra rank_a và n\n",
    "        if rank_A == n:\n",
    "            print('Có nghiệm duy nhất')\n",
    "        else:\n",
    "            print('Có vô số nghiệm')\n",
    "    else:\n",
    "        print('Hệ phương trình không có nghiệm')"
   ]
  },
  {
   "cell_type": "code",
   "execution_count": 32,
   "id": "d70193fc",
   "metadata": {},
   "outputs": [
    {
     "name": "stdout",
     "output_type": "stream",
     "text": [
      "Hệ phương trình có nghiệm\n",
      "Có nghiệm duy nhất\n",
      "Hệ phương trình có nghiệm\n",
      "Có vô số nghiệm\n"
     ]
    }
   ],
   "source": [
    "check_exist_test(rank_A, rank_A_, X) # kiểm tra ví dụ 1\n",
    "check_exist_test(rank_A1, rank_A1_, X)# kiểm tra ví dụ 2."
   ]
  },
  {
   "cell_type": "markdown",
   "id": "708ca096",
   "metadata": {},
   "source": [
    "$\\Rightarrow$ định lý Kronecker Capelli  cho ta biết được phương trình có nghiệm hay không và nếu có là vô số nghiệm hay nghiệm duy nhất."
   ]
  },
  {
   "cell_type": "markdown",
   "id": "b8c1651c",
   "metadata": {},
   "source": [
    "### Hệ phương trình tuyến tính thuần nhất <a class=\"anchor\" id=\"c13\"></a>"
   ]
  },
  {
   "cell_type": "markdown",
   "id": "8e1491b0",
   "metadata": {},
   "source": [
    "Là một dạng đặc biệt của phương trình tuyến tinhs tổng quát với các hệ số tự do = 0 (Ma trận B = [0, 0, 0, .., 0])"
   ]
  },
  {
   "cell_type": "markdown",
   "id": "17b81d7b",
   "metadata": {},
   "source": [
    "Có dạng AX = 0, co những tính chất sau đây:\n",
    "    \n",
    "    Nghiệm tầm thường = (0, 0, 0, ..., 0)\n",
    "    Nghiệm tầm thường luôn là nghiệm của hệ phương trình (bất kỳ số nào nhân vớ 0 đều = 0)\n",
    "    r(A) = r(A-) là điều chắc chắn."
   ]
  },
  {
   "cell_type": "markdown",
   "id": "d71985f5",
   "metadata": {},
   "source": [
    "Xét 2 hệ phương trình AX=B(1) và AX=0 (2), với:\n",
    "\n",
    "        x + y + z = -10                          x + y + z = 0\n",
    "    (1) 2x + 3y - 10z = -20                  (2) 2x + 3y - 10z = 0\n",
    "        3x + 4y - 9z = -30                       3x + 4y - 9z = 0"
   ]
  },
  {
   "cell_type": "code",
   "execution_count": 33,
   "id": "4b2ed6a6",
   "metadata": {},
   "outputs": [],
   "source": [
    "#khởi tạo 3 ma trận\n",
    "A = np.array([[1, 1, 1],\n",
    "             [2, 3, -10],\n",
    "             [3, 4, -9]])\n",
    "B = np.array([-10, -20, -30]).reshape(-1, 1)\n",
    "B1 = np.array([0, 0, 0]).reshape(-1, 1)"
   ]
  },
  {
   "cell_type": "markdown",
   "id": "e7292aeb",
   "metadata": {},
   "source": [
    "#### Định lý 1: Hiệu 2 nghiệm bất kỳ của (1) là nghiệm của (2) <a class=\"anchor\" id=\"c18\"></a>"
   ]
  },
  {
   "cell_type": "markdown",
   "id": "70ed72c2",
   "metadata": {},
   "source": [
    "Ta dễ thấy 2 hệ phương trình trên có vô số nghiệm do phương trình thứ 3 bằng phương trình 1 + phương trình 2, do đó nghiệm của hệ phương tình sẽ phụ thuộc vào 1 biến (giả sử ở đây là biến z)"
   ]
  },
  {
   "cell_type": "code",
   "execution_count": 34,
   "id": "ff2b7405",
   "metadata": {},
   "outputs": [
    {
     "name": "stdout",
     "output_type": "stream",
     "text": [
      "[[-75.]\n",
      " [ 60.]\n",
      " [  5.]]\n"
     ]
    }
   ],
   "source": [
    "#Giả sử như z = 5 --> x, y = ?\n",
    "tmp = np.array([[1, 1],\n",
    "                [2, 3]])\n",
    "ans = np.array([-10-5, -20+5*10]).reshape(-1, 1)\n",
    "X1 = np.linalg.solve(tmp, ans)\n",
    "X1 = np.append(X1, [5]).reshape(-1, 1)\n",
    "print(X1)"
   ]
  },
  {
   "cell_type": "code",
   "execution_count": 35,
   "id": "b9ca05b2",
   "metadata": {},
   "outputs": [
    {
     "name": "stdout",
     "output_type": "stream",
     "text": [
      "[[-88.]\n",
      " [ 72.]\n",
      " [  6.]]\n"
     ]
    }
   ],
   "source": [
    "#Giả sử như z = 6 --> x, y = ?\n",
    "ans = np.array([-10-6, -20+6*10]).reshape(-1, 1)\n",
    "X2 = np.linalg.solve(tmp, ans)\n",
    "X2 = np.append(X2, [6]).reshape(-1, 1)\n",
    "print(X2)"
   ]
  },
  {
   "cell_type": "code",
   "execution_count": 36,
   "id": "4617120c",
   "metadata": {},
   "outputs": [
    {
     "name": "stdout",
     "output_type": "stream",
     "text": [
      "[[ 13.]\n",
      " [-12.]\n",
      " [ -1.]]\n"
     ]
    }
   ],
   "source": [
    "# hiệu 2 nghiệm:\n",
    "alpha = X1 - X2\n",
    "print(alpha)"
   ]
  },
  {
   "cell_type": "code",
   "execution_count": 37,
   "id": "c082e702",
   "metadata": {},
   "outputs": [
    {
     "name": "stdout",
     "output_type": "stream",
     "text": [
      "Định lý 1 đúng\n"
     ]
    }
   ],
   "source": [
    "# kiểm xem alpha có phải là nghiệm của hay không bừng cách sử dụng tích 2 ma trận.\n",
    "if (A@alpha == B1).all():\n",
    "    print('Định lý 1 đúng')\n",
    "else:\n",
    "    print('Định lý 1 sai')"
   ]
  },
  {
   "cell_type": "markdown",
   "id": "9b18ae99",
   "metadata": {},
   "source": [
    "#### Định lý 2: Tổng 1 nghiệm bất kỳ của (1) và 1 nghiệm bất kỳ của (2) là 1 nghiệm của (1). <a class=\"anchor\" id=\"c24\"></a>"
   ]
  },
  {
   "cell_type": "markdown",
   "id": "b3586330",
   "metadata": {},
   "source": [
    "Ta sẽ lấy kết quả ở trên:\n",
    "\n",
    "    Xem alpha là nghiệm của (2).\n",
    "    Chọn X1 là nghiệm của (1)"
   ]
  },
  {
   "cell_type": "code",
   "execution_count": 38,
   "id": "106be690",
   "metadata": {},
   "outputs": [
    {
     "name": "stdout",
     "output_type": "stream",
     "text": [
      "[[-62.]\n",
      " [ 48.]\n",
      " [  4.]]\n"
     ]
    }
   ],
   "source": [
    "#Tổng 2 nghiệm là:\n",
    "beta = alpha + X1\n",
    "print(beta)"
   ]
  },
  {
   "cell_type": "code",
   "execution_count": 39,
   "id": "cd739478",
   "metadata": {},
   "outputs": [
    {
     "name": "stdout",
     "output_type": "stream",
     "text": [
      "Định lý 2 đúng\n"
     ]
    }
   ],
   "source": [
    "# kiểm tra xem beat có là tập nghiệm của (1) hay không, kiểm tra bằng cách nhân ma trận.\n",
    "if (A@beta == B).all():\n",
    "    print('Định lý 2 đúng')\n",
    "else:\n",
    "    print('Định lý 2 sai')"
   ]
  },
  {
   "cell_type": "markdown",
   "id": "505a8d99",
   "metadata": {},
   "source": [
    "### Giải thuật Gauss <a class=\"anchor\" id=\"c28\"></a>"
   ]
  },
  {
   "cell_type": "markdown",
   "id": "fa501757",
   "metadata": {},
   "source": [
    "### Các phép biến đổi sơ cấp trên dòng <a class=\"anchor\" id=\"c29\"></a>"
   ]
  },
  {
   "cell_type": "markdown",
   "id": "314a5df7",
   "metadata": {},
   "source": [
    "Yêu cầu là biến đổi ma trận C thành ma trận D thông qua các phép biến đổi sơ cấp trên dòng."
   ]
  },
  {
   "cell_type": "code",
   "execution_count": 40,
   "id": "0c1c7b96",
   "metadata": {},
   "outputs": [
    {
     "name": "stdout",
     "output_type": "stream",
     "text": [
      "[[ 8 -2  3  1]\n",
      " [ 1  3  2  5]\n",
      " [ 7  2  6  4]]\n"
     ]
    }
   ],
   "source": [
    "# Ma trận C\n",
    "C = np.array([[8, -2, 3, 1],\n",
    "              [1, 3, 2, 5],\n",
    "              [7, 2, 6, 4]])\n",
    "print(C)"
   ]
  },
  {
   "cell_type": "code",
   "execution_count": 41,
   "id": "87a6cae2",
   "metadata": {},
   "outputs": [
    {
     "name": "stdout",
     "output_type": "stream",
     "text": [
      "[[  1   3   2   5]\n",
      " [  0   2   1   3]\n",
      " [  0 -19  -8 -31]]\n"
     ]
    }
   ],
   "source": [
    "#Ma trận D\n",
    "D = np.array([[1, 3, 2, 5],\n",
    "              [0, 2, 1, 3],\n",
    "              [0, -19, -8, -31]])\n",
    "print(D)"
   ]
  },
  {
   "cell_type": "code",
   "execution_count": 42,
   "id": "e1395f8b",
   "metadata": {},
   "outputs": [
    {
     "name": "stdout",
     "output_type": "stream",
     "text": [
      "[[ 1  3  2  5]\n",
      " [ 8 -2  3  1]\n",
      " [ 7  2  6  4]]\n"
     ]
    }
   ],
   "source": [
    "#b1: swap 2 dòng đầu với nhau\n",
    "C[[0, 1]] = C[[1, 0]]\n",
    "print(C)"
   ]
  },
  {
   "cell_type": "code",
   "execution_count": 43,
   "id": "bb22a023",
   "metadata": {},
   "outputs": [
    {
     "name": "stdout",
     "output_type": "stream",
     "text": [
      "[[  1   3   2   5]\n",
      " [  0 -26 -13 -39]\n",
      " [  0 -19  -8 -31]]\n"
     ]
    }
   ],
   "source": [
    "#b2: lấy tỷ lệ phần tử đầu của từng hàng chia cho phần tử đầu của hàng đầu tiên, ratio = c[i][0] / c[0][0]\n",
    "for i in range(1, len(C)):\n",
    "    ratio = C[i][0]/C[0][0]\n",
    "    C[i] = C[i] - C[0]*ratio\n",
    "print(C)"
   ]
  },
  {
   "cell_type": "code",
   "execution_count": 44,
   "id": "b9cec8c6",
   "metadata": {},
   "outputs": [
    {
     "name": "stdout",
     "output_type": "stream",
     "text": [
      "[[  1   3   2   5]\n",
      " [  0   2   1   3]\n",
      " [  0 -19  -8 -31]]\n"
     ]
    }
   ],
   "source": [
    "#b3: rút gọn dòng 2 với -13\n",
    "C[1]= C[1]/-13\n",
    "print(C)\n"
   ]
  },
  {
   "cell_type": "code",
   "execution_count": 45,
   "id": "f9467544",
   "metadata": {},
   "outputs": [
    {
     "name": "stdout",
     "output_type": "stream",
     "text": [
      "Ma trận C sau khi biến đổi khớp với ma trận D\n"
     ]
    }
   ],
   "source": [
    "#so sánh với ma trận D\n",
    "if (C==D).all():\n",
    "    print('Ma trận C sau khi biến đổi khớp với ma trận D')\n",
    "else:\n",
    "    print('Ma trận C không khớp ma trận D')"
   ]
  },
  {
   "cell_type": "markdown",
   "id": "d816d235",
   "metadata": {},
   "source": [
    "### Phương pháp ma trận bậc thang (Gauss) <a class=\"anchor\" id=\"c38\"></a>\n"
   ]
  },
  {
   "cell_type": "markdown",
   "id": "4cda0688",
   "metadata": {},
   "source": [
    "Để biến đổi bằng tay từng bức như ở trên rất mất thời gian do đó, ta có thể sử dụng hàm có sẵn trong `from scipy.linalg import lu`"
   ]
  },
  {
   "cell_type": "code",
   "execution_count": 46,
   "id": "7e69f8ee",
   "metadata": {},
   "outputs": [],
   "source": [
    "from scipy.linalg import lu #dùng hàm có sẵn để đưa veef dạng ma trận bậc thang\n",
    "# cách làm từ thư viện trên thao khảo tử: https://stackoverflow.com/questions/15638650/is-there-a-standard-solution-for-gauss-elimination-in-python"
   ]
  },
  {
   "cell_type": "code",
   "execution_count": 47,
   "id": "d5f9ce11",
   "metadata": {},
   "outputs": [
    {
     "name": "stdout",
     "output_type": "stream",
     "text": [
      "[[ 1  1  1  2]\n",
      " [ 0  1  3 -5]\n",
      " [ 1  1  0 -2]]\n"
     ]
    }
   ],
   "source": [
    "#Ta có ma trận Z.\n",
    "Z= np.array([[1, 1, 1, 2],\n",
    "             [0, 1, 3, -5],\n",
    "             [1, 1, 0, -2]])\n",
    "print(Z)"
   ]
  },
  {
   "cell_type": "code",
   "execution_count": 48,
   "id": "6c7ec00c",
   "metadata": {},
   "outputs": [
    {
     "name": "stdout",
     "output_type": "stream",
     "text": [
      "[[ 1.  1.  1.  2.]\n",
      " [ 0.  1.  3. -5.]\n",
      " [ 0.  0. -1. -4.]]\n"
     ]
    }
   ],
   "source": [
    "pl, gauss_matrix = lu(Z, permute_l=True)\n",
    "print(gauss_matrix)"
   ]
  },
  {
   "cell_type": "markdown",
   "id": "1186fc26",
   "metadata": {},
   "source": [
    "$\\Rightarrow$ vậy thành công đưa về dạng bậc thang."
   ]
  }
 ],
 "metadata": {
  "kernelspec": {
   "display_name": "Python 3 (ipykernel)",
   "language": "python",
   "name": "python3"
  },
  "language_info": {
   "codemirror_mode": {
    "name": "ipython",
    "version": 3
   },
   "file_extension": ".py",
   "mimetype": "text/x-python",
   "name": "python",
   "nbconvert_exporter": "python",
   "pygments_lexer": "ipython3",
   "version": "3.9.7"
  }
 },
 "nbformat": 4,
 "nbformat_minor": 5
}
